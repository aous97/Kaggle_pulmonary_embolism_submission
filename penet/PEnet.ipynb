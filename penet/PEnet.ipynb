{
 "cells": [
  {
   "cell_type": "code",
   "execution_count": 2,
   "metadata": {},
   "outputs": [],
   "source": [
    "import numpy as np\n",
    "from PIL import Image\n",
    "import os\n",
    "from tqdm import tqdm\n",
    "import cv2\n",
    "import time\n",
    "import pandas as pd\n",
    "import torchvision\n",
    "import torch\n",
    "import torchvision.transforms as transforms\n",
    "import sys\n",
    "\n",
    "\n",
    "import torch.nn as nn\n",
    "import torch.nn.functional as F\n",
    "from torch.utils.data.sampler import SubsetRandomSampler\n",
    "import torch.optim as optim\n",
    "from tqdm import tqdm_notebook , tnrange\n",
    "\n",
    "import torch.utils.model_zoo as model_zoo\n",
    "import torchvision.models as models\n",
    "from torchvision import datasets\n",
    "from tqdm.notebook import *\n",
    "from torchcontrib.optim import SWA\n",
    "\n",
    "import time\n",
    "import matplotlib.pyplot as plt\n",
    "\n",
    "transform = transforms.Compose([\n",
    "      transforms.ToTensor(),\n",
    "      transforms.Normalize(mean=[0.43216, 0.394666, 0.37645],\n",
    "                            std=[0.22803, 0.22145, 0.216989])\n",
    "])\n",
    "trans1 = transforms.ToPILImage()"
   ]
  },
  {
   "cell_type": "code",
   "execution_count": 3,
   "metadata": {},
   "outputs": [],
   "source": [
    "import math\n",
    "import torch\n",
    "import torch.nn as nn\n",
    "import util\n",
    "\n",
    "from models.layers.penet import *\n",
    "\n",
    "\n",
    "class PENetClassifier(nn.Module):\n",
    "    \"\"\"PENet stripped down for classification.\n",
    "\n",
    "    The idea is to pre-train this network, then use the pre-trained\n",
    "    weights for the encoder in a full PENet.\n",
    "    \"\"\"\n",
    "\n",
    "    def __init__(self, model_depth, cardinality=32, num_channels=3, num_classes=600, init_method=None, **kwargs):\n",
    "        super(PENetClassifier, self).__init__()\n",
    "\n",
    "        self.in_channels = 64\n",
    "        self.model_depth = model_depth\n",
    "        self.cardinality = cardinality\n",
    "        self.num_channels = num_channels\n",
    "        self.num_classes = num_classes\n",
    "\n",
    "        self.in_conv = nn.Sequential(nn.Conv3d(self.num_channels, self.in_channels, kernel_size=7,\n",
    "                                               stride=(1, 2, 2), padding=(3, 3, 3), bias=False),\n",
    "                                     nn.GroupNorm(self.in_channels // 16, self.in_channels),\n",
    "                                     nn.LeakyReLU(inplace=True))\n",
    "        self.max_pool = nn.MaxPool3d(kernel_size=(3, 3, 3), stride=2, padding=1)\n",
    "\n",
    "        # Encoders\n",
    "        if model_depth != 50:\n",
    "            raise ValueError('Unsupported model depth: {}'.format(model_depth))\n",
    "        encoder_config = [3, 4, 6, 3]\n",
    "        total_blocks = sum(encoder_config)\n",
    "        block_idx = 0\n",
    "\n",
    "        self.encoders = nn.ModuleList()\n",
    "        for i, num_blocks in enumerate(encoder_config):\n",
    "            out_channels = 2 ** i * 128\n",
    "            stride = 1 if i == 0 else 2\n",
    "            encoder = PENetEncoder(self.in_channels, out_channels, num_blocks, self.cardinality,\n",
    "                                  block_idx, total_blocks, stride=stride)\n",
    "            self.encoders.append(encoder)\n",
    "            self.in_channels = out_channels * PENetBottleneck.expansion\n",
    "            block_idx += num_blocks\n",
    "\n",
    "        self.classifier = GAPLinear(self.in_channels, num_classes)\n",
    "\n",
    "        if init_method is not None:\n",
    "            self._initialize_weights(init_method, focal_pi=0.01)\n",
    "\n",
    "    def _initialize_weights(self, init_method, gain=0.2, focal_pi=None):\n",
    "        \"\"\"Initialize all weights in the network.\"\"\"\n",
    "        for m in self.modules():\n",
    "            if isinstance(m, nn.Conv3d) or isinstance(m, nn.ConvTranspose3d) or isinstance(m, nn.Linear):\n",
    "                if init_method == 'normal':\n",
    "                    nn.init.normal_(m.weight, mean=0, std=gain)\n",
    "                elif init_method == 'xavier':\n",
    "                    nn.init.xavier_normal_(m.weight, gain=gain)\n",
    "                elif init_method == 'kaiming':\n",
    "                    nn.init.kaiming_normal_(m.weight)\n",
    "                else:\n",
    "                    raise NotImplementedError('Invalid initialization method: {}'.format(self.init_method))\n",
    "                if hasattr(m, 'bias') and m.bias is not None:\n",
    "                    if focal_pi is not None and hasattr(m, 'is_output_head') and m.is_output_head:\n",
    "                        # Focal loss prior (~0.01 prob for positive, see RetinaNet Section 4.1)\n",
    "                        nn.init.constant_(m.bias, -math.log((1 - focal_pi) / focal_pi))\n",
    "                    else:\n",
    "                        nn.init.constant_(m.bias, 0)\n",
    "            elif isinstance(m, nn.GroupNorm) and m.affine:\n",
    "                # Gamma for last GroupNorm in each residual block gets set to 0\n",
    "                init_gamma = 0 if hasattr(m, 'is_last_norm') and m.is_last_norm else 1\n",
    "                nn.init.constant_(m.weight, init_gamma)\n",
    "                nn.init.constant_(m.bias, 0)\n",
    "\n",
    "    def forward(self, x):\n",
    "\n",
    "        # Expand input (allows pre-training on RGB videos, fine-tuning on Hounsfield Units)\n",
    "        if x.size(1) < self.num_channels:\n",
    "            x = x.expand(-1, self.num_channels // x.size(1), -1, -1, -1)\n",
    "\n",
    "        x = self.in_conv(x)\n",
    "        x = self.max_pool(x)\n",
    "\n",
    "        # Encoders\n",
    "        for encoder in self.encoders:\n",
    "            x = encoder(x)\n",
    "\n",
    "        # Classifier\n",
    "        x = self.classifier(x)\n",
    "\n",
    "        return x\n",
    "\n",
    "    def args_dict(self):\n",
    "        \"\"\"Get a dictionary of args that can be used to reconstruct this architecture.\n",
    "        To use the returned dict, initialize the model with `PENet(**model_args)`.\n",
    "        \"\"\"\n",
    "        model_args = {\n",
    "            'model_depth': self.model_depth,\n",
    "            'cardinality': self.cardinality,\n",
    "            'num_classes': self.num_classes,\n",
    "            'num_channels': self.num_channels\n",
    "        }\n",
    "\n",
    "        return model_args\n",
    "\n",
    "    def load_pretrained(self, ckpt_path, gpu_ids):\n",
    "        \"\"\"Load parameters from a pre-trained PENetClassifier from checkpoint at ckpt_path.\n",
    "        Args:\n",
    "            ckpt_path: Path to checkpoint for PENetClassifier.\n",
    "        Adapted from:\n",
    "            https://discuss.pytorch.org/t/how-to-load-part-of-pre-trained-model/1113/2\n",
    "        \"\"\"\n",
    "        device = 'cuda:{}'.format(gpu_ids[0]) if len(gpu_ids) > 0 else 'cpu'\n",
    "        pretrained_dict = torch.load(ckpt_path, map_location=device)['model_state']\n",
    "        model_dict = self.state_dict()\n",
    "\n",
    "        # Filter out unnecessary keys\n",
    "        pretrained_dict = {k[len('module.'):]: v for k, v in pretrained_dict.items()}\n",
    "        pretrained_dict = {k: v for k, v in pretrained_dict.items() if k in model_dict}\n",
    "\n",
    "        # Overwrite entries in the existing state dict\n",
    "        model_dict.update(pretrained_dict)\n",
    "\n",
    "        # Load the new state dict\n",
    "        self.load_state_dict(model_dict)\n",
    "\n",
    "    def fine_tuning_parameters(self, fine_tuning_boundary, fine_tuning_lr=0.0):\n",
    "        \"\"\"Get parameters for fine-tuning the model.\n",
    "        Args:\n",
    "            fine_tuning_boundary: Name of first layer after the fine-tuning layers.\n",
    "            fine_tuning_lr: Learning rate to apply to fine-tuning layers (all layers before `boundary_layer`).\n",
    "        Returns:\n",
    "            List of dicts that can be passed to an optimizer.\n",
    "        \"\"\"\n",
    "\n",
    "        def gen_params(boundary_layer_name, fine_tuning):\n",
    "            \"\"\"Generate parameters, if fine_tuning generate the params before boundary_layer_name.\n",
    "            If unfrozen, generate the params at boundary_layer_name and beyond.\"\"\"\n",
    "            saw_boundary_layer = False\n",
    "            for name, param in self.named_parameters():\n",
    "                if name.startswith(boundary_layer_name):\n",
    "                    saw_boundary_layer = True\n",
    "\n",
    "                if saw_boundary_layer and fine_tuning:\n",
    "                    return\n",
    "                elif not saw_boundary_layer and not fine_tuning:\n",
    "                    continue\n",
    "                else:\n",
    "                    yield param\n",
    "\n",
    "        # Fine-tune the network's layers from encoder.2 onwards\n",
    "        optimizer_parameters = [{'params': gen_params(fine_tuning_boundary, fine_tuning=True), 'lr': fine_tuning_lr},\n",
    "                                {'params': gen_params(fine_tuning_boundary, fine_tuning=False)}]\n",
    "\n",
    "        # Debugging info\n",
    "        util.print_err('Number of fine-tuning layers: {}'\n",
    "                       .format(sum(1 for _ in gen_params(fine_tuning_boundary, fine_tuning=True))))\n",
    "        util.print_err('Number of regular layers: {}'\n",
    "                       .format(sum(1 for _ in gen_params(fine_tuning_boundary, fine_tuning=False))))\n",
    "\n",
    "        return optimizer_parameters"
   ]
  },
  {
   "cell_type": "code",
   "execution_count": 4,
   "metadata": {},
   "outputs": [],
   "source": [
    "def form_batch(inpt_slices, outpt_size, size, augment):\n",
    "    inpt_slices.sort_values(['path'], inplace = True)\n",
    "    transform = transforms.Compose([\n",
    "                  transforms.ToTensor(),\n",
    "                  transforms.Normalize(mean=[0.43216, 0.394666, 0.37645],\n",
    "                                        std=[0.22803, 0.22145, 0.216989])\n",
    "                ])\n",
    "    outpt = torch.zeros((3, outpt_size, size[0], size[1]))\n",
    "    rot = (np.random.random()*2-1)*15\n",
    "    c = int((np.random.random()*2-1)*size[0]*0.15)\n",
    "    f = int((np.random.random()*2-1)*size[1]*0.15)\n",
    "    for i, idx in enumerate(inpt_slices.index):\n",
    "        im = Image.open(inpt_slices['path'][idx])\n",
    "        if augment:\n",
    "            im = im.rotate(rot, translate = (c,f))\n",
    "        im_vect = transform(im)\n",
    "        outpt[0][i] = im_vect[0]\n",
    "        outpt[1][i] = im_vect[1]\n",
    "        outpt[2][i] = im_vect[2]\n",
    "    return(outpt)"
   ]
  },
  {
   "cell_type": "code",
   "execution_count": 5,
   "metadata": {},
   "outputs": [],
   "source": [
    "class PE_dataset(torch.utils.data.Dataset):\n",
    "    def __init__(self, Table, randomize = True, augment = True, window = 24):\n",
    "        self.slices = list(Table['slice'].unique())\n",
    "        self.window = window\n",
    "        self.Table = Table\n",
    "        self.augmented = augment\n",
    "        if randomize:\n",
    "            np.random.shuffle(self.slices)\n",
    "    def __getitem__(self, index):\n",
    "        mini_batch = self.Table[self.Table.slice == self.slices[index]].reset_index().drop(['index'], axis = 1)\n",
    "        Study = mini_batch['StudyInstanceUID'][0]\n",
    "        temp = self.Table[self.Table.StudyInstanceUID == Study]\n",
    "        Input = form_batch(mini_batch, self.window, (256, 256), self.augmented)\n",
    "        #Target = torch.zeros(2)\n",
    "        Target = torch.zeros(5)\n",
    "        pe_num = len(mini_batch[mini_batch.pe_present_on_image == 1])\n",
    "        Target[0] = int(pe_num > (len(mini_batch) / 10))\n",
    "        if pe_num > (len(mini_batch) / 8):\n",
    "            Target[1] = mini_batch['central_pe'][0]\n",
    "            Target[2] = mini_batch['rightsided_pe'][0]\n",
    "            Target[3] = mini_batch['leftsided_pe'][0]\n",
    "            Target[4] = mini_batch['chronic_pe'][0] + 2*mini_batch['acute_and_chronic_pe'][0]\n",
    "        return([Input, Target])\n",
    "    def __len__(self):\n",
    "        return(len(self.slices))"
   ]
  },
  {
   "cell_type": "code",
   "execution_count": 6,
   "metadata": {},
   "outputs": [],
   "source": [
    "import torch.nn.functional as F\n",
    "\n",
    "def linear_combination(x, y, epsilon): \n",
    "    return epsilon*x + (1-epsilon)*y\n",
    "\n",
    "def reduce_loss(loss, reduction='mean'):\n",
    "    return loss.mean() if reduction=='mean' else loss.sum() if reduction=='sum' else loss\n",
    "\n",
    "class LabelSmoothingCrossEntropy(nn.Module):\n",
    "    def __init__(self, epsilon:float=0.1, reduction='mean'):\n",
    "        super().__init__()\n",
    "        self.epsilon = epsilon\n",
    "        self.reduction = reduction\n",
    "    \n",
    "    def forward(self, preds, target):\n",
    "        n = preds.size()[-1]\n",
    "        log_preds = F.log_softmax(preds, dim=-1)\n",
    "        loss = reduce_loss(-log_preds.sum(dim=-1), self.reduction)\n",
    "        nll = F.nll_loss(log_preds, target, reduction=self.reduction)\n",
    "        return linear_combination(loss/n, nll, self.epsilon)"
   ]
  },
  {
   "cell_type": "code",
   "execution_count": 7,
   "metadata": {},
   "outputs": [],
   "source": [
    "class FocalLoss(nn.Module):\n",
    "    def __init__(self, alpha=1, gamma=2, logits=False, reduce=True):\n",
    "        super(FocalLoss, self).__init__()\n",
    "        self.alpha = alpha\n",
    "        self.gamma = gamma\n",
    "        self.reduce = reduce\n",
    "\n",
    "    def forward(self, inputs, targets):\n",
    "        crit = nn.BCELoss()\n",
    "        BCE_loss = crit(inputs, targets) + 1e-7\n",
    "        pt = torch.exp(-BCE_loss)\n",
    "        F_loss = self.alpha * (1-pt)**self.gamma * BCE_loss\n",
    "\n",
    "        if self.reduce:\n",
    "            return torch.mean(F_loss)\n",
    "        else:\n",
    "            return F_loss"
   ]
  },
  {
   "cell_type": "code",
   "execution_count": 8,
   "metadata": {},
   "outputs": [],
   "source": [
    "def train(net, optimizer, train_loader, criterion1, criterion2, alpha = 1, beta = 1,  n_epoch = 2,\n",
    "          train_acc_period = 5, classe = 2,\n",
    "          test_acc_period = 5, detection = False,\n",
    "          cuda=True, visualize = True, scheduler = None):\n",
    "    loss_train = []\n",
    "    loss_test = []\n",
    "    total = 0\n",
    "    if cuda:\n",
    "        net = net.cuda()\n",
    "        %env CUDA_LAUNCH_BLOCKING=1\n",
    "    for epoch in tnrange(n_epoch):  # loop over the dataset multiple times\n",
    "        running_loss = 0.0\n",
    "        running_acc = 0.0\n",
    "        if scheduler != None:\n",
    "            print(scheduler.get_last_lr())\n",
    "        for i, (inputs, labels) in tqdm(enumerate(train_loader)):\n",
    "            # get the inputs\n",
    "            if cuda:\n",
    "                net = net.cuda()\n",
    "                inputs = inputs.type(torch.cuda.FloatTensor)\n",
    "                labels = labels.type(torch.cuda.LongTensor)\n",
    "            # zero the parameter gradients\n",
    "            optimizer.zero_grad()\n",
    "\n",
    "            # forward + backward + optimize\n",
    "            outputs = net(inputs)\n",
    "            #outputs = outputs.clamp(min = 0, max = 1)\n",
    "            predicted = (outputs>0.5).float()\n",
    "            if detection:\n",
    "                #loss = 0.2*criterion1(outputs[:,0].float(), labels[:,0].float())\n",
    "                loss = criterion1(outputs.float(), labels[:,classe])\n",
    "            else:\n",
    "                loss = criterion1(outputs[:,0].float(), labels[:,0].float())\n",
    "                loss += alpha*criterion1(outputs[:,1:4].float(), labels[:,1:4].float())\n",
    "                loss += beta*criterion2(outputs[:, 4:].float(), labels[:,4])\n",
    "            loss.backward()\n",
    "            optimizer.step()\n",
    "            total += labels.size(0)\n",
    "            # print statistics\n",
    "            running_loss = 0.33*loss.item()/labels.size(0) + 0.66*running_loss\n",
    "            if detection:\n",
    "                #correct = float((labels[:, 0] == predicted[:, 0]).sum())\n",
    "                #correct = float(torch.logical_and((labels[:, classe] == predicted[:, 1]), labels[:, classe] == 1).sum())\n",
    "                #if float((labels[:, classe] == 1).sum()) != 0:\n",
    "                #    correct /= float((labels[:, classe] == 1).sum())\n",
    "                _, pred = torch.max(outputs.data, 1)\n",
    "                correct = float((pred == labels[:, classe]).sum())/labels.size(0)\n",
    "                #print(pred)\n",
    "                #print(labels[:, classe])\n",
    "                #print(outputs.float(), labels.float())\n",
    "                #print(correct)\n",
    "                #if i ==10:\n",
    "                #    ok\n",
    "            else:\n",
    "                correct = float((labels[:, 0] == predicted[:, 0]).sum())\n",
    "                correct += alpha*float((labels[:, 1:4] == predicted[:, 1:4]).sum())\n",
    "                correct += beta*float((torch.argmax(outputs[:, 4:]) == labels[:, 4]).sum())\n",
    "                correct /= (1+ alpha*3 + beta)*labels.size(0)\n",
    "            running_acc = 0.3*correct + 0.66*running_acc\n",
    "            loss_train.append(running_loss)\n",
    "            if visualize:\n",
    "                if i % train_acc_period == train_acc_period-1:\n",
    "                    #print(labels[:, classe] == 1)\n",
    "                    #print(predicted[:, 1] == 1)\n",
    "                    #print('TP: ', torch.logical_and((labels[:, classe] == predicted[:, 1]), labels[:, classe] == 1))\n",
    "                    print('[%d, %5d] loss: %.3f' %(epoch + 1, i + 1, running_loss))\n",
    "                    print('[%d, %5d] acc: %.3f' %(epoch + 1, i + 1, running_acc))\n",
    "                    running_loss = 0.0\n",
    "                    total = 0\n",
    "            inputs = None\n",
    "            outputs = None\n",
    "            labels = None\n",
    "            predicted = None\n",
    "        if scheduler != None:\n",
    "            scheduler.step()\n",
    "      \n",
    "    if visualize:\n",
    "        print('Finished Training')\n",
    "    return(loss_train[-1])"
   ]
  },
  {
   "cell_type": "code",
   "execution_count": 9,
   "metadata": {},
   "outputs": [],
   "source": [
    "def TP(predicted, labels):\n",
    "    return(torch.logical_and((predicted == labels) , (labels == 1)).sum().item())\n",
    "def TN(predicted, labels):\n",
    "    return(torch.logical_and((predicted == labels) , (labels == 0)).sum().item())\n",
    "def FP(predicted, labels):\n",
    "    return(torch.logical_and((predicted != labels) , (labels == 1)).sum().item())\n",
    "def FN(predicted, labels):\n",
    "    return(torch.logical_and((predicted != labels) , (labels == 0)).sum().item())\n",
    "def Fscore(TP, FP, TN, FN):\n",
    "    precision = TP/(TP + FP + 0.0001)\n",
    "    recall = TP/(TP + FN + 0.0001)\n",
    "    return(precision, recall, 2*precision*recall/(precision + recall + 0.0001))\n",
    "\n",
    "def evaluate(net, test_loader):\n",
    "    total = 0\n",
    "    correct = 0\n",
    "    net.eval()\n",
    "    net.cuda()\n",
    "    tp = [0, 0, 0, 0]\n",
    "    tn = [0, 0, 0, 0]\n",
    "    fp = [0, 0, 0, 0]\n",
    "    fn = [0, 0, 0, 0]\n",
    "    for i, (inputs, target) in tqdm(enumerate(test_loader)):\n",
    "        inputs = inputs.type(torch.cuda.FloatTensor)\n",
    "        target = target.type(torch.cuda.LongTensor)\n",
    "        outputs = net(inputs)\n",
    "        #print(outputs, target)\n",
    "        #if i == 4:\n",
    "        #    ok\n",
    "        predicted = (outputs>0.5).float()\n",
    "        detection = predicted[:, 0]\n",
    "        location1 = predicted[:, 1]\n",
    "        location2 = predicted[:, 2]\n",
    "        location3 = predicted[:, 3]\n",
    "        tp[0] += TP(detection, target[:, 0])\n",
    "        tp[1] += TP(location1, target[:, 1])\n",
    "        tp[2] += TP(location2, target[:, 2])\n",
    "        tp[3] += TP(location3, target[:, 3])\n",
    "        tn[0] += TN(detection, target[:, 0])\n",
    "        tn[1] += TN(location1, target[:, 1])\n",
    "        tn[2] += TN(location2, target[:, 2])\n",
    "        tn[3] += TN(location3, target[:, 3])\n",
    "        fp[0] += FP(detection, target[:, 0])\n",
    "        fp[1] += FP(location1, target[:, 1])\n",
    "        fp[2] += FP(location2, target[:, 2])\n",
    "        fp[3] += FP(location3, target[:, 3])\n",
    "        fn[0] += FN(detection, target[:, 0])\n",
    "        fn[1] += FN(location1, target[:, 1])\n",
    "        fn[2] += FN(location2, target[:, 2])\n",
    "        fn[3] += FN(location3, target[:, 3])\n",
    "        \n",
    "        _, chronic = torch.max(outputs[: , 4:].data, 1)\n",
    "        total += target.size(0)\n",
    "        correct += (chronic == target[:, 4]).sum().item()\n",
    "        \n",
    "    net.train()\n",
    "    f0 = Fscore(tp[0], fp[0], tn[0], fn[0])\n",
    "    f1 = Fscore(tp[1], fp[1], tn[1], fn[1])\n",
    "    f2 = Fscore(tp[2], fp[2], tn[2], fn[2])\n",
    "    f3 = Fscore(tp[3], fp[3], tn[3], fn[3])\n",
    "    acc = float(correct)/total #81% base\n",
    "    print(tp[0], tn[0], fp[0], fn[0])\n",
    "    print(tp[1], tn[1], fp[1], fn[1])\n",
    "    print(tp[2], tn[2], fp[2], fn[2])\n",
    "    print(tp[3], tn[3], fp[3], fn[3])\n",
    "    print(correct, total)\n",
    "    return(f0, f1, f2, f3, acc)\n",
    "\n",
    "def evaluate_per_class(net, test_loader, classe):\n",
    "    total = 0\n",
    "    correct = 0\n",
    "    net.eval()\n",
    "    net.cuda()\n",
    "    tp = [0, 0]\n",
    "    tn = [0, 0]\n",
    "    fp = [0, 0]\n",
    "    fn = [0, 0]\n",
    "    for i, (inputs, target) in tqdm(enumerate(test_loader)):\n",
    "        inputs = inputs.type(torch.cuda.FloatTensor)\n",
    "        target = target.type(torch.cuda.LongTensor)\n",
    "        outputs = net(inputs)\n",
    "        #print(outputs, target)\n",
    "        #if i == 4:\n",
    "        #    ok\n",
    "\n",
    "        predicted = (outputs>0.5).float()\n",
    "        detection = predicted[:, 0]\n",
    "        location1 = predicted[:, 1]\n",
    "        tp[0] += TP(detection, target[:, 0])\n",
    "        tn[0] += TN(detection, target[:, 0])\n",
    "        fp[0] += FP(detection, target[:, 0])\n",
    "        fn[0] += FN(detection, target[:, 0])\n",
    "        \n",
    "        if classe != 4:\n",
    "            tp[1] += TP(location1, target[:, classe])\n",
    "            tn[1] += TN(location1, target[:, classe])\n",
    "            fp[1] += FP(location1, target[:, classe])\n",
    "            fn[1] += FN(location1, target[:, classe])\n",
    "        else:\n",
    "            _, chronic = torch.max(outputs[: , 1:].data, 1)\n",
    "            total += target.size(0)\n",
    "            correct += (chronic == target[:, classe]).sum().item()\n",
    "        \n",
    "    net.train()\n",
    "    f0 = Fscore(tp[0], fp[0], tn[0], fn[0])\n",
    "    print(tp[0], tn[0], fp[0], fn[0])\n",
    "    if classe != 4:\n",
    "        f1 = Fscore(tp[1], fp[1], tn[1], fn[1])\n",
    "        print(tp[1], tn[1], fp[1], fn[1])\n",
    "    else:\n",
    "        f1 = float(correct)/total #81% base\n",
    "        print(correct, total)\n",
    "    return(f0, f1)\n",
    "\n",
    "def evaluate_per_class_CRE(net, test_loader, classe):\n",
    "    total = 0\n",
    "    correct = 0\n",
    "    net.eval()\n",
    "    net.cuda()\n",
    "    for i, (inputs, target) in tqdm(enumerate(test_loader)):\n",
    "        inputs = inputs.type(torch.cuda.FloatTensor)\n",
    "        target = target.type(torch.cuda.LongTensor)\n",
    "        outputs = net(inputs)\n",
    "        print(outputs, target)\n",
    "        if i == 4:\n",
    "            ok\n",
    "        \n",
    "        _, chronic = torch.max(outputs.data, 1)\n",
    "        total += target.size(0)\n",
    "        correct += (chronic == target[:, classe]).sum().item()\n",
    "        \n",
    "    net.train()\n",
    "    f1 = float(correct)/total #81% base\n",
    "    print(correct, total)\n",
    "    return(f0, f1)"
   ]
  },
  {
   "cell_type": "code",
   "execution_count": 10,
   "metadata": {},
   "outputs": [],
   "source": [
    "def peNet(num_classes):\n",
    "    net = PENetClassifier(50, num_classes = 1)\n",
    "    net = nn.DataParallel(net)\n",
    "    net.load_state_dict(torch.load('penet.pth'))\n",
    "    net.module.classifier.fc = nn.Linear(2048, num_classes)\n",
    "    return(net)"
   ]
  },
  {
   "cell_type": "code",
   "execution_count": 11,
   "metadata": {},
   "outputs": [],
   "source": [
    "tab = pd.read_csv('/media/aous/Samsung_T5/mtrain_sliced_48.csv')\n",
    "repart = list(tab['StudyInstanceUID'].unique())\n",
    "test_exams = repart[:1000]\n",
    "train_exams = repart[1000:]\n",
    "traindf = tab[tab['StudyInstanceUID'].isin(train_exams)]\n",
    "testdf = tab[tab['StudyInstanceUID'].isin(test_exams)]"
   ]
  },
  {
   "cell_type": "code",
   "execution_count": 12,
   "metadata": {},
   "outputs": [],
   "source": [
    "def weighted_dataset(train_dataset, size, Positives):\n",
    "    p_num = int(size*Positives)\n",
    "    n_num = size - p_num\n",
    "    P = train_dataset[train_dataset.pe_present_on_image == 1].reset_index()\n",
    "    P = P.drop(['index'], axis =1)\n",
    "    N = train_dataset[train_dataset.pe_present_on_image == 0].reset_index()\n",
    "    N = N.drop(['index'], axis =1)\n",
    "    LP = list(P['slice'].unique())\n",
    "    LN = list(N['slice'].unique())\n",
    "    np.random.shuffle(LP)\n",
    "    np.random.shuffle(LN)\n",
    "    LP = LP[:p_num]\n",
    "    LN = LN[:n_num]\n",
    "    print(len(LP), len(LN))\n",
    "    train_dataset_balanced = pd.concat([P[P.slice.isin(LP)], N[N.slice.isin(LN)]])\n",
    "    train_dataset_balanced = train_dataset_balanced.sort_values(by=['SOPInstanceUID']).reset_index()\n",
    "    train_dataset_balanced = train_dataset_balanced.drop(['index'], axis =1)\n",
    "    return(train_dataset_balanced)"
   ]
  },
  {
   "cell_type": "code",
   "execution_count": 12,
   "metadata": {
    "scrolled": true
   },
   "outputs": [
    {
     "name": "stderr",
     "output_type": "stream",
     "text": [
      "/home/aous/miniconda3/lib/python3.7/site-packages/ipykernel_launcher.py:1: UserWarning: Boolean Series key will be reindexed to match DataFrame index.\n",
      "  \"\"\"Entry point for launching an IPython kernel.\n",
      "/home/aous/miniconda3/lib/python3.7/site-packages/ipykernel_launcher.py:2: UserWarning: Boolean Series key will be reindexed to match DataFrame index.\n",
      "  \n",
      "/home/aous/miniconda3/lib/python3.7/site-packages/ipykernel_launcher.py:3: UserWarning: Boolean Series key will be reindexed to match DataFrame index.\n",
      "  This is separate from the ipykernel package so we can avoid doing imports until\n",
      "/home/aous/miniconda3/lib/python3.7/site-packages/ipykernel_launcher.py:4: UserWarning: Boolean Series key will be reindexed to match DataFrame index.\n",
      "  after removing the cwd from sys.path.\n",
      "/home/aous/miniconda3/lib/python3.7/site-packages/ipykernel_launcher.py:5: UserWarning: Boolean Series key will be reindexed to match DataFrame index.\n",
      "  \"\"\"\n",
      "/home/aous/miniconda3/lib/python3.7/site-packages/ipykernel_launcher.py:6: UserWarning: Boolean Series key will be reindexed to match DataFrame index.\n",
      "  \n",
      "/home/aous/miniconda3/lib/python3.7/site-packages/ipykernel_launcher.py:7: UserWarning: Boolean Series key will be reindexed to match DataFrame index.\n",
      "  import sys\n",
      "/home/aous/miniconda3/lib/python3.7/site-packages/ipykernel_launcher.py:8: UserWarning: Boolean Series key will be reindexed to match DataFrame index.\n",
      "  \n",
      "/home/aous/miniconda3/lib/python3.7/site-packages/ipykernel_launcher.py:9: UserWarning: Boolean Series key will be reindexed to match DataFrame index.\n",
      "  if __name__ == '__main__':\n"
     ]
    }
   ],
   "source": [
    "L = list(traindf[traindf.central_pe == 1][traindf.acute_and_chronic_pe == 1]['StudyInstanceUID'].unique())\n",
    "L += list(traindf[traindf.rightsided_pe == 1][traindf.acute_and_chronic_pe == 1]['StudyInstanceUID'].unique())[:40]\n",
    "L += list(traindf[traindf.leftsided_pe == 1][traindf.acute_and_chronic_pe == 1]['StudyInstanceUID'].unique())[:40]\n",
    "L += list(traindf[traindf.leftsided_pe == 1][traindf.chronic_pe == 1]['StudyInstanceUID'].unique())[:40]\n",
    "L += list(traindf[traindf.rightsided_pe == 1][traindf.chronic_pe == 1]['StudyInstanceUID'].unique())[:40]\n",
    "L += list(traindf[traindf.central_pe == 1][traindf.chronic_pe == 1]['StudyInstanceUID'].unique())[:40]\n",
    "L += list(traindf[traindf.leftsided_pe == 1][traindf.acute_and_chronic_pe == 0][traindf.chronic_pe == 0]['StudyInstanceUID'].unique())[:40]\n",
    "L += list(traindf[traindf.rightsided_pe == 1][traindf.acute_and_chronic_pe == 0][traindf.chronic_pe == 0]['StudyInstanceUID'].unique())[:40]\n",
    "L += list(traindf[traindf.central_pe == 1][traindf.acute_and_chronic_pe == 0][traindf.chronic_pe == 0]['StudyInstanceUID'].unique())[:40]\n",
    "Negative_Exams = traindf[traindf.negative_exam_for_pe == 1]['StudyInstanceUID'].unique()\n",
    "np.random.shuffle(Negative_Exams)\n",
    "L += list(Negative_Exams)[:345]\n",
    "np.random.shuffle(L)\n",
    "Balanced_traindf = traindf[traindf.StudyInstanceUID.isin(L)].reset_index().drop(['index'], axis = 1)"
   ]
  },
  {
   "cell_type": "code",
   "execution_count": 13,
   "metadata": {
    "scrolled": true
   },
   "outputs": [
    {
     "name": "stdout",
     "output_type": "stream",
     "text": [
      "3500 3500\n",
      "env: CUDA_LAUNCH_BLOCKING=1\n"
     ]
    },
    {
     "data": {
      "application/vnd.jupyter.widget-view+json": {
       "model_id": "a7e27119c25645288a4f73cd68778fdc",
       "version_major": 2,
       "version_minor": 0
      },
      "text/plain": [
       "HBox(children=(FloatProgress(value=0.0, max=2.0), HTML(value='')))"
      ]
     },
     "metadata": {},
     "output_type": "display_data"
    },
    {
     "data": {
      "application/vnd.jupyter.widget-view+json": {
       "model_id": "ec906b0630704d3d8abae5d270977535",
       "version_major": 2,
       "version_minor": 0
      },
      "text/plain": [
       "HBox(children=(FloatProgress(value=1.0, bar_style='info', max=1.0), HTML(value='')))"
      ]
     },
     "metadata": {},
     "output_type": "display_data"
    },
    {
     "name": "stdout",
     "output_type": "stream",
     "text": [
      "[1,    50] loss: 9.352\n",
      "[1,    50] acc: 0.542\n",
      "[1,   100] loss: 8.920\n",
      "[1,   100] acc: 0.558\n",
      "[1,   150] loss: 3.028\n",
      "[1,   150] acc: 0.345\n",
      "[1,   200] loss: 0.162\n",
      "[1,   200] acc: 0.406\n",
      "[1,   250] loss: 0.162\n",
      "[1,   250] acc: 0.533\n",
      "[1,   300] loss: 0.152\n",
      "[1,   300] acc: 0.592\n",
      "[1,   350] loss: 0.165\n",
      "[1,   350] acc: 0.492\n",
      "[1,   400] loss: 0.149\n",
      "[1,   400] acc: 0.734\n",
      "[1,   450] loss: 0.150\n",
      "[1,   450] acc: 0.680\n",
      "[1,   500] loss: 0.154\n",
      "[1,   500] acc: 0.686\n",
      "[1,   550] loss: 0.145\n",
      "[1,   550] acc: 0.703\n",
      "[1,   600] loss: 0.121\n",
      "[1,   600] acc: 0.784\n",
      "[1,   650] loss: 0.152\n",
      "[1,   650] acc: 0.681\n",
      "[1,   700] loss: 0.131\n",
      "[1,   700] acc: 0.653\n",
      "[1,   750] loss: 0.166\n",
      "[1,   750] acc: 0.502\n",
      "[1,   800] loss: 0.115\n",
      "[1,   800] acc: 0.710\n",
      "[1,   850] loss: 0.154\n",
      "[1,   850] acc: 0.553\n",
      "[1,   900] loss: 0.152\n",
      "[1,   900] acc: 0.619\n",
      "[1,   950] loss: 0.122\n",
      "[1,   950] acc: 0.725\n",
      "[1,  1000] loss: 0.117\n",
      "[1,  1000] acc: 0.705\n",
      "[1,  1050] loss: 0.135\n",
      "[1,  1050] acc: 0.634\n",
      "[1,  1100] loss: 0.123\n",
      "[1,  1100] acc: 0.694\n",
      "[1,  1150] loss: 0.118\n",
      "[1,  1150] acc: 0.677\n",
      "[1,  1200] loss: 0.126\n",
      "[1,  1200] acc: 0.640\n",
      "[1,  1250] loss: 0.171\n",
      "[1,  1250] acc: 0.498\n",
      "[1,  1300] loss: 0.137\n",
      "[1,  1300] acc: 0.651\n",
      "[1,  1350] loss: 0.126\n",
      "[1,  1350] acc: 0.670\n",
      "[1,  1400] loss: 0.134\n",
      "[1,  1400] acc: 0.629\n",
      "[1,  1450] loss: 0.130\n",
      "[1,  1450] acc: 0.655\n",
      "[1,  1500] loss: 0.107\n",
      "[1,  1500] acc: 0.740\n",
      "[1,  1550] loss: 0.120\n",
      "[1,  1550] acc: 0.706\n",
      "[1,  1600] loss: 0.083\n",
      "[1,  1600] acc: 0.786\n",
      "[1,  1650] loss: 0.108\n",
      "[1,  1650] acc: 0.753\n",
      "\n"
     ]
    },
    {
     "data": {
      "application/vnd.jupyter.widget-view+json": {
       "model_id": "ed78fec1341642a38d99acd306d46768",
       "version_major": 2,
       "version_minor": 0
      },
      "text/plain": [
       "HBox(children=(FloatProgress(value=1.0, bar_style='info', max=1.0), HTML(value='')))"
      ]
     },
     "metadata": {},
     "output_type": "display_data"
    },
    {
     "name": "stdout",
     "output_type": "stream",
     "text": [
      "[2,    50] loss: 0.114\n",
      "[2,    50] acc: 0.691\n",
      "[2,   100] loss: 0.107\n",
      "[2,   100] acc: 0.702\n",
      "[2,   150] loss: 0.112\n",
      "[2,   150] acc: 0.650\n",
      "[2,   200] loss: 0.084\n",
      "[2,   200] acc: 0.749\n",
      "[2,   250] loss: 0.116\n",
      "[2,   250] acc: 0.599\n",
      "[2,   300] loss: 0.094\n",
      "[2,   300] acc: 0.649\n",
      "[2,   350] loss: 0.116\n",
      "[2,   350] acc: 0.585\n",
      "[2,   400] loss: 0.071\n",
      "[2,   400] acc: 0.777\n",
      "[2,   450] loss: 0.070\n",
      "[2,   450] acc: 0.805\n",
      "[2,   500] loss: 0.094\n",
      "[2,   500] acc: 0.618\n",
      "[2,   550] loss: 0.059\n",
      "[2,   550] acc: 0.727\n",
      "[2,   600] loss: 0.081\n",
      "[2,   600] acc: 0.739\n",
      "[2,   650] loss: 0.080\n",
      "[2,   650] acc: 0.823\n",
      "[2,   700] loss: 0.058\n",
      "[2,   700] acc: 0.805\n",
      "[2,   750] loss: 0.081\n",
      "[2,   750] acc: 0.854\n",
      "[2,   800] loss: 0.061\n",
      "[2,   800] acc: 0.845\n",
      "[2,   850] loss: 0.081\n",
      "[2,   850] acc: 0.790\n",
      "[2,   900] loss: 0.121\n",
      "[2,   900] acc: 0.704\n",
      "[2,   950] loss: 0.041\n",
      "[2,   950] acc: 0.825\n",
      "[2,  1000] loss: 0.085\n",
      "[2,  1000] acc: 0.719\n",
      "[2,  1050] loss: 0.085\n",
      "[2,  1050] acc: 0.695\n",
      "[2,  1100] loss: 0.058\n",
      "[2,  1100] acc: 0.801\n",
      "[2,  1150] loss: 0.064\n",
      "[2,  1150] acc: 0.762\n",
      "[2,  1200] loss: 0.156\n",
      "[2,  1200] acc: 0.819\n",
      "[2,  1250] loss: 0.102\n",
      "[2,  1250] acc: 0.823\n",
      "[2,  1300] loss: 0.078\n",
      "[2,  1300] acc: 0.722\n",
      "[2,  1350] loss: 0.080\n",
      "[2,  1350] acc: 0.741\n",
      "[2,  1400] loss: 0.083\n",
      "[2,  1400] acc: 0.738\n",
      "[2,  1450] loss: 0.064\n",
      "[2,  1450] acc: 0.762\n",
      "[2,  1500] loss: 0.061\n",
      "[2,  1500] acc: 0.795\n",
      "[2,  1550] loss: 0.054\n",
      "[2,  1550] acc: 0.783\n",
      "[2,  1600] loss: 0.067\n",
      "[2,  1600] acc: 0.707\n",
      "[2,  1650] loss: 0.102\n",
      "[2,  1650] acc: 0.626\n",
      "\n",
      "\n",
      "Finished Training\n"
     ]
    },
    {
     "data": {
      "application/vnd.jupyter.widget-view+json": {
       "model_id": "f3f6c27036044601a81a8a4f88bbaa5f",
       "version_major": 2,
       "version_minor": 0
      },
      "text/plain": [
       "HBox(children=(FloatProgress(value=1.0, bar_style='info', max=1.0), HTML(value='')))"
      ]
     },
     "metadata": {},
     "output_type": "display_data"
    },
    {
     "name": "stdout",
     "output_type": "stream",
     "text": [
      "\n",
      "17 4858\n"
     ]
    }
   ],
   "source": [
    "train_dataset = PE_dataset(weighted_dataset(traindf, 7000, 0.5), augment = True, window = 48)\n",
    "test_dataset = PE_dataset(testdf, augment = False, window = 48)\n",
    "train_loader = torch.utils.data.DataLoader(train_dataset, batch_size = 4, num_workers = 4)\n",
    "test_loader = torch.utils.data.DataLoader(test_dataset, batch_size = 2, num_workers = 4)\n",
    "\n",
    "net = peNet(7)\n",
    "#criterion1 = FocalLoss(alpha = 3, gamma = 2)\n",
    "criterion1 = nn.BCELoss()\n",
    "criterion2 = nn.CrossEntropyLoss()\n",
    "#criterion2 = LabelSmoothingCrossEntropy(0.1)\n",
    "\n",
    "learning_rate = 1e-4\n",
    "#net = nn.DataParallel(net)\n",
    "optimizer = torch.optim.SGD(net.parameters(), lr=learning_rate, momentum = 0.9, dampening=0.9, weight_decay=1e-3) \n",
    "#scheduler = torch.optim.lr_scheduler.CosineAnnealingWarmRestarts(optimizer, T_0 = 2, T_mult=2, eta_min=0, last_epoch=-1)\n",
    "train(net, optimizer, train_loader, criterion1, criterion2, alpha = 1,  n_epoch = 2, visualize =True,\n",
    "                  cuda = True,  train_acc_period = 50, scheduler = None, detection = True)\n",
    "result = evaluate(net, test_loader)"
   ]
  },
  {
   "cell_type": "code",
   "execution_count": 36,
   "metadata": {
    "scrolled": true
   },
   "outputs": [
    {
     "name": "stderr",
     "output_type": "stream",
     "text": [
      "/home/aous/miniconda3/lib/python3.7/site-packages/ipykernel_launcher.py:2: UserWarning: Boolean Series key will be reindexed to match DataFrame index.\n",
      "  \n"
     ]
    },
    {
     "name": "stdout",
     "output_type": "stream",
     "text": [
      "env: CUDA_LAUNCH_BLOCKING=1\n"
     ]
    },
    {
     "data": {
      "application/vnd.jupyter.widget-view+json": {
       "model_id": "e2ceed849090421bb1be2a10450df207",
       "version_major": 2,
       "version_minor": 0
      },
      "text/plain": [
       "HBox(children=(FloatProgress(value=0.0, max=2.0), HTML(value='')))"
      ]
     },
     "metadata": {},
     "output_type": "display_data"
    },
    {
     "data": {
      "application/vnd.jupyter.widget-view+json": {
       "model_id": "906560dda883466d96982ef5d173f7ed",
       "version_major": 2,
       "version_minor": 0
      },
      "text/plain": [
       "HBox(children=(FloatProgress(value=1.0, bar_style='info', max=1.0), HTML(value='')))"
      ]
     },
     "metadata": {},
     "output_type": "display_data"
    },
    {
     "name": "stdout",
     "output_type": "stream",
     "text": [
      "[1,    50] loss: 0.102\n",
      "[1,    50] acc: 0.741\n",
      "[1,   100] loss: 0.061\n",
      "[1,   100] acc: 0.828\n",
      "[1,   150] loss: 0.053\n",
      "[1,   150] acc: 0.793\n",
      "[1,   200] loss: 0.047\n",
      "[1,   200] acc: 0.820\n",
      "[1,   250] loss: 0.055\n",
      "[1,   250] acc: 0.805\n",
      "[1,   300] loss: 0.031\n",
      "[1,   300] acc: 0.835\n",
      "[1,   350] loss: 0.062\n",
      "[1,   350] acc: 0.765\n",
      "[1,   400] loss: 0.068\n",
      "[1,   400] acc: 0.790\n",
      "[1,   450] loss: 0.053\n",
      "[1,   450] acc: 0.778\n",
      "[1,   500] loss: 0.050\n",
      "[1,   500] acc: 0.789\n",
      "[1,   550] loss: 0.090\n",
      "[1,   550] acc: 0.742\n",
      "[1,   600] loss: 0.061\n",
      "[1,   600] acc: 0.785\n",
      "[1,   650] loss: 0.087\n",
      "[1,   650] acc: 0.734\n",
      "[1,   700] loss: 0.059\n",
      "[1,   700] acc: 0.808\n",
      "[1,   750] loss: 0.064\n",
      "[1,   750] acc: 0.754\n",
      "[1,   800] loss: 0.089\n",
      "[1,   800] acc: 0.754\n",
      "[1,   850] loss: 0.074\n",
      "[1,   850] acc: 0.778\n",
      "[1,   900] loss: 0.077\n",
      "[1,   900] acc: 0.755\n",
      "[1,   950] loss: 0.054\n",
      "[1,   950] acc: 0.781\n",
      "[1,  1000] loss: 0.089\n",
      "[1,  1000] acc: 0.768\n",
      "[1,  1050] loss: 0.046\n",
      "[1,  1050] acc: 0.832\n",
      "[1,  1100] loss: 0.056\n",
      "[1,  1100] acc: 0.803\n",
      "[1,  1150] loss: 0.082\n",
      "[1,  1150] acc: 0.788\n",
      "[1,  1200] loss: 0.032\n",
      "[1,  1200] acc: 0.827\n",
      "[1,  1250] loss: 0.044\n",
      "[1,  1250] acc: 0.831\n",
      "[1,  1300] loss: 0.035\n",
      "[1,  1300] acc: 0.834\n",
      "[1,  1350] loss: 0.054\n",
      "[1,  1350] acc: 0.793\n",
      "[1,  1400] loss: 0.038\n",
      "[1,  1400] acc: 0.826\n",
      "[1,  1450] loss: 0.039\n",
      "[1,  1450] acc: 0.851\n",
      "[1,  1500] loss: 0.034\n",
      "[1,  1500] acc: 0.854\n",
      "[1,  1550] loss: 0.025\n",
      "[1,  1550] acc: 0.877\n",
      "[1,  1600] loss: 0.067\n",
      "[1,  1600] acc: 0.765\n",
      "\n"
     ]
    },
    {
     "data": {
      "application/vnd.jupyter.widget-view+json": {
       "model_id": "e213e81704c74217917952f1c2c73465",
       "version_major": 2,
       "version_minor": 0
      },
      "text/plain": [
       "HBox(children=(FloatProgress(value=1.0, bar_style='info', max=1.0), HTML(value='')))"
      ]
     },
     "metadata": {},
     "output_type": "display_data"
    },
    {
     "name": "stdout",
     "output_type": "stream",
     "text": [
      "[2,    50] loss: 0.094\n",
      "[2,    50] acc: 0.730\n",
      "[2,   100] loss: 0.051\n",
      "[2,   100] acc: 0.832\n",
      "[2,   150] loss: 0.054\n",
      "[2,   150] acc: 0.793\n",
      "[2,   200] loss: 0.049\n",
      "[2,   200] acc: 0.817\n",
      "[2,   250] loss: 0.065\n",
      "[2,   250] acc: 0.810\n",
      "[2,   300] loss: 0.027\n",
      "[2,   300] acc: 0.835\n",
      "[2,   350] loss: 0.053\n",
      "[2,   350] acc: 0.803\n",
      "[2,   400] loss: 0.063\n",
      "[2,   400] acc: 0.791\n",
      "[2,   450] loss: 0.051\n",
      "[2,   450] acc: 0.813\n",
      "[2,   500] loss: 0.045\n",
      "[2,   500] acc: 0.797\n",
      "[2,   550] loss: 0.062\n",
      "[2,   550] acc: 0.773\n",
      "[2,   600] loss: 0.040\n",
      "[2,   600] acc: 0.823\n",
      "[2,   650] loss: 0.071\n",
      "[2,   650] acc: 0.760\n",
      "[2,   700] loss: 0.057\n",
      "[2,   700] acc: 0.808\n",
      "[2,   750] loss: 0.067\n",
      "[2,   750] acc: 0.732\n",
      "[2,   800] loss: 0.108\n",
      "[2,   800] acc: 0.749\n",
      "[2,   850] loss: 0.062\n",
      "[2,   850] acc: 0.796\n",
      "[2,   900] loss: 0.061\n",
      "[2,   900] acc: 0.740\n",
      "[2,   950] loss: 0.057\n",
      "[2,   950] acc: 0.792\n",
      "[2,  1000] loss: 0.059\n",
      "[2,  1000] acc: 0.792\n",
      "[2,  1050] loss: 0.035\n",
      "[2,  1050] acc: 0.825\n",
      "[2,  1100] loss: 0.054\n",
      "[2,  1100] acc: 0.803\n",
      "[2,  1150] loss: 0.084\n",
      "[2,  1150] acc: 0.783\n",
      "[2,  1200] loss: 0.035\n",
      "[2,  1200] acc: 0.827\n",
      "[2,  1250] loss: 0.039\n",
      "[2,  1250] acc: 0.828\n",
      "[2,  1300] loss: 0.035\n",
      "[2,  1300] acc: 0.837\n",
      "[2,  1350] loss: 0.053\n",
      "[2,  1350] acc: 0.795\n",
      "[2,  1400] loss: 0.037\n",
      "[2,  1400] acc: 0.828\n",
      "[2,  1450] loss: 0.034\n",
      "[2,  1450] acc: 0.816\n",
      "[2,  1500] loss: 0.033\n",
      "[2,  1500] acc: 0.854\n",
      "[2,  1550] loss: 0.018\n",
      "[2,  1550] acc: 0.877\n",
      "[2,  1600] loss: 0.069\n",
      "[2,  1600] acc: 0.756\n",
      "\n",
      "\n",
      "Finished Training\n"
     ]
    },
    {
     "data": {
      "application/vnd.jupyter.widget-view+json": {
       "model_id": "b59982ae28e5433785fd51a36b139a79",
       "version_major": 2,
       "version_minor": 0
      },
      "text/plain": [
       "HBox(children=(FloatProgress(value=1.0, bar_style='info', max=1.0), HTML(value='')))"
      ]
     },
     "metadata": {},
     "output_type": "display_data"
    },
    {
     "name": "stdout",
     "output_type": "stream",
     "text": [
      "\n",
      "230 4154 200 274\n",
      "40 4697 68 53\n",
      "0 4527 331 0\n",
      "0 4561 297 0\n",
      "17 4858\n"
     ]
    }
   ],
   "source": [
    "L = list(traindf[traindf.central_pe == 1]['StudyInstanceUID'].unique())\n",
    "L += list(traindf[traindf.negative_exam_for_pe == 0][traindf.central_pe == 0]['StudyInstanceUID'].unique())[:341]\n",
    "Negative_Exams = traindf[traindf.negative_exam_for_pe == 1]['StudyInstanceUID'].unique()\n",
    "np.random.shuffle(Negative_Exams)\n",
    "L += list(Negative_Exams)[:650]\n",
    "np.random.shuffle(L)\n",
    "new_traindf = traindf[traindf.StudyInstanceUID.isin(L)].reset_index().drop(['index'], axis = 1)\n",
    "train_dataset = PE_dataset(new_traindf, augment = True, window = 48)\n",
    "test_dataset = PE_dataset(testdf, augment = False, window = 48)\n",
    "train_loader = torch.utils.data.DataLoader(train_dataset, batch_size = 4, num_workers = 4)\n",
    "test_loader = torch.utils.data.DataLoader(test_dataset, batch_size = 2, num_workers = 4)\n",
    "\n",
    "net = peNet(7)\n",
    "net.load_state_dict(torch.load('PEnet_45.pth'))\n",
    "#criterion1 = FocalLoss(alpha = 3, gamma = 2)\n",
    "criterion1 = nn.BCELoss()\n",
    "criterion2 = nn.CrossEntropyLoss()\n",
    "#criterion2 = LabelSmoothingCrossEntropy(0.1)\n",
    "\n",
    "learning_rate = 5e-5\n",
    "#net = nn.DataParallel(net)\n",
    "optimizer = torch.optim.SGD(net.parameters(), lr=learning_rate, momentum = 0.9, dampening=0.9, weight_decay=1e-3) \n",
    "#scheduler = torch.optim.lr_scheduler.CosineAnnealingWarmRestarts(optimizer, T_0 = 2, T_mult=2, eta_min=0, last_epoch=-1)\n",
    "train(net, optimizer, train_loader, criterion1, criterion2, alpha = 1,  n_epoch = 2, visualize =True,\n",
    "                  cuda = True,  train_acc_period = 50, scheduler = None, detection = True)\n",
    "result = evaluate(net, test_loader)"
   ]
  },
  {
   "cell_type": "code",
   "execution_count": 37,
   "metadata": {},
   "outputs": [
    {
     "data": {
      "text/plain": [
       "((0.5348835965386985, 0.4563491158037469, 0.492455566732158),\n",
       " (0.3703700274351598, 0.430107064401006, 0.39795983888796144),\n",
       " (0.0, 0.0, 0.0),\n",
       " (0.0, 0.0, 0.0),\n",
       " 0.003499382461918485)"
      ]
     },
     "execution_count": 37,
     "metadata": {},
     "output_type": "execute_result"
    }
   ],
   "source": [
    "result"
   ]
  },
  {
   "cell_type": "code",
   "execution_count": 17,
   "metadata": {},
   "outputs": [],
   "source": [
    "#torch.save(net.state_dict(), 'PEnet_49_40.pth')"
   ]
  },
  {
   "cell_type": "code",
   "execution_count": 30,
   "metadata": {},
   "outputs": [
    {
     "data": {
      "text/plain": [
       "35421"
      ]
     },
     "execution_count": 30,
     "metadata": {},
     "output_type": "execute_result"
    }
   ],
   "source": [
    "classes['slice'].nunique()"
   ]
  },
  {
   "cell_type": "code",
   "execution_count": 12,
   "metadata": {
    "scrolled": true
   },
   "outputs": [
    {
     "name": "stdout",
     "output_type": "stream",
     "text": [
      "4086\n"
     ]
    },
    {
     "name": "stderr",
     "output_type": "stream",
     "text": [
      "/home/aous/miniconda3/lib/python3.7/site-packages/ipykernel_launcher.py:4: UserWarning: Boolean Series key will be reindexed to match DataFrame index.\n",
      "  after removing the cwd from sys.path.\n"
     ]
    }
   ],
   "source": [
    "classes = pd.read_csv('/media/aous/Samsung_T5/classes.csv')\n",
    "L = list(classes[classes.central_pe == 1]['slice'].unique())[:681]\n",
    "L += list(classes[classes.rightsided_pe == 1]['slice'].unique())[:681]\n",
    "L += list(classes[classes.PE == 1][classes.rightsided_pe == 0][classes.central_pe == 0]['slice'].unique())\n",
    "Negative_Exams = classes[classes.PE == 0]['slice'].unique()\n",
    "np.random.shuffle(Negative_Exams)\n",
    "L += list(Negative_Exams)[:2043]\n",
    "print(len(L))\n",
    "np.random.shuffle(L)\n",
    "new_traindf = traindf[traindf.slice.isin(L)].reset_index().drop(['index'], axis = 1)"
   ]
  },
  {
   "cell_type": "code",
   "execution_count": 49,
   "metadata": {},
   "outputs": [
    {
     "name": "stderr",
     "output_type": "stream",
     "text": [
      "/home/aous/miniconda3/lib/python3.7/site-packages/ipykernel_launcher.py:1: UserWarning: Boolean Series key will be reindexed to match DataFrame index.\n",
      "  \"\"\"Entry point for launching an IPython kernel.\n"
     ]
    },
    {
     "data": {
      "text/plain": [
       "608"
      ]
     },
     "execution_count": 49,
     "metadata": {},
     "output_type": "execute_result"
    }
   ],
   "source": [
    "train_classes[train_classes.PE == 1][train_classes.rightsided_pe == 0]['slice'].nunique()"
   ]
  },
  {
   "cell_type": "code",
   "execution_count": 12,
   "metadata": {},
   "outputs": [
    {
     "name": "stdout",
     "output_type": "stream",
     "text": [
      "3000 negative\n",
      "6000 all\n",
      "env: CUDA_LAUNCH_BLOCKING=1\n"
     ]
    },
    {
     "data": {
      "application/vnd.jupyter.widget-view+json": {
       "model_id": "15ffb4ec70064bb29fae83a2ce60e9cb",
       "version_major": 2,
       "version_minor": 0
      },
      "text/plain": [
       "HBox(children=(FloatProgress(value=0.0, max=10.0), HTML(value='')))"
      ]
     },
     "metadata": {},
     "output_type": "display_data"
    },
    {
     "name": "stdout",
     "output_type": "stream",
     "text": [
      "[1e-06]\n"
     ]
    },
    {
     "data": {
      "application/vnd.jupyter.widget-view+json": {
       "model_id": "3cb4343309244c1282e68a38cd6e41d2",
       "version_major": 2,
       "version_minor": 0
      },
      "text/plain": [
       "HBox(children=(FloatProgress(value=1.0, bar_style='info', max=1.0), HTML(value='')))"
      ]
     },
     "metadata": {},
     "output_type": "display_data"
    },
    {
     "name": "stdout",
     "output_type": "stream",
     "text": [
      "[1,    50] loss: 0.020\n",
      "[1,    50] acc: 0.651\n",
      "[1,   100] loss: 0.019\n",
      "[1,   100] acc: 0.635\n",
      "[1,   150] loss: 0.020\n",
      "[1,   150] acc: 0.781\n",
      "[1,   200] loss: 0.007\n",
      "[1,   200] acc: 0.807\n",
      "[1,   250] loss: 0.014\n",
      "[1,   250] acc: 0.686\n",
      "[1,   300] loss: 0.025\n",
      "[1,   300] acc: 0.572\n",
      "[1,   350] loss: 0.025\n",
      "[1,   350] acc: 0.618\n",
      "[1,   400] loss: 0.023\n",
      "[1,   400] acc: 0.602\n",
      "[1,   450] loss: 0.025\n",
      "[1,   450] acc: 0.700\n",
      "[1,   500] loss: 0.026\n",
      "[1,   500] acc: 0.575\n",
      "[1,   550] loss: 0.008\n",
      "[1,   550] acc: 0.736\n",
      "[1,   600] loss: 0.022\n",
      "[1,   600] acc: 0.656\n",
      "[1,   650] loss: 0.021\n",
      "[1,   650] acc: 0.668\n",
      "[1,   700] loss: 0.017\n",
      "[1,   700] acc: 0.637\n",
      "[1,   750] loss: 0.010\n",
      "[1,   750] acc: 0.731\n",
      "[1,   800] loss: 0.018\n",
      "[1,   800] acc: 0.659\n",
      "[1,   850] loss: 0.018\n",
      "[1,   850] acc: 0.682\n",
      "[1,   900] loss: 0.020\n",
      "[1,   900] acc: 0.605\n",
      "[1,   950] loss: 0.015\n",
      "[1,   950] acc: 0.767\n",
      "[1,  1000] loss: 0.010\n",
      "[1,  1000] acc: 0.754\n",
      "[1,  1050] loss: 0.033\n",
      "[1,  1050] acc: 0.475\n",
      "[1,  1100] loss: 0.019\n",
      "[1,  1100] acc: 0.605\n",
      "[1,  1150] loss: 0.012\n",
      "[1,  1150] acc: 0.785\n",
      "\n",
      "[9.938441702975689e-07]\n"
     ]
    },
    {
     "data": {
      "application/vnd.jupyter.widget-view+json": {
       "model_id": "5f5db39e43ec43f7a8dfd8ef0b638c67",
       "version_major": 2,
       "version_minor": 0
      },
      "text/plain": [
       "HBox(children=(FloatProgress(value=1.0, bar_style='info', max=1.0), HTML(value='')))"
      ]
     },
     "metadata": {},
     "output_type": "display_data"
    },
    {
     "name": "stdout",
     "output_type": "stream",
     "text": [
      "[2,    50] loss: 0.023\n",
      "[2,    50] acc: 0.652\n",
      "[2,   100] loss: 0.018\n",
      "[2,   100] acc: 0.695\n",
      "[2,   150] loss: 0.021\n",
      "[2,   150] acc: 0.730\n",
      "[2,   200] loss: 0.006\n",
      "[2,   200] acc: 0.825\n",
      "[2,   250] loss: 0.016\n",
      "[2,   250] acc: 0.627\n",
      "[2,   300] loss: 0.029\n",
      "[2,   300] acc: 0.534\n",
      "[2,   350] loss: 0.021\n",
      "[2,   350] acc: 0.689\n",
      "[2,   400] loss: 0.026\n",
      "[2,   400] acc: 0.590\n",
      "[2,   450] loss: 0.025\n",
      "[2,   450] acc: 0.665\n",
      "[2,   500] loss: 0.026\n",
      "[2,   500] acc: 0.569\n",
      "[2,   550] loss: 0.007\n",
      "[2,   550] acc: 0.740\n",
      "[2,   600] loss: 0.022\n",
      "[2,   600] acc: 0.658\n",
      "[2,   650] loss: 0.021\n",
      "[2,   650] acc: 0.637\n",
      "[2,   700] loss: 0.017\n",
      "[2,   700] acc: 0.636\n",
      "[2,   750] loss: 0.009\n",
      "[2,   750] acc: 0.731\n",
      "[2,   800] loss: 0.012\n",
      "[2,   800] acc: 0.665\n",
      "[2,   850] loss: 0.016\n",
      "[2,   850] acc: 0.725\n",
      "[2,   900] loss: 0.022\n",
      "[2,   900] acc: 0.617\n",
      "[2,   950] loss: 0.016\n",
      "[2,   950] acc: 0.716\n",
      "[2,  1000] loss: 0.007\n",
      "[2,  1000] acc: 0.757\n",
      "[2,  1050] loss: 0.037\n",
      "[2,  1050] acc: 0.497\n",
      "[2,  1100] loss: 0.019\n",
      "[2,  1100] acc: 0.615\n",
      "[2,  1150] loss: 0.015\n",
      "[2,  1150] acc: 0.708\n",
      "\n",
      "[9.755282581475769e-07]\n"
     ]
    },
    {
     "data": {
      "application/vnd.jupyter.widget-view+json": {
       "model_id": "e03a5f8fa21a4716a617f84fa3beb264",
       "version_major": 2,
       "version_minor": 0
      },
      "text/plain": [
       "HBox(children=(FloatProgress(value=1.0, bar_style='info', max=1.0), HTML(value='')))"
      ]
     },
     "metadata": {},
     "output_type": "display_data"
    },
    {
     "name": "stdout",
     "output_type": "stream",
     "text": [
      "[3,    50] loss: 0.025\n",
      "[3,    50] acc: 0.635\n",
      "[3,   100] loss: 0.018\n",
      "[3,   100] acc: 0.752\n",
      "[3,   150] loss: 0.026\n",
      "[3,   150] acc: 0.617\n",
      "[3,   200] loss: 0.008\n",
      "[3,   200] acc: 0.789\n",
      "[3,   250] loss: 0.015\n",
      "[3,   250] acc: 0.675\n",
      "[3,   300] loss: 0.027\n",
      "[3,   300] acc: 0.572\n",
      "[3,   350] loss: 0.027\n",
      "[3,   350] acc: 0.665\n",
      "[3,   400] loss: 0.022\n",
      "[3,   400] acc: 0.718\n",
      "[3,   450] loss: 0.027\n",
      "[3,   450] acc: 0.527\n",
      "[3,   500] loss: 0.027\n",
      "[3,   500] acc: 0.584\n",
      "[3,   550] loss: 0.008\n",
      "[3,   550] acc: 0.734\n",
      "[3,   600] loss: 0.024\n",
      "[3,   600] acc: 0.660\n",
      "[3,   650] loss: 0.021\n",
      "[3,   650] acc: 0.700\n",
      "[3,   700] loss: 0.019\n",
      "[3,   700] acc: 0.648\n",
      "[3,   750] loss: 0.012\n",
      "[3,   750] acc: 0.659\n",
      "[3,   800] loss: 0.014\n",
      "[3,   800] acc: 0.730\n",
      "[3,   850] loss: 0.018\n",
      "[3,   850] acc: 0.744\n",
      "[3,   900] loss: 0.018\n",
      "[3,   900] acc: 0.642\n",
      "[3,   950] loss: 0.016\n",
      "[3,   950] acc: 0.712\n",
      "[3,  1000] loss: 0.008\n",
      "[3,  1000] acc: 0.764\n",
      "[3,  1050] loss: 0.038\n",
      "[3,  1050] acc: 0.496\n",
      "[3,  1100] loss: 0.023\n",
      "[3,  1100] acc: 0.614\n",
      "[3,  1150] loss: 0.014\n",
      "[3,  1150] acc: 0.770\n",
      "\n",
      "[9.45503262094184e-07]\n"
     ]
    },
    {
     "data": {
      "application/vnd.jupyter.widget-view+json": {
       "model_id": "e1c6aa9bb16d492ab7d047677924de15",
       "version_major": 2,
       "version_minor": 0
      },
      "text/plain": [
       "HBox(children=(FloatProgress(value=1.0, bar_style='info', max=1.0), HTML(value='')))"
      ]
     },
     "metadata": {},
     "output_type": "display_data"
    },
    {
     "name": "stdout",
     "output_type": "stream",
     "text": [
      "[4,    50] loss: 0.021\n",
      "[4,    50] acc: 0.636\n",
      "[4,   100] loss: 0.017\n",
      "[4,   100] acc: 0.668\n",
      "[4,   150] loss: 0.027\n",
      "[4,   150] acc: 0.572\n",
      "[4,   200] loss: 0.009\n",
      "[4,   200] acc: 0.755\n",
      "[4,   250] loss: 0.015\n",
      "[4,   250] acc: 0.673\n",
      "[4,   300] loss: 0.025\n",
      "[4,   300] acc: 0.566\n",
      "[4,   350] loss: 0.024\n",
      "[4,   350] acc: 0.699\n",
      "[4,   400] loss: 0.022\n",
      "[4,   400] acc: 0.706\n",
      "[4,   450] loss: 0.026\n",
      "[4,   450] acc: 0.666\n",
      "[4,   500] loss: 0.024\n",
      "[4,   500] acc: 0.613\n",
      "[4,   550] loss: 0.007\n",
      "[4,   550] acc: 0.733\n",
      "[4,   600] loss: 0.026\n",
      "[4,   600] acc: 0.627\n",
      "[4,   650] loss: 0.020\n",
      "[4,   650] acc: 0.689\n",
      "[4,   700] loss: 0.024\n",
      "[4,   700] acc: 0.575\n",
      "[4,   750] loss: 0.010\n",
      "[4,   750] acc: 0.703\n",
      "[4,   800] loss: 0.012\n",
      "[4,   800] acc: 0.658\n",
      "[4,   850] loss: 0.019\n",
      "[4,   850] acc: 0.717\n",
      "[4,   900] loss: 0.020\n",
      "[4,   900] acc: 0.582\n",
      "[4,   950] loss: 0.033\n",
      "[4,   950] acc: 0.542\n",
      "[4,  1000] loss: 0.006\n",
      "[4,  1000] acc: 0.756\n",
      "[4,  1050] loss: 0.038\n",
      "[4,  1050] acc: 0.506\n",
      "[4,  1100] loss: 0.024\n",
      "[4,  1100] acc: 0.640\n",
      "[4,  1150] loss: 0.013\n",
      "[4,  1150] acc: 0.773\n",
      "\n",
      "[9.045084971874738e-07]\n"
     ]
    },
    {
     "data": {
      "application/vnd.jupyter.widget-view+json": {
       "model_id": "60626f6f3d1a4e3d9b21bc314c22592e",
       "version_major": 2,
       "version_minor": 0
      },
      "text/plain": [
       "HBox(children=(FloatProgress(value=1.0, bar_style='info', max=1.0), HTML(value='')))"
      ]
     },
     "metadata": {},
     "output_type": "display_data"
    },
    {
     "name": "stdout",
     "output_type": "stream",
     "text": [
      "[5,    50] loss: 0.021\n",
      "[5,    50] acc: 0.659\n",
      "[5,   100] loss: 0.017\n",
      "[5,   100] acc: 0.629\n",
      "[5,   150] loss: 0.022\n",
      "[5,   150] acc: 0.619\n",
      "[5,   200] loss: 0.009\n",
      "[5,   200] acc: 0.807\n",
      "[5,   250] loss: 0.016\n",
      "[5,   250] acc: 0.670\n",
      "[5,   300] loss: 0.028\n",
      "[5,   300] acc: 0.576\n",
      "[5,   350] loss: 0.027\n",
      "[5,   350] acc: 0.659\n",
      "[5,   400] loss: 0.021\n",
      "[5,   400] acc: 0.699\n",
      "[5,   450] loss: 0.026\n",
      "[5,   450] acc: 0.616\n",
      "[5,   500] loss: 0.025\n",
      "[5,   500] acc: 0.516\n",
      "[5,   550] loss: 0.006\n",
      "[5,   550] acc: 0.739\n",
      "[5,   600] loss: 0.024\n",
      "[5,   600] acc: 0.670\n",
      "[5,   650] loss: 0.023\n",
      "[5,   650] acc: 0.614\n",
      "[5,   700] loss: 0.018\n",
      "[5,   700] acc: 0.670\n",
      "[5,   750] loss: 0.009\n",
      "[5,   750] acc: 0.714\n",
      "[5,   800] loss: 0.011\n",
      "[5,   800] acc: 0.786\n",
      "[5,   850] loss: 0.016\n",
      "[5,   850] acc: 0.723\n",
      "[5,   900] loss: 0.016\n",
      "[5,   900] acc: 0.637\n",
      "[5,   950] loss: 0.015\n",
      "[5,   950] acc: 0.716\n",
      "[5,  1000] loss: 0.007\n",
      "[5,  1000] acc: 0.764\n",
      "[5,  1050] loss: 0.039\n",
      "[5,  1050] acc: 0.475\n",
      "[5,  1100] loss: 0.020\n",
      "[5,  1100] acc: 0.646\n",
      "[5,  1150] loss: 0.015\n",
      "[5,  1150] acc: 0.723\n",
      "\n",
      "[8.535533905932738e-07]\n"
     ]
    },
    {
     "data": {
      "application/vnd.jupyter.widget-view+json": {
       "model_id": "522367c9aba0406c9e5164b72aeaebf2",
       "version_major": 2,
       "version_minor": 0
      },
      "text/plain": [
       "HBox(children=(FloatProgress(value=1.0, bar_style='info', max=1.0), HTML(value='')))"
      ]
     },
     "metadata": {},
     "output_type": "display_data"
    },
    {
     "name": "stdout",
     "output_type": "stream",
     "text": [
      "[6,    50] loss: 0.019\n",
      "[6,    50] acc: 0.651\n",
      "[6,   100] loss: 0.016\n",
      "[6,   100] acc: 0.759\n",
      "[6,   150] loss: 0.026\n",
      "[6,   150] acc: 0.545\n",
      "[6,   200] loss: 0.006\n",
      "[6,   200] acc: 0.812\n",
      "[6,   250] loss: 0.014\n",
      "[6,   250] acc: 0.661\n",
      "[6,   300] loss: 0.022\n",
      "[6,   300] acc: 0.555\n",
      "[6,   350] loss: 0.022\n",
      "[6,   350] acc: 0.742\n",
      "[6,   400] loss: 0.021\n",
      "[6,   400] acc: 0.686\n",
      "[6,   450] loss: 0.024\n",
      "[6,   450] acc: 0.626\n",
      "[6,   500] loss: 0.026\n",
      "[6,   500] acc: 0.668\n",
      "[6,   550] loss: 0.007\n",
      "[6,   550] acc: 0.734\n",
      "[6,   600] loss: 0.023\n",
      "[6,   600] acc: 0.657\n",
      "[6,   650] loss: 0.022\n",
      "[6,   650] acc: 0.635\n",
      "[6,   700] loss: 0.016\n",
      "[6,   700] acc: 0.719\n",
      "[6,   750] loss: 0.009\n",
      "[6,   750] acc: 0.737\n",
      "[6,   800] loss: 0.014\n",
      "[6,   800] acc: 0.660\n",
      "[6,   850] loss: 0.020\n",
      "[6,   850] acc: 0.659\n",
      "[6,   900] loss: 0.017\n",
      "[6,   900] acc: 0.674\n",
      "[6,   950] loss: 0.025\n",
      "[6,   950] acc: 0.685\n",
      "[6,  1000] loss: 0.006\n",
      "[6,  1000] acc: 0.763\n",
      "[6,  1050] loss: 0.039\n",
      "[6,  1050] acc: 0.506\n",
      "[6,  1100] loss: 0.016\n",
      "[6,  1100] acc: 0.599\n",
      "[6,  1150] loss: 0.016\n",
      "[6,  1150] acc: 0.722\n",
      "\n",
      "[7.938926261462367e-07]\n"
     ]
    },
    {
     "data": {
      "application/vnd.jupyter.widget-view+json": {
       "model_id": "b4c773923e8c4e5e804458a0a6be18da",
       "version_major": 2,
       "version_minor": 0
      },
      "text/plain": [
       "HBox(children=(FloatProgress(value=1.0, bar_style='info', max=1.0), HTML(value='')))"
      ]
     },
     "metadata": {},
     "output_type": "display_data"
    },
    {
     "name": "stdout",
     "output_type": "stream",
     "text": [
      "[7,    50] loss: 0.024\n",
      "[7,    50] acc: 0.656\n",
      "[7,   100] loss: 0.017\n",
      "[7,   100] acc: 0.734\n",
      "[7,   150] loss: 0.024\n",
      "[7,   150] acc: 0.546\n",
      "[7,   200] loss: 0.006\n",
      "[7,   200] acc: 0.826\n",
      "[7,   250] loss: 0.016\n",
      "[7,   250] acc: 0.628\n",
      "[7,   300] loss: 0.024\n",
      "[7,   300] acc: 0.543\n",
      "[7,   350] loss: 0.020\n",
      "[7,   350] acc: 0.661\n",
      "[7,   400] loss: 0.025\n",
      "[7,   400] acc: 0.626\n",
      "[7,   450] loss: 0.029\n",
      "[7,   450] acc: 0.452\n",
      "[7,   500] loss: 0.024\n",
      "[7,   500] acc: 0.567\n",
      "[7,   550] loss: 0.007\n",
      "[7,   550] acc: 0.690\n",
      "[7,   600] loss: 0.023\n",
      "[7,   600] acc: 0.661\n",
      "[7,   650] loss: 0.022\n",
      "[7,   650] acc: 0.643\n",
      "[7,   700] loss: 0.015\n",
      "[7,   700] acc: 0.634\n",
      "[7,   750] loss: 0.008\n",
      "[7,   750] acc: 0.723\n",
      "[7,   800] loss: 0.015\n",
      "[7,   800] acc: 0.667\n",
      "[7,   850] loss: 0.019\n",
      "[7,   850] acc: 0.729\n",
      "[7,   900] loss: 0.017\n",
      "[7,   900] acc: 0.635\n",
      "[7,   950] loss: 0.015\n",
      "[7,   950] acc: 0.765\n",
      "[7,  1000] loss: 0.006\n",
      "[7,  1000] acc: 0.754\n",
      "[7,  1050] loss: 0.039\n",
      "[7,  1050] acc: 0.506\n",
      "[7,  1100] loss: 0.018\n",
      "[7,  1100] acc: 0.609\n",
      "[7,  1150] loss: 0.014\n",
      "[7,  1150] acc: 0.772\n",
      "\n",
      "[7.269952498697736e-07]\n"
     ]
    },
    {
     "data": {
      "application/vnd.jupyter.widget-view+json": {
       "model_id": "800403b434b749fd8f4b578b94f3278b",
       "version_major": 2,
       "version_minor": 0
      },
      "text/plain": [
       "HBox(children=(FloatProgress(value=1.0, bar_style='info', max=1.0), HTML(value='')))"
      ]
     },
     "metadata": {},
     "output_type": "display_data"
    },
    {
     "name": "stdout",
     "output_type": "stream",
     "text": [
      "[8,    50] loss: 0.019\n",
      "[8,    50] acc: 0.670\n",
      "[8,   100] loss: 0.016\n",
      "[8,   100] acc: 0.679\n",
      "[8,   150] loss: 0.024\n",
      "[8,   150] acc: 0.551\n",
      "[8,   200] loss: 0.006\n",
      "[8,   200] acc: 0.805\n",
      "[8,   250] loss: 0.014\n",
      "[8,   250] acc: 0.667\n",
      "[8,   300] loss: 0.024\n",
      "[8,   300] acc: 0.598\n",
      "[8,   350] loss: 0.023\n",
      "[8,   350] acc: 0.618\n",
      "[8,   400] loss: 0.023\n",
      "[8,   400] acc: 0.627\n",
      "[8,   450] loss: 0.025\n",
      "[8,   450] acc: 0.619\n",
      "[8,   500] loss: 0.025\n",
      "[8,   500] acc: 0.494\n",
      "[8,   550] loss: 0.008\n",
      "[8,   550] acc: 0.734\n",
      "[8,   600] loss: 0.024\n",
      "[8,   600] acc: 0.585\n",
      "[8,   650] loss: 0.023\n",
      "[8,   650] acc: 0.635\n",
      "[8,   700] loss: 0.015\n",
      "[8,   700] acc: 0.720\n",
      "[8,   750] loss: 0.012\n",
      "[8,   750] acc: 0.687\n",
      "[8,   800] loss: 0.013\n",
      "[8,   800] acc: 0.709\n",
      "[8,   850] loss: 0.017\n",
      "[8,   850] acc: 0.618\n",
      "[8,   900] loss: 0.017\n",
      "[8,   900] acc: 0.629\n",
      "[8,   950] loss: 0.015\n",
      "[8,   950] acc: 0.767\n",
      "[8,  1000] loss: 0.011\n",
      "[8,  1000] acc: 0.775\n",
      "[8,  1050] loss: 0.033\n",
      "[8,  1050] acc: 0.497\n",
      "[8,  1100] loss: 0.017\n",
      "[8,  1100] acc: 0.646\n",
      "[8,  1150] loss: 0.016\n",
      "[8,  1150] acc: 0.721\n",
      "\n",
      "[6.54508497187474e-07]\n"
     ]
    },
    {
     "data": {
      "application/vnd.jupyter.widget-view+json": {
       "model_id": "7687f0304ccb4f5bb5d8d226e55c14cf",
       "version_major": 2,
       "version_minor": 0
      },
      "text/plain": [
       "HBox(children=(FloatProgress(value=1.0, bar_style='info', max=1.0), HTML(value='')))"
      ]
     },
     "metadata": {},
     "output_type": "display_data"
    },
    {
     "name": "stdout",
     "output_type": "stream",
     "text": [
      "[9,    50] loss: 0.021\n",
      "[9,    50] acc: 0.703\n",
      "[9,   100] loss: 0.014\n",
      "[9,   100] acc: 0.733\n",
      "[9,   150] loss: 0.026\n",
      "[9,   150] acc: 0.574\n",
      "[9,   200] loss: 0.009\n",
      "[9,   200] acc: 0.740\n",
      "[9,   250] loss: 0.015\n",
      "[9,   250] acc: 0.714\n",
      "[9,   300] loss: 0.030\n",
      "[9,   300] acc: 0.576\n",
      "[9,   350] loss: 0.021\n",
      "[9,   350] acc: 0.742\n",
      "[9,   400] loss: 0.019\n",
      "[9,   400] acc: 0.683\n",
      "[9,   450] loss: 0.030\n",
      "[9,   450] acc: 0.542\n",
      "[9,   500] loss: 0.024\n",
      "[9,   500] acc: 0.597\n",
      "[9,   550] loss: 0.008\n",
      "[9,   550] acc: 0.765\n",
      "[9,   600] loss: 0.025\n",
      "[9,   600] acc: 0.672\n",
      "[9,   650] loss: 0.018\n",
      "[9,   650] acc: 0.704\n",
      "[9,   700] loss: 0.019\n",
      "[9,   700] acc: 0.703\n",
      "[9,   750] loss: 0.009\n",
      "[9,   750] acc: 0.731\n",
      "[9,   800] loss: 0.015\n",
      "[9,   800] acc: 0.704\n",
      "[9,   850] loss: 0.020\n",
      "[9,   850] acc: 0.620\n",
      "[9,   900] loss: 0.016\n",
      "[9,   900] acc: 0.660\n",
      "[9,   950] loss: 0.015\n",
      "[9,   950] acc: 0.767\n",
      "[9,  1000] loss: 0.006\n",
      "[9,  1000] acc: 0.796\n",
      "[9,  1050] loss: 0.039\n",
      "[9,  1050] acc: 0.435\n",
      "[9,  1100] loss: 0.022\n",
      "[9,  1100] acc: 0.615\n",
      "[9,  1150] loss: 0.013\n",
      "[9,  1150] acc: 0.701\n",
      "\n",
      "[5.782172325201157e-07]\n"
     ]
    },
    {
     "data": {
      "application/vnd.jupyter.widget-view+json": {
       "model_id": "bf30d32a87a34b43a588464942944c2d",
       "version_major": 2,
       "version_minor": 0
      },
      "text/plain": [
       "HBox(children=(FloatProgress(value=1.0, bar_style='info', max=1.0), HTML(value='')))"
      ]
     },
     "metadata": {},
     "output_type": "display_data"
    },
    {
     "name": "stdout",
     "output_type": "stream",
     "text": [
      "[10,    50] loss: 0.022\n",
      "[10,    50] acc: 0.653\n",
      "[10,   100] loss: 0.014\n",
      "[10,   100] acc: 0.808\n",
      "[10,   150] loss: 0.029\n",
      "[10,   150] acc: 0.629\n",
      "[10,   200] loss: 0.006\n",
      "[10,   200] acc: 0.804\n",
      "[10,   250] loss: 0.016\n",
      "[10,   250] acc: 0.646\n",
      "[10,   300] loss: 0.028\n",
      "[10,   300] acc: 0.592\n",
      "[10,   350] loss: 0.019\n",
      "[10,   350] acc: 0.720\n",
      "[10,   400] loss: 0.017\n",
      "[10,   400] acc: 0.697\n",
      "[10,   450] loss: 0.030\n",
      "[10,   450] acc: 0.542\n",
      "[10,   500] loss: 0.026\n",
      "[10,   500] acc: 0.646\n",
      "[10,   550] loss: 0.007\n",
      "[10,   550] acc: 0.772\n",
      "[10,   600] loss: 0.021\n",
      "[10,   600] acc: 0.597\n",
      "[10,   650] loss: 0.022\n",
      "[10,   650] acc: 0.623\n",
      "[10,   700] loss: 0.016\n",
      "[10,   700] acc: 0.704\n",
      "[10,   750] loss: 0.010\n",
      "[10,   750] acc: 0.728\n",
      "[10,   800] loss: 0.014\n",
      "[10,   800] acc: 0.709\n",
      "[10,   850] loss: 0.015\n",
      "[10,   850] acc: 0.744\n",
      "[10,   900] loss: 0.018\n",
      "[10,   900] acc: 0.623\n",
      "[10,   950] loss: 0.016\n",
      "[10,   950] acc: 0.712\n",
      "[10,  1000] loss: 0.005\n",
      "[10,  1000] acc: 0.754\n",
      "[10,  1050] loss: 0.042\n",
      "[10,  1050] acc: 0.470\n",
      "[10,  1100] loss: 0.019\n",
      "[10,  1100] acc: 0.609\n",
      "[10,  1150] loss: 0.013\n",
      "[10,  1150] acc: 0.772\n",
      "\n",
      "\n",
      "Finished Training\n"
     ]
    },
    {
     "data": {
      "application/vnd.jupyter.widget-view+json": {
       "model_id": "b186117cc05a427b87a8dda13013cc7f",
       "version_major": 2,
       "version_minor": 0
      },
      "text/plain": [
       "HBox(children=(FloatProgress(value=1.0, bar_style='info', max=1.0), HTML(value='')))"
      ]
     },
     "metadata": {},
     "output_type": "display_data"
    },
    {
     "name": "stdout",
     "output_type": "stream",
     "text": [
      "\n",
      "342 3824 182 510\n",
      "0 4735 123 0\n"
     ]
    }
   ],
   "source": [
    "classes = pd.read_csv('/media/aous/Samsung_T5/classes.csv')\n",
    "train_classes = classes[classes.slice.isin(traindf['slice'].unique())]\n",
    "Num_max = 6000\n",
    "perc = 0.5\n",
    "#L = list(np.random.choice(train_classes[train_classes.central_pe == 1][train_classes.rightsided_pe == 0]['slice'].unique(), int((1-perc)*Num_max*1.5/5.0)))\n",
    "#print(len(L), \"central\")\n",
    "#L = list(np.random.choice(train_classes[train_classes.rightsided_pe == 1]['slice'].unique(), int((1-perc)*0.5*Num_max)))\n",
    "#print(int((1-perc)*0.5*Num_max), \"right\")\n",
    "#L += list(np.random.choice(train_classes[train_classes.rightsided_pe == 1][train_classes.central_pe == 1]['slice'].unique(), int((1-perc)*Num_max*1/5.0)))\n",
    "#print(int((1-perc)*Num_max*1/5.0), \"right/ central\")\n",
    "#L += list(np.random.choice(train_classes[train_classes.PE == 1][train_classes.rightsided_pe == 0][train_classes.central_pe == 0]['slice'].unique(), int((1-perc)*Num_max*1.5/5.0)))\n",
    "#print(int((1-perc)*Num_max*1/5.0), \"left only\")\n",
    "Negative_Exams = train_classes[train_classes.PE == 0]['slice'].unique()\n",
    "np.random.shuffle(Negative_Exams)\n",
    "L = list(np.random.choice(Negative_Exams, int(Num_max*perc)))\n",
    "print(int(Num_max*perc), \"negative\")\n",
    "Positive_Exams = train_classes[train_classes.PE == 1]['slice'].unique()\n",
    "np.random.shuffle(Positive_Exams)\n",
    "L += list(np.random.choice(Positive_Exams, int(Num_max*perc)))\n",
    "print(len(L), \"all\")\n",
    "\n",
    "np.random.shuffle(L)\n",
    "new_traindf = traindf[traindf.slice.isin(L)].reset_index().drop(['index'], axis = 1)\n",
    "train_dataset = PE_dataset(new_traindf, augment = True, window = 48)\n",
    "test_dataset = PE_dataset(testdf, augment = False, window = 48)\n",
    "train_loader = torch.utils.data.DataLoader(train_dataset, batch_size = 4, num_workers = 4)\n",
    "test_loader = torch.utils.data.DataLoader(test_dataset, batch_size = 2, num_workers = 4)\n",
    "\n",
    "criterion1 = FocalLoss(alpha = 1, gamma = 2)              \n",
    "criterion2 = nn.CrossEntropyLoss()\n",
    "\n",
    "net = peNet(2)\n",
    "net.load_state_dict(torch.load('PE_50_2.pth'))\n",
    "learning_rate = 1e-6\n",
    "#net = nn.DataParallel(net)\n",
    "optimizer = torch.optim.SGD(net.parameters(), lr=learning_rate, momentum = 0.9, dampening=0.9, weight_decay=1e-3) \n",
    "scheduler = torch.optim.lr_scheduler.CosineAnnealingLR(optimizer, T_max = 20, eta_min=0, last_epoch=-1)\n",
    "train(net, optimizer, train_loader, criterion1, criterion2, alpha = 1,  n_epoch = 10, visualize =True,\n",
    "                  cuda = True, classe = 2,  train_acc_period = 50, scheduler = scheduler, detection = True)\n",
    "result = evaluate_per_class(net, test_loader, 1)"
   ]
  },
  {
   "cell_type": "code",
   "execution_count": 13,
   "metadata": {},
   "outputs": [
    {
     "data": {
      "text/plain": [
       "((0.6526716311695361, 0.40140840359056296, 0.49704579653936065),\n",
       " (0.0, 0.0, 0.0))"
      ]
     },
     "execution_count": 13,
     "metadata": {},
     "output_type": "execute_result"
    }
   ],
   "source": [
    "result"
   ]
  },
  {
   "cell_type": "code",
   "execution_count": 17,
   "metadata": {},
   "outputs": [
    {
     "name": "stderr",
     "output_type": "stream",
     "text": [
      "/home/aous/miniconda3/lib/python3.7/site-packages/ipykernel_launcher.py:3: UserWarning: Boolean Series key will be reindexed to match DataFrame index.\n",
      "  This is separate from the ipykernel package so we can avoid doing imports until\n"
     ]
    },
    {
     "data": {
      "text/plain": [
       "151"
      ]
     },
     "execution_count": 17,
     "metadata": {},
     "output_type": "execute_result"
    }
   ],
   "source": [
    "classes = pd.read_csv('/media/aous/Samsung_T5/classes.csv')\n",
    "test_classes = classes[classes.slice.isin(testdf['slice'].unique())]\n",
    "test_classes[test_classes.PE == 1][test_classes.leftsided_pe == 0]['slice'].nunique()"
   ]
  },
  {
   "cell_type": "code",
   "execution_count": 22,
   "metadata": {},
   "outputs": [
    {
     "data": {
      "text/plain": [
       "4334"
      ]
     },
     "execution_count": 22,
     "metadata": {},
     "output_type": "execute_result"
    }
   ],
   "source": [
    "test_classes[test_classes.PE == 0]['slice'].nunique()"
   ]
  },
  {
   "cell_type": "code",
   "execution_count": 36,
   "metadata": {},
   "outputs": [
    {
     "name": "stderr",
     "output_type": "stream",
     "text": [
      "/home/aous/miniconda3/lib/python3.7/site-packages/ipykernel_launcher.py:1: UserWarning: Boolean Series key will be reindexed to match DataFrame index.\n",
      "  \"\"\"Entry point for launching an IPython kernel.\n"
     ]
    },
    {
     "data": {
      "text/plain": [
       "2471"
      ]
     },
     "execution_count": 36,
     "metadata": {},
     "output_type": "execute_result"
    }
   ],
   "source": [
    "train_classes[train_classes.PE == 1][train_classes.central_pe == 0]['slice'].nunique()"
   ]
  },
  {
   "cell_type": "code",
   "execution_count": 37,
   "metadata": {},
   "outputs": [
    {
     "name": "stderr",
     "output_type": "stream",
     "text": [
      "/home/aous/miniconda3/lib/python3.7/site-packages/ipykernel_launcher.py:1: UserWarning: Boolean Series key will be reindexed to match DataFrame index.\n",
      "  \"\"\"Entry point for launching an IPython kernel.\n"
     ]
    },
    {
     "data": {
      "text/plain": [
       "724"
      ]
     },
     "execution_count": 37,
     "metadata": {},
     "output_type": "execute_result"
    }
   ],
   "source": [
    "train_classes[train_classes.PE == 1][train_classes.central_pe == 1]['slice'].nunique()"
   ]
  },
  {
   "cell_type": "code",
   "execution_count": 32,
   "metadata": {},
   "outputs": [
    {
     "name": "stderr",
     "output_type": "stream",
     "text": [
      "/home/aous/miniconda3/lib/python3.7/site-packages/ipykernel_launcher.py:1: UserWarning: Boolean Series key will be reindexed to match DataFrame index.\n",
      "  \"\"\"Entry point for launching an IPython kernel.\n"
     ]
    },
    {
     "data": {
      "text/plain": [
       "22"
      ]
     },
     "execution_count": 32,
     "metadata": {},
     "output_type": "execute_result"
    }
   ],
   "source": [
    "test_classes[test_classes.PE == 1][test_classes.chronic_class == 2]['slice'].nunique()"
   ]
  },
  {
   "cell_type": "markdown",
   "metadata": {},
   "source": [
    "# Left"
   ]
  },
  {
   "cell_type": "code",
   "execution_count": 16,
   "metadata": {
    "scrolled": true
   },
   "outputs": [
    {
     "name": "stdout",
     "output_type": "stream",
     "text": [
      "875 left\n",
      "1750 all\n"
     ]
    },
    {
     "name": "stderr",
     "output_type": "stream",
     "text": [
      "/home/aous/miniconda3/lib/python3.7/site-packages/ipykernel_launcher.py:17: UserWarning: Boolean Series key will be reindexed to match DataFrame index.\n"
     ]
    },
    {
     "name": "stdout",
     "output_type": "stream",
     "text": [
      "env: CUDA_LAUNCH_BLOCKING=1\n"
     ]
    },
    {
     "data": {
      "application/vnd.jupyter.widget-view+json": {
       "model_id": "2100e3a9f1d84f2f9ee2d92b403f22eb",
       "version_major": 2,
       "version_minor": 0
      },
      "text/plain": [
       "HBox(children=(FloatProgress(value=0.0, max=6.0), HTML(value='')))"
      ]
     },
     "metadata": {},
     "output_type": "display_data"
    },
    {
     "name": "stdout",
     "output_type": "stream",
     "text": [
      "[0.7]\n"
     ]
    },
    {
     "data": {
      "application/vnd.jupyter.widget-view+json": {
       "model_id": "3ad5472887ab46e399c54754ff292ded",
       "version_major": 2,
       "version_minor": 0
      },
      "text/plain": [
       "HBox(children=(FloatProgress(value=1.0, bar_style='info', max=1.0), HTML(value='')))"
      ]
     },
     "metadata": {},
     "output_type": "display_data"
    },
    {
     "name": "stdout",
     "output_type": "stream",
     "text": [
      "[1,    50] loss: 0.245\n",
      "[1,    50] acc: 0.308\n",
      "[1,   100] loss: 0.168\n",
      "[1,   100] acc: 0.604\n",
      "[1,   150] loss: 0.175\n",
      "[1,   150] acc: 0.488\n",
      "[1,   200] loss: 0.168\n",
      "[1,   200] acc: 0.473\n",
      "[1,   250] loss: 0.152\n",
      "[1,   250] acc: 0.614\n",
      "[1,   300] loss: 0.168\n",
      "[1,   300] acc: 0.467\n",
      "\n",
      "[0.6828697807033037]\n"
     ]
    },
    {
     "data": {
      "application/vnd.jupyter.widget-view+json": {
       "model_id": "75e1ed5e291a43958678a65449ada14a",
       "version_major": 2,
       "version_minor": 0
      },
      "text/plain": [
       "HBox(children=(FloatProgress(value=1.0, bar_style='info', max=1.0), HTML(value='')))"
      ]
     },
     "metadata": {},
     "output_type": "display_data"
    },
    {
     "name": "stdout",
     "output_type": "stream",
     "text": [
      "[2,    50] loss: 0.203\n",
      "[2,    50] acc: 0.305\n",
      "[2,   100] loss: 0.159\n",
      "[2,   100] acc: 0.630\n",
      "[2,   150] loss: 0.188\n",
      "[2,   150] acc: 0.448\n",
      "[2,   200] loss: 0.181\n",
      "[2,   200] acc: 0.473\n",
      "[2,   250] loss: 0.154\n",
      "[2,   250] acc: 0.614\n",
      "[2,   300] loss: 0.163\n",
      "[2,   300] acc: 0.566\n",
      "\n",
      "[0.6331559480312315]\n"
     ]
    },
    {
     "data": {
      "application/vnd.jupyter.widget-view+json": {
       "model_id": "aed6711c8ba544e589f3f168bba50a36",
       "version_major": 2,
       "version_minor": 0
      },
      "text/plain": [
       "HBox(children=(FloatProgress(value=1.0, bar_style='info', max=1.0), HTML(value='')))"
      ]
     },
     "metadata": {},
     "output_type": "display_data"
    },
    {
     "name": "stdout",
     "output_type": "stream",
     "text": [
      "[3,    50] loss: 0.214\n",
      "[3,    50] acc: 0.305\n",
      "[3,   100] loss: 0.161\n",
      "[3,   100] acc: 0.629\n",
      "[3,   150] loss: 0.163\n",
      "[3,   150] acc: 0.538\n",
      "[3,   200] loss: 0.178\n",
      "[3,   200] acc: 0.473\n",
      "[3,   250] loss: 0.154\n",
      "[3,   250] acc: 0.614\n",
      "[3,   300] loss: 0.167\n",
      "[3,   300] acc: 0.501\n",
      "\n",
      "[0.5557248383023655]\n"
     ]
    },
    {
     "data": {
      "application/vnd.jupyter.widget-view+json": {
       "model_id": "b86dd7472060420aa7a1c127cfd5664b",
       "version_major": 2,
       "version_minor": 0
      },
      "text/plain": [
       "HBox(children=(FloatProgress(value=1.0, bar_style='info', max=1.0), HTML(value='')))"
      ]
     },
     "metadata": {},
     "output_type": "display_data"
    },
    {
     "name": "stdout",
     "output_type": "stream",
     "text": [
      "[4,    50] loss: 0.213\n",
      "[4,    50] acc: 0.303\n",
      "[4,   100] loss: 0.160\n",
      "[4,   100] acc: 0.630\n",
      "[4,   150] loss: 0.165\n",
      "[4,   150] acc: 0.500\n",
      "[4,   200] loss: 0.179\n",
      "[4,   200] acc: 0.473\n",
      "[4,   250] loss: 0.153\n",
      "[4,   250] acc: 0.614\n",
      "[4,   300] loss: 0.169\n",
      "[4,   300] acc: 0.500\n",
      "\n",
      "[0.45815594803123155]\n"
     ]
    },
    {
     "data": {
      "application/vnd.jupyter.widget-view+json": {
       "model_id": "5f51275b2ae044f9b2cf9b1f44807a43",
       "version_major": 2,
       "version_minor": 0
      },
      "text/plain": [
       "HBox(children=(FloatProgress(value=1.0, bar_style='info', max=1.0), HTML(value='')))"
      ]
     },
     "metadata": {},
     "output_type": "display_data"
    },
    {
     "name": "stdout",
     "output_type": "stream",
     "text": [
      "[5,    50] loss: 0.206\n",
      "[5,    50] acc: 0.303\n",
      "[5,   100] loss: 0.158\n",
      "[5,   100] acc: 0.630\n",
      "[5,   150] loss: 0.166\n",
      "[5,   150] acc: 0.500\n",
      "[5,   200] loss: 0.177\n",
      "[5,   200] acc: 0.473\n",
      "[5,   250] loss: 0.153\n",
      "[5,   250] acc: 0.614\n",
      "[5,   300] loss: 0.168\n",
      "[5,   300] acc: 0.501\n",
      "\n",
      "[0.35]\n"
     ]
    },
    {
     "data": {
      "application/vnd.jupyter.widget-view+json": {
       "model_id": "7b0c632f96af46c785735443448475bc",
       "version_major": 2,
       "version_minor": 0
      },
      "text/plain": [
       "HBox(children=(FloatProgress(value=1.0, bar_style='info', max=1.0), HTML(value='')))"
      ]
     },
     "metadata": {},
     "output_type": "display_data"
    },
    {
     "name": "stdout",
     "output_type": "stream",
     "text": [
      "[6,    50] loss: 0.198\n",
      "[6,    50] acc: 0.303\n",
      "[6,   100] loss: 0.161\n",
      "[6,   100] acc: 0.639\n",
      "[6,   150] loss: 0.167\n",
      "[6,   150] acc: 0.498\n",
      "[6,   200] loss: 0.175\n",
      "[6,   200] acc: 0.473\n",
      "[6,   250] loss: 0.153\n",
      "[6,   250] acc: 0.613\n",
      "[6,   300] loss: 0.168\n",
      "[6,   300] acc: 0.500\n",
      "\n",
      "\n",
      "Finished Training\n"
     ]
    },
    {
     "data": {
      "application/vnd.jupyter.widget-view+json": {
       "model_id": "6f85b3b06e5c4c0e81305446217712c0",
       "version_major": 2,
       "version_minor": 0
      },
      "text/plain": [
       "HBox(children=(FloatProgress(value=1.0, bar_style='info', max=1.0), HTML(value='')))"
      ]
     },
     "metadata": {},
     "output_type": "display_data"
    },
    {
     "name": "stdout",
     "output_type": "stream",
     "text": [
      "\n",
      "373 4858\n"
     ]
    },
    {
     "ename": "NameError",
     "evalue": "name 'f0' is not defined",
     "output_type": "error",
     "traceback": [
      "\u001b[0;31m---------------------------------------------------------------------------\u001b[0m",
      "\u001b[0;31mNameError\u001b[0m                                 Traceback (most recent call last)",
      "\u001b[0;32m<ipython-input-16-cf8b8a87926b>\u001b[0m in \u001b[0;36m<module>\u001b[0;34m\u001b[0m\n\u001b[1;32m     38\u001b[0m train(net, optimizer, train_loader, criterion1, criterion2, alpha = 1,  n_epoch = 6, visualize =True,\n\u001b[1;32m     39\u001b[0m                   cuda = True, classe = 3,  train_acc_period = 50, scheduler = scheduler, detection = True)\n\u001b[0;32m---> 40\u001b[0;31m \u001b[0mresult\u001b[0m \u001b[0;34m=\u001b[0m \u001b[0mevaluate_per_class_CRE\u001b[0m\u001b[0;34m(\u001b[0m\u001b[0mnet\u001b[0m\u001b[0;34m,\u001b[0m \u001b[0mtest_loader\u001b[0m\u001b[0;34m,\u001b[0m \u001b[0;36m3\u001b[0m\u001b[0;34m)\u001b[0m\u001b[0;34m\u001b[0m\u001b[0;34m\u001b[0m\u001b[0m\n\u001b[0m",
      "\u001b[0;32m<ipython-input-8-a2a0dd6612f4>\u001b[0m in \u001b[0;36mevaluate_per_class_CRE\u001b[0;34m(net, test_loader, classe)\u001b[0m\n\u001b[1;32m    133\u001b[0m     \u001b[0mf1\u001b[0m \u001b[0;34m=\u001b[0m \u001b[0mfloat\u001b[0m\u001b[0;34m(\u001b[0m\u001b[0mcorrect\u001b[0m\u001b[0;34m)\u001b[0m\u001b[0;34m/\u001b[0m\u001b[0mtotal\u001b[0m \u001b[0;31m#81% base\u001b[0m\u001b[0;34m\u001b[0m\u001b[0;34m\u001b[0m\u001b[0m\n\u001b[1;32m    134\u001b[0m     \u001b[0mprint\u001b[0m\u001b[0;34m(\u001b[0m\u001b[0mcorrect\u001b[0m\u001b[0;34m,\u001b[0m \u001b[0mtotal\u001b[0m\u001b[0;34m)\u001b[0m\u001b[0;34m\u001b[0m\u001b[0;34m\u001b[0m\u001b[0m\n\u001b[0;32m--> 135\u001b[0;31m     \u001b[0;32mreturn\u001b[0m\u001b[0;34m(\u001b[0m\u001b[0mf0\u001b[0m\u001b[0;34m,\u001b[0m \u001b[0mf1\u001b[0m\u001b[0;34m)\u001b[0m\u001b[0;34m\u001b[0m\u001b[0;34m\u001b[0m\u001b[0m\n\u001b[0m",
      "\u001b[0;31mNameError\u001b[0m: name 'f0' is not defined"
     ]
    }
   ],
   "source": [
    "classes = pd.read_csv('/media/aous/Samsung_T5/classes.csv')\n",
    "train_classes = classes[classes.slice.isin(traindf['slice'].unique())]\n",
    "Num_max = 1750\n",
    "perc = 0.5\n",
    "#L = list(np.random.choice(train_classes[train_classes.central_pe == 1][train_classes.rightsided_pe == 0]['slice'].unique(), int((1-perc)*Num_max*1.5/5.0)))\n",
    "#print(len(L), \"central\")\n",
    "L = list(np.random.choice(train_classes[train_classes.leftsided_pe == 1]['slice'].unique(), int(Num_max/2.0)))\n",
    "print(int(Num_max/2.0), \"left\")\n",
    "#L += list(np.random.choice(train_classes[train_classes.rightsided_pe == 1][train_classes.central_pe == 1]['slice'].unique(), int((1-perc)*Num_max*1/5.0)))\n",
    "#print(int((1-perc)*Num_max*1/5.0), \"right/ central\")\n",
    "#L += list(np.random.choice(train_classes[train_classes.PE == 1][train_classes.rightsided_pe == 0][train_classes.central_pe == 0]['slice'].unique(), int((1-perc)*Num_max*1.5/5.0)))\n",
    "#print(int((1-perc)*Num_max*1/5.0), \"left only\")\n",
    "#Negative_Exams = train_classes[train_classes.PE == 0]['slice'].unique()\n",
    "#np.random.shuffle(Negative_Exams)\n",
    "#L += list(np.random.choice(Negative_Exams, int(Num_max/4.0)))\n",
    "#print(int(Num_max/4.0), \"negative\")\n",
    "Positive_Exams = train_classes[train_classes.PE == 1][train_classes.leftsided_pe == 0]['slice'].unique()\n",
    "np.random.shuffle(Positive_Exams)\n",
    "L += list(np.random.choice(Positive_Exams, int(Num_max/2.0)))\n",
    "print(len(L), \"all\")\n",
    "\n",
    "np.random.shuffle(L)\n",
    "new_traindf = traindf[traindf.slice.isin(L)].reset_index().drop(['index'], axis = 1)\n",
    "train_dataset = PE_dataset(new_traindf, augment = True, window = 48)\n",
    "test_dataset = PE_dataset(testdf, augment = False, window = 48)\n",
    "train_loader = torch.utils.data.DataLoader(train_dataset, batch_size = 4, num_workers = 4)\n",
    "test_loader = torch.utils.data.DataLoader(test_dataset, batch_size = 2, num_workers = 4)\n",
    "\n",
    "criterion2 = FocalLoss(alpha = 1, gamma = 2)              \n",
    "criterion1 = nn.CrossEntropyLoss()\n",
    "\n",
    "net = peNet(2)\n",
    "#net.load_state_dict(torch.load('PE_50_2.pth'))\n",
    "learning_rate = 0.7\n",
    "#net = nn.DataParallel(net)\n",
    "optimizer = torch.optim.SGD(net.parameters(), lr=learning_rate, momentum = 0.9, dampening=0.9, weight_decay=1e-3) \n",
    "scheduler = torch.optim.lr_scheduler.CosineAnnealingLR(optimizer, T_max = 10, eta_min=0, last_epoch=-1)\n",
    "train(net, optimizer, train_loader, criterion1, criterion2, alpha = 1,  n_epoch = 6, visualize =True,\n",
    "                  cuda = True, classe = 3,  train_acc_period = 50, scheduler = scheduler, detection = True)\n",
    "result = evaluate_per_class_CRE(net, test_loader, 3)"
   ]
  },
  {
   "cell_type": "code",
   "execution_count": 15,
   "metadata": {},
   "outputs": [
    {
     "data": {
      "text/plain": [
       "((0.917938756118558, 0.20759602038860506, 0.33858305856893767),\n",
       " (0.0, 0.0, 0.0))"
      ]
     },
     "execution_count": 15,
     "metadata": {},
     "output_type": "execute_result"
    }
   ],
   "source": [
    "result"
   ]
  },
  {
   "cell_type": "code",
   "execution_count": 19,
   "metadata": {},
   "outputs": [],
   "source": [
    "#torch.save(net.state_dict(), 'PEright_45_49.pth')"
   ]
  },
  {
   "cell_type": "code",
   "execution_count": 17,
   "metadata": {},
   "outputs": [
    {
     "name": "stdout",
     "output_type": "stream",
     "text": [
      "env: CUDA_LAUNCH_BLOCKING=1\n"
     ]
    },
    {
     "data": {
      "application/vnd.jupyter.widget-view+json": {
       "model_id": "39a6d34b82ad43649463726b17e0e994",
       "version_major": 2,
       "version_minor": 0
      },
      "text/plain": [
       "HBox(children=(FloatProgress(value=0.0, max=6.0), HTML(value='')))"
      ]
     },
     "metadata": {},
     "output_type": "display_data"
    },
    {
     "name": "stdout",
     "output_type": "stream",
     "text": [
      "[5e-06]\n"
     ]
    },
    {
     "data": {
      "application/vnd.jupyter.widget-view+json": {
       "model_id": "63bb3b10b2a04083b26e79dd49ae23b8",
       "version_major": 2,
       "version_minor": 0
      },
      "text/plain": [
       "HBox(children=(FloatProgress(value=1.0, bar_style='info', max=1.0), HTML(value='')))"
      ]
     },
     "metadata": {},
     "output_type": "display_data"
    },
    {
     "name": "stdout",
     "output_type": "stream",
     "text": [
      "[1,    50] loss: 1.626\n",
      "[1,    50] acc: 0.731\n",
      "[1,   100] loss: 2.331\n",
      "[1,   100] acc: 0.714\n",
      "[1,   150] loss: 2.570\n",
      "[1,   150] acc: 0.645\n",
      "[1,   200] loss: 2.449\n",
      "[1,   200] acc: 0.606\n",
      "[1,   250] loss: 2.071\n",
      "[1,   250] acc: 0.665\n",
      "[1,   300] loss: 3.663\n",
      "[1,   300] acc: 0.603\n",
      "[1,   350] loss: 2.016\n",
      "[1,   350] acc: 0.693\n",
      "[1,   400] loss: 4.135\n",
      "[1,   400] acc: 0.570\n",
      "[1,   450] loss: 1.974\n",
      "[1,   450] acc: 0.702\n",
      "[1,   500] loss: 2.797\n",
      "[1,   500] acc: 0.624\n",
      "[1,   550] loss: 3.319\n",
      "[1,   550] acc: 0.639\n",
      "[1,   600] loss: 0.943\n",
      "[1,   600] acc: 0.679\n",
      "[1,   650] loss: 0.113\n",
      "[1,   650] acc: 0.749\n",
      "[1,   700] loss: 0.104\n",
      "[1,   700] acc: 0.716\n",
      "[1,   750] loss: 0.149\n",
      "[1,   750] acc: 0.712\n",
      "[1,   800] loss: 0.094\n",
      "[1,   800] acc: 0.732\n",
      "\n",
      "[4.809698831278217e-06]\n"
     ]
    },
    {
     "data": {
      "application/vnd.jupyter.widget-view+json": {
       "model_id": "643a28ffa04146f59c2c199569f41c28",
       "version_major": 2,
       "version_minor": 0
      },
      "text/plain": [
       "HBox(children=(FloatProgress(value=1.0, bar_style='info', max=1.0), HTML(value='')))"
      ]
     },
     "metadata": {},
     "output_type": "display_data"
    },
    {
     "name": "stdout",
     "output_type": "stream",
     "text": [
      "[2,    50] loss: 0.145\n",
      "[2,    50] acc: 0.719\n",
      "[2,   100] loss: 0.129\n",
      "[2,   100] acc: 0.659\n",
      "[2,   150] loss: 0.149\n",
      "[2,   150] acc: 0.654\n",
      "[2,   200] loss: 0.133\n",
      "[2,   200] acc: 0.666\n",
      "[2,   250] loss: 0.128\n",
      "[2,   250] acc: 0.696\n",
      "[2,   300] loss: 0.162\n",
      "[2,   300] acc: 0.631\n",
      "[2,   350] loss: 0.123\n",
      "[2,   350] acc: 0.695\n",
      "[2,   400] loss: 0.171\n",
      "[2,   400] acc: 0.638\n",
      "[2,   450] loss: 0.115\n",
      "[2,   450] acc: 0.679\n",
      "[2,   500] loss: 0.136\n",
      "[2,   500] acc: 0.645\n",
      "[2,   550] loss: 0.143\n",
      "[2,   550] acc: 0.629\n",
      "[2,   600] loss: 0.098\n",
      "[2,   600] acc: 0.760\n",
      "[2,   650] loss: 0.103\n",
      "[2,   650] acc: 0.774\n",
      "[2,   700] loss: 0.093\n",
      "[2,   700] acc: 0.736\n",
      "[2,   750] loss: 0.135\n",
      "[2,   750] acc: 0.725\n",
      "[2,   800] loss: 0.086\n",
      "[2,   800] acc: 0.745\n",
      "\n",
      "[4.2677669529663685e-06]\n"
     ]
    },
    {
     "data": {
      "application/vnd.jupyter.widget-view+json": {
       "model_id": "cb87e908df4549dea0db3ad4073e53be",
       "version_major": 2,
       "version_minor": 0
      },
      "text/plain": [
       "HBox(children=(FloatProgress(value=1.0, bar_style='info', max=1.0), HTML(value='')))"
      ]
     },
     "metadata": {},
     "output_type": "display_data"
    },
    {
     "name": "stdout",
     "output_type": "stream",
     "text": [
      "[3,    50] loss: 0.104\n",
      "[3,    50] acc: 0.719\n",
      "[3,   100] loss: 0.122\n",
      "[3,   100] acc: 0.658\n",
      "[3,   150] loss: 0.142\n",
      "[3,   150] acc: 0.626\n",
      "[3,   200] loss: 0.132\n",
      "[3,   200] acc: 0.625\n",
      "[3,   250] loss: 0.118\n",
      "[3,   250] acc: 0.734\n",
      "[3,   300] loss: 0.141\n",
      "[3,   300] acc: 0.687\n",
      "[3,   350] loss: 0.120\n",
      "[3,   350] acc: 0.704\n",
      "[3,   400] loss: 0.162\n",
      "[3,   400] acc: 0.609\n",
      "[3,   450] loss: 0.109\n",
      "[3,   450] acc: 0.700\n",
      "[3,   500] loss: 0.131\n",
      "[3,   500] acc: 0.650\n",
      "[3,   550] loss: 0.141\n",
      "[3,   550] acc: 0.605\n",
      "[3,   600] loss: 0.090\n",
      "[3,   600] acc: 0.780\n",
      "[3,   650] loss: 0.096\n",
      "[3,   650] acc: 0.745\n",
      "[3,   700] loss: 0.094\n",
      "[3,   700] acc: 0.745\n",
      "[3,   750] loss: 0.139\n",
      "[3,   750] acc: 0.696\n",
      "[3,   800] loss: 0.078\n",
      "[3,   800] acc: 0.731\n",
      "\n",
      "[3.4567085809127247e-06]\n"
     ]
    },
    {
     "data": {
      "application/vnd.jupyter.widget-view+json": {
       "model_id": "edc9f86848e9432886c4be0b570a0d8b",
       "version_major": 2,
       "version_minor": 0
      },
      "text/plain": [
       "HBox(children=(FloatProgress(value=1.0, bar_style='info', max=1.0), HTML(value='')))"
      ]
     },
     "metadata": {},
     "output_type": "display_data"
    },
    {
     "name": "stdout",
     "output_type": "stream",
     "text": [
      "[4,    50] loss: 0.131\n",
      "[4,    50] acc: 0.739\n",
      "[4,   100] loss: 0.112\n",
      "[4,   100] acc: 0.661\n",
      "[4,   150] loss: 0.137\n",
      "[4,   150] acc: 0.621\n",
      "[4,   200] loss: 0.129\n",
      "[4,   200] acc: 0.640\n",
      "[4,   250] loss: 0.117\n",
      "[4,   250] acc: 0.700\n",
      "[4,   300] loss: 0.151\n",
      "[4,   300] acc: 0.605\n",
      "[4,   350] loss: 0.126\n",
      "[4,   350] acc: 0.717\n",
      "[4,   400] loss: 0.159\n",
      "[4,   400] acc: 0.587\n",
      "[4,   450] loss: 0.107\n",
      "[4,   450] acc: 0.679\n",
      "[4,   500] loss: 0.125\n",
      "[4,   500] acc: 0.641\n",
      "[4,   550] loss: 0.124\n",
      "[4,   550] acc: 0.636\n",
      "[4,   600] loss: 0.092\n",
      "[4,   600] acc: 0.744\n",
      "[4,   650] loss: 0.090\n",
      "[4,   650] acc: 0.752\n",
      "[4,   700] loss: 0.094\n",
      "[4,   700] acc: 0.719\n",
      "[4,   750] loss: 0.137\n",
      "[4,   750] acc: 0.689\n",
      "[4,   800] loss: 0.074\n",
      "[4,   800] acc: 0.768\n",
      "\n",
      "[2.4999999999999998e-06]\n"
     ]
    },
    {
     "data": {
      "application/vnd.jupyter.widget-view+json": {
       "model_id": "3311459569c74f9f8e511bb9486efe39",
       "version_major": 2,
       "version_minor": 0
      },
      "text/plain": [
       "HBox(children=(FloatProgress(value=1.0, bar_style='info', max=1.0), HTML(value='')))"
      ]
     },
     "metadata": {},
     "output_type": "display_data"
    },
    {
     "name": "stdout",
     "output_type": "stream",
     "text": [
      "[5,    50] loss: 0.096\n",
      "[5,    50] acc: 0.722\n",
      "[5,   100] loss: 0.110\n",
      "[5,   100] acc: 0.654\n",
      "[5,   150] loss: 0.133\n",
      "[5,   150] acc: 0.628\n",
      "[5,   200] loss: 0.130\n",
      "[5,   200] acc: 0.641\n",
      "[5,   250] loss: 0.113\n",
      "[5,   250] acc: 0.668\n",
      "[5,   300] loss: 0.140\n",
      "[5,   300] acc: 0.623\n",
      "[5,   350] loss: 0.110\n",
      "[5,   350] acc: 0.709\n",
      "[5,   400] loss: 0.145\n",
      "[5,   400] acc: 0.643\n",
      "[5,   450] loss: 0.109\n",
      "[5,   450] acc: 0.721\n",
      "[5,   500] loss: 0.122\n",
      "[5,   500] acc: 0.648\n",
      "[5,   550] loss: 0.122\n",
      "[5,   550] acc: 0.626\n",
      "[5,   600] loss: 0.093\n",
      "[5,   600] acc: 0.745\n",
      "[5,   650] loss: 0.094\n",
      "[5,   650] acc: 0.743\n",
      "[5,   700] loss: 0.090\n",
      "[5,   700] acc: 0.698\n",
      "[5,   750] loss: 0.140\n",
      "[5,   750] acc: 0.722\n",
      "[5,   800] loss: 0.071\n",
      "[5,   800] acc: 0.770\n",
      "\n",
      "[1.5432914190872755e-06]\n"
     ]
    },
    {
     "data": {
      "application/vnd.jupyter.widget-view+json": {
       "model_id": "4646aaaad2954f4ea92f3bad43ccd82a",
       "version_major": 2,
       "version_minor": 0
      },
      "text/plain": [
       "HBox(children=(FloatProgress(value=1.0, bar_style='info', max=1.0), HTML(value='')))"
      ]
     },
     "metadata": {},
     "output_type": "display_data"
    },
    {
     "name": "stdout",
     "output_type": "stream",
     "text": [
      "[6,    50] loss: 0.132\n",
      "[6,    50] acc: 0.748\n",
      "[6,   100] loss: 0.111\n",
      "[6,   100] acc: 0.664\n",
      "[6,   150] loss: 0.124\n",
      "[6,   150] acc: 0.657\n",
      "[6,   200] loss: 0.123\n",
      "[6,   200] acc: 0.639\n",
      "[6,   250] loss: 0.106\n",
      "[6,   250] acc: 0.710\n",
      "[6,   300] loss: 0.129\n",
      "[6,   300] acc: 0.649\n",
      "[6,   350] loss: 0.110\n",
      "[6,   350] acc: 0.717\n",
      "[6,   400] loss: 0.157\n",
      "[6,   400] acc: 0.570\n",
      "[6,   450] loss: 0.110\n",
      "[6,   450] acc: 0.710\n",
      "[6,   500] loss: 0.122\n",
      "[6,   500] acc: 0.662\n",
      "[6,   550] loss: 0.120\n",
      "[6,   550] acc: 0.628\n",
      "[6,   600] loss: 0.090\n",
      "[6,   600] acc: 0.759\n",
      "[6,   650] loss: 0.089\n",
      "[6,   650] acc: 0.754\n",
      "[6,   700] loss: 0.092\n",
      "[6,   700] acc: 0.728\n",
      "[6,   750] loss: 0.119\n",
      "[6,   750] acc: 0.699\n",
      "[6,   800] loss: 0.085\n",
      "[6,   800] acc: 0.721\n",
      "\n",
      "\n",
      "Finished Training\n"
     ]
    },
    {
     "data": {
      "application/vnd.jupyter.widget-view+json": {
       "model_id": "25e29d535e904695a2d95ee4f863a6f0",
       "version_major": 2,
       "version_minor": 0
      },
      "text/plain": [
       "HBox(children=(FloatProgress(value=1.0, bar_style='info', max=1.0), HTML(value='')))"
      ]
     },
     "metadata": {},
     "output_type": "display_data"
    },
    {
     "name": "stdout",
     "output_type": "stream",
     "text": [
      "\n",
      "395 3443 129 891\n",
      "51 4601 72 134\n",
      "0 4431 427 0\n",
      "0 4485 373 0\n",
      "22 4858\n"
     ]
    }
   ],
   "source": [
    "train_dataset = PE_dataset(new_traindf, augment = True, window = 48)\n",
    "test_dataset = PE_dataset(testdf, augment = False, window = 48)\n",
    "train_loader = torch.utils.data.DataLoader(train_dataset, batch_size = 4, num_workers = 4)\n",
    "test_loader = torch.utils.data.DataLoader(test_dataset, batch_size = 2, num_workers = 4)\n",
    "\n",
    "net = peNet(7)\n",
    "net.load_state_dict(torch.load('PEnet_49_40.pth'))\n",
    "#criterion1 = FocalLoss(alpha = 3, gamma = 2)\n",
    "criterion1 = nn.BCELoss()\n",
    "criterion2 = nn.CrossEntropyLoss()\n",
    "#criterion2 = LabelSmoothingCrossEntropy(0.1)\n",
    "\n",
    "learning_rate = 5e-6\n",
    "#net = nn.DataParallel(net)\n",
    "optimizer = torch.optim.SGD(net.parameters(), lr=learning_rate, momentum = 0.9, dampening=0.9, weight_decay=1e-3) \n",
    "scheduler = torch.optim.lr_scheduler.CosineAnnealingLR(optimizer, T_max = 8, eta_min=0, last_epoch=-1)\n",
    "train(net, optimizer, train_loader, criterion1, criterion2, alpha = 1,  n_epoch = 6, visualize =True,\n",
    "                  cuda = True,  train_acc_period = 50, scheduler = scheduler, detection = True)\n",
    "result = evaluate(net, test_loader)"
   ]
  },
  {
   "cell_type": "code",
   "execution_count": 18,
   "metadata": {},
   "outputs": [
    {
     "data": {
      "text/plain": [
       "((0.7538166500349904, 0.30715394190093764, 0.4364229058622108),\n",
       " (0.4146338092408055, 0.2756755266618775, 0.33112064912862454),\n",
       " (0.0, 0.0, 0.0),\n",
       " (0.0, 0.0, 0.0),\n",
       " 0.004528612597776863)"
      ]
     },
     "execution_count": 18,
     "metadata": {},
     "output_type": "execute_result"
    }
   ],
   "source": [
    "result"
   ]
  },
  {
   "cell_type": "code",
   "execution_count": 22,
   "metadata": {},
   "outputs": [
    {
     "data": {
      "application/vnd.jupyter.widget-view+json": {
       "model_id": "8efd20b13056462d95c6ae74b3f23f6b",
       "version_major": 2,
       "version_minor": 0
      },
      "text/plain": [
       "HBox(children=(FloatProgress(value=1.0, bar_style='info', max=1.0), HTML(value='')))"
      ]
     },
     "metadata": {},
     "output_type": "display_data"
    },
    {
     "name": "stdout",
     "output_type": "stream",
     "text": [
      "tensor([[ 0.3114,  0.1756,  0.1231,  0.0155, -0.0367, -0.0390,  0.0266],\n",
      "        [ 0.1377,  0.0651,  0.0774,  0.0189, -0.0512, -0.0252,  0.0089]],\n",
      "       device='cuda:0', grad_fn=<AddmmBackward>) tensor([[1, 0, 0, 0, 0],\n",
      "        [0, 0, 0, 0, 0]], device='cuda:0')\n",
      "\n"
     ]
    },
    {
     "ename": "RuntimeError",
     "evalue": "CUDA out of memory. Tried to allocate 192.00 MiB (GPU 0; 23.65 GiB total capacity; 22.17 GiB already allocated; 132.06 MiB free; 22.24 GiB reserved in total by PyTorch)",
     "output_type": "error",
     "traceback": [
      "\u001b[0;31m---------------------------------------------------------------------------\u001b[0m",
      "\u001b[0;31mRuntimeError\u001b[0m                              Traceback (most recent call last)",
      "\u001b[0;32m<ipython-input-22-1242148f25d7>\u001b[0m in \u001b[0;36m<module>\u001b[0;34m\u001b[0m\n\u001b[0;32m----> 1\u001b[0;31m \u001b[0mevaluate\u001b[0m\u001b[0;34m(\u001b[0m\u001b[0mnet\u001b[0m\u001b[0;34m,\u001b[0m \u001b[0mtest_loader\u001b[0m\u001b[0;34m)\u001b[0m\u001b[0;34m\u001b[0m\u001b[0;34m\u001b[0m\u001b[0m\n\u001b[0m",
      "\u001b[0;32m<ipython-input-21-aaef0c1d831f>\u001b[0m in \u001b[0;36mevaluate\u001b[0;34m(net, test_loader)\u001b[0m\n\u001b[1;32m     24\u001b[0m         \u001b[0minputs\u001b[0m \u001b[0;34m=\u001b[0m \u001b[0minputs\u001b[0m\u001b[0;34m.\u001b[0m\u001b[0mtype\u001b[0m\u001b[0;34m(\u001b[0m\u001b[0mtorch\u001b[0m\u001b[0;34m.\u001b[0m\u001b[0mcuda\u001b[0m\u001b[0;34m.\u001b[0m\u001b[0mFloatTensor\u001b[0m\u001b[0;34m)\u001b[0m\u001b[0;34m\u001b[0m\u001b[0;34m\u001b[0m\u001b[0m\n\u001b[1;32m     25\u001b[0m         \u001b[0mtarget\u001b[0m \u001b[0;34m=\u001b[0m \u001b[0mtarget\u001b[0m\u001b[0;34m.\u001b[0m\u001b[0mtype\u001b[0m\u001b[0;34m(\u001b[0m\u001b[0mtorch\u001b[0m\u001b[0;34m.\u001b[0m\u001b[0mcuda\u001b[0m\u001b[0;34m.\u001b[0m\u001b[0mLongTensor\u001b[0m\u001b[0;34m)\u001b[0m\u001b[0;34m\u001b[0m\u001b[0;34m\u001b[0m\u001b[0m\n\u001b[0;32m---> 26\u001b[0;31m         \u001b[0moutputs\u001b[0m \u001b[0;34m=\u001b[0m \u001b[0mnet\u001b[0m\u001b[0;34m(\u001b[0m\u001b[0minputs\u001b[0m\u001b[0;34m)\u001b[0m\u001b[0;34m\u001b[0m\u001b[0;34m\u001b[0m\u001b[0m\n\u001b[0m\u001b[1;32m     27\u001b[0m         \u001b[0mprint\u001b[0m\u001b[0;34m(\u001b[0m\u001b[0moutputs\u001b[0m\u001b[0;34m,\u001b[0m \u001b[0mtarget\u001b[0m\u001b[0;34m)\u001b[0m\u001b[0;34m\u001b[0m\u001b[0;34m\u001b[0m\u001b[0m\n\u001b[1;32m     28\u001b[0m         \u001b[0;32mif\u001b[0m \u001b[0mi\u001b[0m \u001b[0;34m==\u001b[0m \u001b[0;36m4\u001b[0m\u001b[0;34m:\u001b[0m\u001b[0;34m\u001b[0m\u001b[0;34m\u001b[0m\u001b[0m\n",
      "\u001b[0;32m~/miniconda3/lib/python3.7/site-packages/torch/nn/modules/module.py\u001b[0m in \u001b[0;36m__call__\u001b[0;34m(self, *input, **kwargs)\u001b[0m\n\u001b[1;32m    548\u001b[0m             \u001b[0mresult\u001b[0m \u001b[0;34m=\u001b[0m \u001b[0mself\u001b[0m\u001b[0;34m.\u001b[0m\u001b[0m_slow_forward\u001b[0m\u001b[0;34m(\u001b[0m\u001b[0;34m*\u001b[0m\u001b[0minput\u001b[0m\u001b[0;34m,\u001b[0m \u001b[0;34m**\u001b[0m\u001b[0mkwargs\u001b[0m\u001b[0;34m)\u001b[0m\u001b[0;34m\u001b[0m\u001b[0;34m\u001b[0m\u001b[0m\n\u001b[1;32m    549\u001b[0m         \u001b[0;32melse\u001b[0m\u001b[0;34m:\u001b[0m\u001b[0;34m\u001b[0m\u001b[0;34m\u001b[0m\u001b[0m\n\u001b[0;32m--> 550\u001b[0;31m             \u001b[0mresult\u001b[0m \u001b[0;34m=\u001b[0m \u001b[0mself\u001b[0m\u001b[0;34m.\u001b[0m\u001b[0mforward\u001b[0m\u001b[0;34m(\u001b[0m\u001b[0;34m*\u001b[0m\u001b[0minput\u001b[0m\u001b[0;34m,\u001b[0m \u001b[0;34m**\u001b[0m\u001b[0mkwargs\u001b[0m\u001b[0;34m)\u001b[0m\u001b[0;34m\u001b[0m\u001b[0;34m\u001b[0m\u001b[0m\n\u001b[0m\u001b[1;32m    551\u001b[0m         \u001b[0;32mfor\u001b[0m \u001b[0mhook\u001b[0m \u001b[0;32min\u001b[0m \u001b[0mself\u001b[0m\u001b[0;34m.\u001b[0m\u001b[0m_forward_hooks\u001b[0m\u001b[0;34m.\u001b[0m\u001b[0mvalues\u001b[0m\u001b[0;34m(\u001b[0m\u001b[0;34m)\u001b[0m\u001b[0;34m:\u001b[0m\u001b[0;34m\u001b[0m\u001b[0;34m\u001b[0m\u001b[0m\n\u001b[1;32m    552\u001b[0m             \u001b[0mhook_result\u001b[0m \u001b[0;34m=\u001b[0m \u001b[0mhook\u001b[0m\u001b[0;34m(\u001b[0m\u001b[0mself\u001b[0m\u001b[0;34m,\u001b[0m \u001b[0minput\u001b[0m\u001b[0;34m,\u001b[0m \u001b[0mresult\u001b[0m\u001b[0;34m)\u001b[0m\u001b[0;34m\u001b[0m\u001b[0;34m\u001b[0m\u001b[0m\n",
      "\u001b[0;32m~/miniconda3/lib/python3.7/site-packages/torch/nn/parallel/data_parallel.py\u001b[0m in \u001b[0;36mforward\u001b[0;34m(self, *inputs, **kwargs)\u001b[0m\n\u001b[1;32m    151\u001b[0m         \u001b[0minputs\u001b[0m\u001b[0;34m,\u001b[0m \u001b[0mkwargs\u001b[0m \u001b[0;34m=\u001b[0m \u001b[0mself\u001b[0m\u001b[0;34m.\u001b[0m\u001b[0mscatter\u001b[0m\u001b[0;34m(\u001b[0m\u001b[0minputs\u001b[0m\u001b[0;34m,\u001b[0m \u001b[0mkwargs\u001b[0m\u001b[0;34m,\u001b[0m \u001b[0mself\u001b[0m\u001b[0;34m.\u001b[0m\u001b[0mdevice_ids\u001b[0m\u001b[0;34m)\u001b[0m\u001b[0;34m\u001b[0m\u001b[0;34m\u001b[0m\u001b[0m\n\u001b[1;32m    152\u001b[0m         \u001b[0;32mif\u001b[0m \u001b[0mlen\u001b[0m\u001b[0;34m(\u001b[0m\u001b[0mself\u001b[0m\u001b[0;34m.\u001b[0m\u001b[0mdevice_ids\u001b[0m\u001b[0;34m)\u001b[0m \u001b[0;34m==\u001b[0m \u001b[0;36m1\u001b[0m\u001b[0;34m:\u001b[0m\u001b[0;34m\u001b[0m\u001b[0;34m\u001b[0m\u001b[0m\n\u001b[0;32m--> 153\u001b[0;31m             \u001b[0;32mreturn\u001b[0m \u001b[0mself\u001b[0m\u001b[0;34m.\u001b[0m\u001b[0mmodule\u001b[0m\u001b[0;34m(\u001b[0m\u001b[0;34m*\u001b[0m\u001b[0minputs\u001b[0m\u001b[0;34m[\u001b[0m\u001b[0;36m0\u001b[0m\u001b[0;34m]\u001b[0m\u001b[0;34m,\u001b[0m \u001b[0;34m**\u001b[0m\u001b[0mkwargs\u001b[0m\u001b[0;34m[\u001b[0m\u001b[0;36m0\u001b[0m\u001b[0;34m]\u001b[0m\u001b[0;34m)\u001b[0m\u001b[0;34m\u001b[0m\u001b[0;34m\u001b[0m\u001b[0m\n\u001b[0m\u001b[1;32m    154\u001b[0m         \u001b[0mreplicas\u001b[0m \u001b[0;34m=\u001b[0m \u001b[0mself\u001b[0m\u001b[0;34m.\u001b[0m\u001b[0mreplicate\u001b[0m\u001b[0;34m(\u001b[0m\u001b[0mself\u001b[0m\u001b[0;34m.\u001b[0m\u001b[0mmodule\u001b[0m\u001b[0;34m,\u001b[0m \u001b[0mself\u001b[0m\u001b[0;34m.\u001b[0m\u001b[0mdevice_ids\u001b[0m\u001b[0;34m[\u001b[0m\u001b[0;34m:\u001b[0m\u001b[0mlen\u001b[0m\u001b[0;34m(\u001b[0m\u001b[0minputs\u001b[0m\u001b[0;34m)\u001b[0m\u001b[0;34m]\u001b[0m\u001b[0;34m)\u001b[0m\u001b[0;34m\u001b[0m\u001b[0;34m\u001b[0m\u001b[0m\n\u001b[1;32m    155\u001b[0m         \u001b[0moutputs\u001b[0m \u001b[0;34m=\u001b[0m \u001b[0mself\u001b[0m\u001b[0;34m.\u001b[0m\u001b[0mparallel_apply\u001b[0m\u001b[0;34m(\u001b[0m\u001b[0mreplicas\u001b[0m\u001b[0;34m,\u001b[0m \u001b[0minputs\u001b[0m\u001b[0;34m,\u001b[0m \u001b[0mkwargs\u001b[0m\u001b[0;34m)\u001b[0m\u001b[0;34m\u001b[0m\u001b[0;34m\u001b[0m\u001b[0m\n",
      "\u001b[0;32m~/miniconda3/lib/python3.7/site-packages/torch/nn/modules/module.py\u001b[0m in \u001b[0;36m__call__\u001b[0;34m(self, *input, **kwargs)\u001b[0m\n\u001b[1;32m    548\u001b[0m             \u001b[0mresult\u001b[0m \u001b[0;34m=\u001b[0m \u001b[0mself\u001b[0m\u001b[0;34m.\u001b[0m\u001b[0m_slow_forward\u001b[0m\u001b[0;34m(\u001b[0m\u001b[0;34m*\u001b[0m\u001b[0minput\u001b[0m\u001b[0;34m,\u001b[0m \u001b[0;34m**\u001b[0m\u001b[0mkwargs\u001b[0m\u001b[0;34m)\u001b[0m\u001b[0;34m\u001b[0m\u001b[0;34m\u001b[0m\u001b[0m\n\u001b[1;32m    549\u001b[0m         \u001b[0;32melse\u001b[0m\u001b[0;34m:\u001b[0m\u001b[0;34m\u001b[0m\u001b[0;34m\u001b[0m\u001b[0m\n\u001b[0;32m--> 550\u001b[0;31m             \u001b[0mresult\u001b[0m \u001b[0;34m=\u001b[0m \u001b[0mself\u001b[0m\u001b[0;34m.\u001b[0m\u001b[0mforward\u001b[0m\u001b[0;34m(\u001b[0m\u001b[0;34m*\u001b[0m\u001b[0minput\u001b[0m\u001b[0;34m,\u001b[0m \u001b[0;34m**\u001b[0m\u001b[0mkwargs\u001b[0m\u001b[0;34m)\u001b[0m\u001b[0;34m\u001b[0m\u001b[0;34m\u001b[0m\u001b[0m\n\u001b[0m\u001b[1;32m    551\u001b[0m         \u001b[0;32mfor\u001b[0m \u001b[0mhook\u001b[0m \u001b[0;32min\u001b[0m \u001b[0mself\u001b[0m\u001b[0;34m.\u001b[0m\u001b[0m_forward_hooks\u001b[0m\u001b[0;34m.\u001b[0m\u001b[0mvalues\u001b[0m\u001b[0;34m(\u001b[0m\u001b[0;34m)\u001b[0m\u001b[0;34m:\u001b[0m\u001b[0;34m\u001b[0m\u001b[0;34m\u001b[0m\u001b[0m\n\u001b[1;32m    552\u001b[0m             \u001b[0mhook_result\u001b[0m \u001b[0;34m=\u001b[0m \u001b[0mhook\u001b[0m\u001b[0;34m(\u001b[0m\u001b[0mself\u001b[0m\u001b[0;34m,\u001b[0m \u001b[0minput\u001b[0m\u001b[0;34m,\u001b[0m \u001b[0mresult\u001b[0m\u001b[0;34m)\u001b[0m\u001b[0;34m\u001b[0m\u001b[0;34m\u001b[0m\u001b[0m\n",
      "\u001b[0;32m<ipython-input-2-25f094921827>\u001b[0m in \u001b[0;36mforward\u001b[0;34m(self, x)\u001b[0m\n\u001b[1;32m     86\u001b[0m         \u001b[0;31m# Encoders\u001b[0m\u001b[0;34m\u001b[0m\u001b[0;34m\u001b[0m\u001b[0;34m\u001b[0m\u001b[0m\n\u001b[1;32m     87\u001b[0m         \u001b[0;32mfor\u001b[0m \u001b[0mencoder\u001b[0m \u001b[0;32min\u001b[0m \u001b[0mself\u001b[0m\u001b[0;34m.\u001b[0m\u001b[0mencoders\u001b[0m\u001b[0;34m:\u001b[0m\u001b[0;34m\u001b[0m\u001b[0;34m\u001b[0m\u001b[0m\n\u001b[0;32m---> 88\u001b[0;31m             \u001b[0mx\u001b[0m \u001b[0;34m=\u001b[0m \u001b[0mencoder\u001b[0m\u001b[0;34m(\u001b[0m\u001b[0mx\u001b[0m\u001b[0;34m)\u001b[0m\u001b[0;34m\u001b[0m\u001b[0;34m\u001b[0m\u001b[0m\n\u001b[0m\u001b[1;32m     89\u001b[0m \u001b[0;34m\u001b[0m\u001b[0m\n\u001b[1;32m     90\u001b[0m         \u001b[0;31m# Classifier\u001b[0m\u001b[0;34m\u001b[0m\u001b[0;34m\u001b[0m\u001b[0;34m\u001b[0m\u001b[0m\n",
      "\u001b[0;32m~/miniconda3/lib/python3.7/site-packages/torch/nn/modules/module.py\u001b[0m in \u001b[0;36m__call__\u001b[0;34m(self, *input, **kwargs)\u001b[0m\n\u001b[1;32m    548\u001b[0m             \u001b[0mresult\u001b[0m \u001b[0;34m=\u001b[0m \u001b[0mself\u001b[0m\u001b[0;34m.\u001b[0m\u001b[0m_slow_forward\u001b[0m\u001b[0;34m(\u001b[0m\u001b[0;34m*\u001b[0m\u001b[0minput\u001b[0m\u001b[0;34m,\u001b[0m \u001b[0;34m**\u001b[0m\u001b[0mkwargs\u001b[0m\u001b[0;34m)\u001b[0m\u001b[0;34m\u001b[0m\u001b[0;34m\u001b[0m\u001b[0m\n\u001b[1;32m    549\u001b[0m         \u001b[0;32melse\u001b[0m\u001b[0;34m:\u001b[0m\u001b[0;34m\u001b[0m\u001b[0;34m\u001b[0m\u001b[0m\n\u001b[0;32m--> 550\u001b[0;31m             \u001b[0mresult\u001b[0m \u001b[0;34m=\u001b[0m \u001b[0mself\u001b[0m\u001b[0;34m.\u001b[0m\u001b[0mforward\u001b[0m\u001b[0;34m(\u001b[0m\u001b[0;34m*\u001b[0m\u001b[0minput\u001b[0m\u001b[0;34m,\u001b[0m \u001b[0;34m**\u001b[0m\u001b[0mkwargs\u001b[0m\u001b[0;34m)\u001b[0m\u001b[0;34m\u001b[0m\u001b[0;34m\u001b[0m\u001b[0m\n\u001b[0m\u001b[1;32m    551\u001b[0m         \u001b[0;32mfor\u001b[0m \u001b[0mhook\u001b[0m \u001b[0;32min\u001b[0m \u001b[0mself\u001b[0m\u001b[0;34m.\u001b[0m\u001b[0m_forward_hooks\u001b[0m\u001b[0;34m.\u001b[0m\u001b[0mvalues\u001b[0m\u001b[0;34m(\u001b[0m\u001b[0;34m)\u001b[0m\u001b[0;34m:\u001b[0m\u001b[0;34m\u001b[0m\u001b[0;34m\u001b[0m\u001b[0m\n\u001b[1;32m    552\u001b[0m             \u001b[0mhook_result\u001b[0m \u001b[0;34m=\u001b[0m \u001b[0mhook\u001b[0m\u001b[0;34m(\u001b[0m\u001b[0mself\u001b[0m\u001b[0;34m,\u001b[0m \u001b[0minput\u001b[0m\u001b[0;34m,\u001b[0m \u001b[0mresult\u001b[0m\u001b[0;34m)\u001b[0m\u001b[0;34m\u001b[0m\u001b[0;34m\u001b[0m\u001b[0m\n",
      "\u001b[0;32m/media/aous/Samsung_T5/penet/models/layers/penet/penet_encoder.py\u001b[0m in \u001b[0;36mforward\u001b[0;34m(self, x)\u001b[0m\n\u001b[1;32m     17\u001b[0m \u001b[0;34m\u001b[0m\u001b[0m\n\u001b[1;32m     18\u001b[0m     \u001b[0;32mdef\u001b[0m \u001b[0mforward\u001b[0m\u001b[0;34m(\u001b[0m\u001b[0mself\u001b[0m\u001b[0;34m,\u001b[0m \u001b[0mx\u001b[0m\u001b[0;34m)\u001b[0m\u001b[0;34m:\u001b[0m\u001b[0;34m\u001b[0m\u001b[0;34m\u001b[0m\u001b[0m\n\u001b[0;32m---> 19\u001b[0;31m         \u001b[0mx\u001b[0m \u001b[0;34m=\u001b[0m \u001b[0mself\u001b[0m\u001b[0;34m.\u001b[0m\u001b[0mpenet_blocks\u001b[0m\u001b[0;34m(\u001b[0m\u001b[0mx\u001b[0m\u001b[0;34m)\u001b[0m\u001b[0;34m\u001b[0m\u001b[0;34m\u001b[0m\u001b[0m\n\u001b[0m\u001b[1;32m     20\u001b[0m \u001b[0;34m\u001b[0m\u001b[0m\n\u001b[1;32m     21\u001b[0m         \u001b[0;32mreturn\u001b[0m \u001b[0mx\u001b[0m\u001b[0;34m\u001b[0m\u001b[0;34m\u001b[0m\u001b[0m\n",
      "\u001b[0;32m~/miniconda3/lib/python3.7/site-packages/torch/nn/modules/module.py\u001b[0m in \u001b[0;36m__call__\u001b[0;34m(self, *input, **kwargs)\u001b[0m\n\u001b[1;32m    548\u001b[0m             \u001b[0mresult\u001b[0m \u001b[0;34m=\u001b[0m \u001b[0mself\u001b[0m\u001b[0;34m.\u001b[0m\u001b[0m_slow_forward\u001b[0m\u001b[0;34m(\u001b[0m\u001b[0;34m*\u001b[0m\u001b[0minput\u001b[0m\u001b[0;34m,\u001b[0m \u001b[0;34m**\u001b[0m\u001b[0mkwargs\u001b[0m\u001b[0;34m)\u001b[0m\u001b[0;34m\u001b[0m\u001b[0;34m\u001b[0m\u001b[0m\n\u001b[1;32m    549\u001b[0m         \u001b[0;32melse\u001b[0m\u001b[0;34m:\u001b[0m\u001b[0;34m\u001b[0m\u001b[0;34m\u001b[0m\u001b[0m\n\u001b[0;32m--> 550\u001b[0;31m             \u001b[0mresult\u001b[0m \u001b[0;34m=\u001b[0m \u001b[0mself\u001b[0m\u001b[0;34m.\u001b[0m\u001b[0mforward\u001b[0m\u001b[0;34m(\u001b[0m\u001b[0;34m*\u001b[0m\u001b[0minput\u001b[0m\u001b[0;34m,\u001b[0m \u001b[0;34m**\u001b[0m\u001b[0mkwargs\u001b[0m\u001b[0;34m)\u001b[0m\u001b[0;34m\u001b[0m\u001b[0;34m\u001b[0m\u001b[0m\n\u001b[0m\u001b[1;32m    551\u001b[0m         \u001b[0;32mfor\u001b[0m \u001b[0mhook\u001b[0m \u001b[0;32min\u001b[0m \u001b[0mself\u001b[0m\u001b[0;34m.\u001b[0m\u001b[0m_forward_hooks\u001b[0m\u001b[0;34m.\u001b[0m\u001b[0mvalues\u001b[0m\u001b[0;34m(\u001b[0m\u001b[0;34m)\u001b[0m\u001b[0;34m:\u001b[0m\u001b[0;34m\u001b[0m\u001b[0;34m\u001b[0m\u001b[0m\n\u001b[1;32m    552\u001b[0m             \u001b[0mhook_result\u001b[0m \u001b[0;34m=\u001b[0m \u001b[0mhook\u001b[0m\u001b[0;34m(\u001b[0m\u001b[0mself\u001b[0m\u001b[0;34m,\u001b[0m \u001b[0minput\u001b[0m\u001b[0;34m,\u001b[0m \u001b[0mresult\u001b[0m\u001b[0;34m)\u001b[0m\u001b[0;34m\u001b[0m\u001b[0;34m\u001b[0m\u001b[0m\n",
      "\u001b[0;32m~/miniconda3/lib/python3.7/site-packages/torch/nn/modules/container.py\u001b[0m in \u001b[0;36mforward\u001b[0;34m(self, input)\u001b[0m\n\u001b[1;32m     98\u001b[0m     \u001b[0;32mdef\u001b[0m \u001b[0mforward\u001b[0m\u001b[0;34m(\u001b[0m\u001b[0mself\u001b[0m\u001b[0;34m,\u001b[0m \u001b[0minput\u001b[0m\u001b[0;34m)\u001b[0m\u001b[0;34m:\u001b[0m\u001b[0;34m\u001b[0m\u001b[0;34m\u001b[0m\u001b[0m\n\u001b[1;32m     99\u001b[0m         \u001b[0;32mfor\u001b[0m \u001b[0mmodule\u001b[0m \u001b[0;32min\u001b[0m \u001b[0mself\u001b[0m\u001b[0;34m:\u001b[0m\u001b[0;34m\u001b[0m\u001b[0;34m\u001b[0m\u001b[0m\n\u001b[0;32m--> 100\u001b[0;31m             \u001b[0minput\u001b[0m \u001b[0;34m=\u001b[0m \u001b[0mmodule\u001b[0m\u001b[0;34m(\u001b[0m\u001b[0minput\u001b[0m\u001b[0;34m)\u001b[0m\u001b[0;34m\u001b[0m\u001b[0;34m\u001b[0m\u001b[0m\n\u001b[0m\u001b[1;32m    101\u001b[0m         \u001b[0;32mreturn\u001b[0m \u001b[0minput\u001b[0m\u001b[0;34m\u001b[0m\u001b[0;34m\u001b[0m\u001b[0m\n\u001b[1;32m    102\u001b[0m \u001b[0;34m\u001b[0m\u001b[0m\n",
      "\u001b[0;32m~/miniconda3/lib/python3.7/site-packages/torch/nn/modules/module.py\u001b[0m in \u001b[0;36m__call__\u001b[0;34m(self, *input, **kwargs)\u001b[0m\n\u001b[1;32m    548\u001b[0m             \u001b[0mresult\u001b[0m \u001b[0;34m=\u001b[0m \u001b[0mself\u001b[0m\u001b[0;34m.\u001b[0m\u001b[0m_slow_forward\u001b[0m\u001b[0;34m(\u001b[0m\u001b[0;34m*\u001b[0m\u001b[0minput\u001b[0m\u001b[0;34m,\u001b[0m \u001b[0;34m**\u001b[0m\u001b[0mkwargs\u001b[0m\u001b[0;34m)\u001b[0m\u001b[0;34m\u001b[0m\u001b[0;34m\u001b[0m\u001b[0m\n\u001b[1;32m    549\u001b[0m         \u001b[0;32melse\u001b[0m\u001b[0;34m:\u001b[0m\u001b[0;34m\u001b[0m\u001b[0;34m\u001b[0m\u001b[0m\n\u001b[0;32m--> 550\u001b[0;31m             \u001b[0mresult\u001b[0m \u001b[0;34m=\u001b[0m \u001b[0mself\u001b[0m\u001b[0;34m.\u001b[0m\u001b[0mforward\u001b[0m\u001b[0;34m(\u001b[0m\u001b[0;34m*\u001b[0m\u001b[0minput\u001b[0m\u001b[0;34m,\u001b[0m \u001b[0;34m**\u001b[0m\u001b[0mkwargs\u001b[0m\u001b[0;34m)\u001b[0m\u001b[0;34m\u001b[0m\u001b[0;34m\u001b[0m\u001b[0m\n\u001b[0m\u001b[1;32m    551\u001b[0m         \u001b[0;32mfor\u001b[0m \u001b[0mhook\u001b[0m \u001b[0;32min\u001b[0m \u001b[0mself\u001b[0m\u001b[0;34m.\u001b[0m\u001b[0m_forward_hooks\u001b[0m\u001b[0;34m.\u001b[0m\u001b[0mvalues\u001b[0m\u001b[0;34m(\u001b[0m\u001b[0;34m)\u001b[0m\u001b[0;34m:\u001b[0m\u001b[0;34m\u001b[0m\u001b[0;34m\u001b[0m\u001b[0m\n\u001b[1;32m    552\u001b[0m             \u001b[0mhook_result\u001b[0m \u001b[0;34m=\u001b[0m \u001b[0mhook\u001b[0m\u001b[0;34m(\u001b[0m\u001b[0mself\u001b[0m\u001b[0;34m,\u001b[0m \u001b[0minput\u001b[0m\u001b[0;34m,\u001b[0m \u001b[0mresult\u001b[0m\u001b[0;34m)\u001b[0m\u001b[0;34m\u001b[0m\u001b[0;34m\u001b[0m\u001b[0m\n",
      "\u001b[0;32m/media/aous/Samsung_T5/penet/models/layers/penet/penet_bottleneck.py\u001b[0m in \u001b[0;36mforward\u001b[0;34m(self, x)\u001b[0m\n\u001b[1;32m     72\u001b[0m \u001b[0;34m\u001b[0m\u001b[0m\n\u001b[1;32m     73\u001b[0m         \u001b[0mx\u001b[0m \u001b[0;34m=\u001b[0m \u001b[0mself\u001b[0m\u001b[0;34m.\u001b[0m\u001b[0mconv3\u001b[0m\u001b[0;34m(\u001b[0m\u001b[0mx\u001b[0m\u001b[0;34m)\u001b[0m\u001b[0;34m\u001b[0m\u001b[0;34m\u001b[0m\u001b[0m\n\u001b[0;32m---> 74\u001b[0;31m         \u001b[0mx\u001b[0m \u001b[0;34m=\u001b[0m \u001b[0mself\u001b[0m\u001b[0;34m.\u001b[0m\u001b[0mnorm3\u001b[0m\u001b[0;34m(\u001b[0m\u001b[0mx\u001b[0m\u001b[0;34m)\u001b[0m\u001b[0;34m\u001b[0m\u001b[0;34m\u001b[0m\u001b[0m\n\u001b[0m\u001b[1;32m     75\u001b[0m \u001b[0;34m\u001b[0m\u001b[0m\n\u001b[1;32m     76\u001b[0m         \u001b[0mx\u001b[0m \u001b[0;34m=\u001b[0m \u001b[0mself\u001b[0m\u001b[0;34m.\u001b[0m\u001b[0mse_block\u001b[0m\u001b[0;34m(\u001b[0m\u001b[0mx\u001b[0m\u001b[0;34m)\u001b[0m\u001b[0;34m\u001b[0m\u001b[0;34m\u001b[0m\u001b[0m\n",
      "\u001b[0;32m~/miniconda3/lib/python3.7/site-packages/torch/nn/modules/module.py\u001b[0m in \u001b[0;36m__call__\u001b[0;34m(self, *input, **kwargs)\u001b[0m\n\u001b[1;32m    548\u001b[0m             \u001b[0mresult\u001b[0m \u001b[0;34m=\u001b[0m \u001b[0mself\u001b[0m\u001b[0;34m.\u001b[0m\u001b[0m_slow_forward\u001b[0m\u001b[0;34m(\u001b[0m\u001b[0;34m*\u001b[0m\u001b[0minput\u001b[0m\u001b[0;34m,\u001b[0m \u001b[0;34m**\u001b[0m\u001b[0mkwargs\u001b[0m\u001b[0;34m)\u001b[0m\u001b[0;34m\u001b[0m\u001b[0;34m\u001b[0m\u001b[0m\n\u001b[1;32m    549\u001b[0m         \u001b[0;32melse\u001b[0m\u001b[0;34m:\u001b[0m\u001b[0;34m\u001b[0m\u001b[0;34m\u001b[0m\u001b[0m\n\u001b[0;32m--> 550\u001b[0;31m             \u001b[0mresult\u001b[0m \u001b[0;34m=\u001b[0m \u001b[0mself\u001b[0m\u001b[0;34m.\u001b[0m\u001b[0mforward\u001b[0m\u001b[0;34m(\u001b[0m\u001b[0;34m*\u001b[0m\u001b[0minput\u001b[0m\u001b[0;34m,\u001b[0m \u001b[0;34m**\u001b[0m\u001b[0mkwargs\u001b[0m\u001b[0;34m)\u001b[0m\u001b[0;34m\u001b[0m\u001b[0;34m\u001b[0m\u001b[0m\n\u001b[0m\u001b[1;32m    551\u001b[0m         \u001b[0;32mfor\u001b[0m \u001b[0mhook\u001b[0m \u001b[0;32min\u001b[0m \u001b[0mself\u001b[0m\u001b[0;34m.\u001b[0m\u001b[0m_forward_hooks\u001b[0m\u001b[0;34m.\u001b[0m\u001b[0mvalues\u001b[0m\u001b[0;34m(\u001b[0m\u001b[0;34m)\u001b[0m\u001b[0;34m:\u001b[0m\u001b[0;34m\u001b[0m\u001b[0;34m\u001b[0m\u001b[0m\n\u001b[1;32m    552\u001b[0m             \u001b[0mhook_result\u001b[0m \u001b[0;34m=\u001b[0m \u001b[0mhook\u001b[0m\u001b[0;34m(\u001b[0m\u001b[0mself\u001b[0m\u001b[0;34m,\u001b[0m \u001b[0minput\u001b[0m\u001b[0;34m,\u001b[0m \u001b[0mresult\u001b[0m\u001b[0;34m)\u001b[0m\u001b[0;34m\u001b[0m\u001b[0;34m\u001b[0m\u001b[0m\n",
      "\u001b[0;32m~/miniconda3/lib/python3.7/site-packages/torch/nn/modules/normalization.py\u001b[0m in \u001b[0;36mforward\u001b[0;34m(self, input)\u001b[0m\n\u001b[1;32m    223\u001b[0m     \u001b[0;32mdef\u001b[0m \u001b[0mforward\u001b[0m\u001b[0;34m(\u001b[0m\u001b[0mself\u001b[0m\u001b[0;34m,\u001b[0m \u001b[0minput\u001b[0m\u001b[0;34m)\u001b[0m\u001b[0;34m:\u001b[0m\u001b[0;34m\u001b[0m\u001b[0;34m\u001b[0m\u001b[0m\n\u001b[1;32m    224\u001b[0m         return F.group_norm(\n\u001b[0;32m--> 225\u001b[0;31m             input, self.num_groups, self.weight, self.bias, self.eps)\n\u001b[0m\u001b[1;32m    226\u001b[0m \u001b[0;34m\u001b[0m\u001b[0m\n\u001b[1;32m    227\u001b[0m     \u001b[0;32mdef\u001b[0m \u001b[0mextra_repr\u001b[0m\u001b[0;34m(\u001b[0m\u001b[0mself\u001b[0m\u001b[0;34m)\u001b[0m\u001b[0;34m:\u001b[0m\u001b[0;34m\u001b[0m\u001b[0;34m\u001b[0m\u001b[0m\n",
      "\u001b[0;32m~/miniconda3/lib/python3.7/site-packages/torch/nn/functional.py\u001b[0m in \u001b[0;36mgroup_norm\u001b[0;34m(input, num_groups, weight, bias, eps)\u001b[0m\n\u001b[1;32m   1971\u001b[0m         + list(input.size()[2:]))\n\u001b[1;32m   1972\u001b[0m     return torch.group_norm(input, num_groups, weight, bias, eps,\n\u001b[0;32m-> 1973\u001b[0;31m                             torch.backends.cudnn.enabled)\n\u001b[0m\u001b[1;32m   1974\u001b[0m \u001b[0;34m\u001b[0m\u001b[0m\n\u001b[1;32m   1975\u001b[0m \u001b[0;34m\u001b[0m\u001b[0m\n",
      "\u001b[0;31mRuntimeError\u001b[0m: CUDA out of memory. Tried to allocate 192.00 MiB (GPU 0; 23.65 GiB total capacity; 22.17 GiB already allocated; 132.06 MiB free; 22.24 GiB reserved in total by PyTorch)"
     ]
    }
   ],
   "source": [
    "evaluate(net, test_loader)"
   ]
  },
  {
   "cell_type": "code",
   "execution_count": 24,
   "metadata": {},
   "outputs": [],
   "source": [
    "torch.save(net.state_dict(), 'exp2.pth')"
   ]
  },
  {
   "cell_type": "code",
   "execution_count": 14,
   "metadata": {},
   "outputs": [
    {
     "data": {
      "text/plain": [
       "((0.6488548380048019, 0.34871791295200893, 0.45359022725808307),\n",
       " (0.048780448145977116, 0.5999940000599994, 0.09021152331932622),\n",
       " (0.0, 0.0, 0.0),\n",
       " (0.0, 0.0, 0.0),\n",
       " 0.004528612597776863)"
      ]
     },
     "execution_count": 14,
     "metadata": {},
     "output_type": "execute_result"
    }
   ],
   "source": [
    "result"
   ]
  },
  {
   "cell_type": "code",
   "execution_count": 13,
   "metadata": {
    "scrolled": true
   },
   "outputs": [
    {
     "name": "stdout",
     "output_type": "stream",
     "text": [
      "env: CUDA_LAUNCH_BLOCKING=1\n"
     ]
    },
    {
     "data": {
      "application/vnd.jupyter.widget-view+json": {
       "model_id": "b29ca66b8fde456992003f009626ed89",
       "version_major": 2,
       "version_minor": 0
      },
      "text/plain": [
       "HBox(children=(FloatProgress(value=0.0, max=4.0), HTML(value='')))"
      ]
     },
     "metadata": {},
     "output_type": "display_data"
    },
    {
     "data": {
      "application/vnd.jupyter.widget-view+json": {
       "model_id": "c193e6ee3d364b6496eede6005e2c409",
       "version_major": 2,
       "version_minor": 0
      },
      "text/plain": [
       "HBox(children=(FloatProgress(value=1.0, bar_style='info', max=1.0), HTML(value='')))"
      ]
     },
     "metadata": {},
     "output_type": "display_data"
    },
    {
     "name": "stdout",
     "output_type": "stream",
     "text": [
      "[1,    50] loss: 0.572\n",
      "[1,    50] acc: 0.569\n",
      "[1,   100] loss: 0.580\n",
      "[1,   100] acc: 0.538\n",
      "[1,   150] loss: 0.472\n",
      "[1,   150] acc: 0.599\n",
      "[1,   200] loss: 0.431\n",
      "[1,   200] acc: 0.609\n",
      "[1,   250] loss: 0.371\n",
      "[1,   250] acc: 0.676\n",
      "[1,   300] loss: 0.480\n",
      "[1,   300] acc: 0.593\n",
      "[1,   350] loss: 0.367\n",
      "[1,   350] acc: 0.670\n",
      "[1,   400] loss: 0.441\n",
      "[1,   400] acc: 0.612\n",
      "[1,   450] loss: 0.407\n",
      "[1,   450] acc: 0.645\n",
      "[1,   500] loss: 0.398\n",
      "[1,   500] acc: 0.648\n",
      "[1,   550] loss: 0.388\n",
      "[1,   550] acc: 0.681\n",
      "[1,   600] loss: 0.392\n",
      "[1,   600] acc: 0.644\n",
      "[1,   650] loss: 0.364\n",
      "[1,   650] acc: 0.667\n",
      "[1,   700] loss: 0.375\n",
      "[1,   700] acc: 0.658\n",
      "\n"
     ]
    },
    {
     "data": {
      "application/vnd.jupyter.widget-view+json": {
       "model_id": "b13be9fd7f0a44508cc05958ee14b362",
       "version_major": 2,
       "version_minor": 0
      },
      "text/plain": [
       "HBox(children=(FloatProgress(value=1.0, bar_style='info', max=1.0), HTML(value='')))"
      ]
     },
     "metadata": {},
     "output_type": "display_data"
    },
    {
     "name": "stdout",
     "output_type": "stream",
     "text": [
      "[2,    50] loss: 0.441\n",
      "[2,    50] acc: 0.595\n",
      "[2,   100] loss: 0.518\n",
      "[2,   100] acc: 0.536\n",
      "[2,   150] loss: 0.459\n",
      "[2,   150] acc: 0.599\n",
      "[2,   200] loss: 0.452\n",
      "[2,   200] acc: 0.619\n",
      "[2,   250] loss: 0.368\n",
      "[2,   250] acc: 0.674\n",
      "[2,   300] loss: 0.465\n",
      "[2,   300] acc: 0.593\n",
      "[2,   350] loss: 0.361\n",
      "[2,   350] acc: 0.667\n",
      "[2,   400] loss: 0.428\n",
      "[2,   400] acc: 0.612\n",
      "[2,   450] loss: 0.393\n",
      "[2,   450] acc: 0.644\n",
      "[2,   500] loss: 0.381\n",
      "[2,   500] acc: 0.648\n",
      "[2,   550] loss: 0.397\n",
      "[2,   550] acc: 0.681\n",
      "[2,   600] loss: 0.390\n",
      "[2,   600] acc: 0.647\n",
      "[2,   650] loss: 0.365\n",
      "[2,   650] acc: 0.667\n",
      "[2,   700] loss: 0.378\n",
      "[2,   700] acc: 0.658\n",
      "\n"
     ]
    },
    {
     "data": {
      "application/vnd.jupyter.widget-view+json": {
       "model_id": "f74f478d414a474a850f233bd8d4b903",
       "version_major": 2,
       "version_minor": 0
      },
      "text/plain": [
       "HBox(children=(FloatProgress(value=1.0, bar_style='info', max=1.0), HTML(value='')))"
      ]
     },
     "metadata": {},
     "output_type": "display_data"
    },
    {
     "name": "stdout",
     "output_type": "stream",
     "text": [
      "[3,    50] loss: 0.445\n",
      "[3,    50] acc: 0.601\n",
      "[3,   100] loss: 0.493\n",
      "[3,   100] acc: 0.536\n",
      "[3,   150] loss: 0.431\n",
      "[3,   150] acc: 0.599\n",
      "[3,   200] loss: 0.480\n",
      "[3,   200] acc: 0.611\n",
      "[3,   250] loss: 0.351\n",
      "[3,   250] acc: 0.677\n",
      "[3,   300] loss: 0.455\n",
      "[3,   300] acc: 0.593\n",
      "[3,   350] loss: 0.348\n",
      "[3,   350] acc: 0.673\n",
      "[3,   400] loss: 0.420\n",
      "[3,   400] acc: 0.612\n",
      "[3,   450] loss: 0.380\n",
      "[3,   450] acc: 0.635\n",
      "[3,   500] loss: 0.375\n",
      "[3,   500] acc: 0.648\n",
      "[3,   550] loss: 0.397\n",
      "[3,   550] acc: 0.666\n",
      "[3,   600] loss: 0.415\n",
      "[3,   600] acc: 0.635\n",
      "[3,   650] loss: 0.350\n",
      "[3,   650] acc: 0.667\n",
      "[3,   700] loss: 0.369\n",
      "[3,   700] acc: 0.658\n",
      "\n"
     ]
    },
    {
     "data": {
      "application/vnd.jupyter.widget-view+json": {
       "model_id": "efe88d8559af46b1abd94641d5357f9b",
       "version_major": 2,
       "version_minor": 0
      },
      "text/plain": [
       "HBox(children=(FloatProgress(value=1.0, bar_style='info', max=1.0), HTML(value='')))"
      ]
     },
     "metadata": {},
     "output_type": "display_data"
    },
    {
     "name": "stdout",
     "output_type": "stream",
     "text": [
      "[4,    50] loss: 0.430\n",
      "[4,    50] acc: 0.601\n",
      "[4,   100] loss: 0.510\n",
      "[4,   100] acc: 0.536\n",
      "[4,   150] loss: 0.429\n",
      "[4,   150] acc: 0.599\n",
      "[4,   200] loss: 0.450\n",
      "[4,   200] acc: 0.623\n",
      "[4,   250] loss: 0.346\n",
      "[4,   250] acc: 0.677\n",
      "[4,   300] loss: 0.445\n",
      "[4,   300] acc: 0.593\n",
      "[4,   350] loss: 0.361\n",
      "[4,   350] acc: 0.672\n",
      "[4,   400] loss: 0.427\n",
      "[4,   400] acc: 0.612\n",
      "[4,   450] loss: 0.380\n",
      "[4,   450] acc: 0.635\n",
      "[4,   500] loss: 0.380\n",
      "[4,   500] acc: 0.648\n",
      "[4,   550] loss: 0.395\n",
      "[4,   550] acc: 0.666\n",
      "[4,   600] loss: 0.568\n",
      "[4,   600] acc: 0.519\n",
      "[4,   650] loss: 0.403\n",
      "[4,   650] acc: 0.667\n",
      "[4,   700] loss: 0.385\n",
      "[4,   700] acc: 0.658\n",
      "\n",
      "\n",
      "Finished Training\n"
     ]
    },
    {
     "data": {
      "application/vnd.jupyter.widget-view+json": {
       "model_id": "b5963d1464dc4fe195f0a254136f320f",
       "version_major": 2,
       "version_minor": 0
      },
      "text/plain": [
       "HBox(children=(FloatProgress(value=1.0, bar_style='info', max=1.0), HTML(value='')))"
      ]
     },
     "metadata": {},
     "output_type": "display_data"
    },
    {
     "name": "stdout",
     "output_type": "stream",
     "text": [
      "\n",
      "19 4858\n"
     ]
    }
   ],
   "source": [
    "train_dataset = PE_dataset(Balanced_traindf, augment = True, window = 48)\n",
    "test_dataset = PE_dataset(testdf, augment = False, window = 48)\n",
    "train_loader = torch.utils.data.DataLoader(train_dataset, batch_size = 4, num_workers = 4)\n",
    "test_loader = torch.utils.data.DataLoader(test_dataset, batch_size = 2, num_workers = 4)\n",
    "\n",
    "net = peNet(7)\n",
    "net.load_state_dict(torch.load('PEnet_25.pth'))\n",
    "#criterion1 = FocalLoss(alpha = 3, gamma = 2)\n",
    "criterion1 = nn.BCELoss()\n",
    "criterion2 = nn.CrossEntropyLoss()\n",
    "#criterion2 = LabelSmoothingCrossEntropy(0.1)\n",
    "\n",
    "learning_rate = 1e-4\n",
    "#net = nn.DataParallel(net)\n",
    "optimizer = torch.optim.SGD(net.parameters(), lr=learning_rate, momentum = 0.9, dampening=0.9, weight_decay=1e-3) \n",
    "#scheduler = torch.optim.lr_scheduler.CosineAnnealingWarmRestarts(optimizer, T_0 = 2, T_mult=1.5, eta_min=0, last_epoch=-1, verbose=False)\n",
    "train(net, optimizer, train_loader, criterion1, criterion2, alpha = 1, beta = 0,  n_epoch = 4, visualize =True,\n",
    "                  cuda = True,  train_acc_period = 50, scheduler = None, detection = False)\n",
    "result = evaluate(net, test_loader)"
   ]
  },
  {
   "cell_type": "code",
   "execution_count": 12,
   "metadata": {},
   "outputs": [
    {
     "data": {
      "text/plain": [
       "60820"
      ]
     },
     "execution_count": 12,
     "metadata": {},
     "output_type": "execute_result"
    }
   ],
   "source": [
    "train_dataset = PE_dataset(traindf)\n",
    "len(train_dataset)"
   ]
  },
  {
   "cell_type": "code",
   "execution_count": 17,
   "metadata": {},
   "outputs": [
    {
     "data": {
      "application/vnd.jupyter.widget-view+json": {
       "model_id": "140cfb490ccb45cf99578e7d7f21bb2e",
       "version_major": 2,
       "version_minor": 0
      },
      "text/plain": [
       "HBox(children=(FloatProgress(value=1.0, bar_style='info', max=1.0), HTML(value='')))"
      ]
     },
     "metadata": {},
     "output_type": "display_data"
    },
    {
     "name": "stdout",
     "output_type": "stream",
     "text": [
      "\n",
      "9158 9712\n"
     ]
    }
   ],
   "source": [
    "result = evaluate(net, test_loader)"
   ]
  },
  {
   "cell_type": "code",
   "execution_count": 12,
   "metadata": {
    "scrolled": true
   },
   "outputs": [
    {
     "name": "stdout",
     "output_type": "stream",
     "text": [
      "1e-05 0 0.5 0.3\n",
      "350\n",
      "1500\n"
     ]
    },
    {
     "name": "stderr",
     "output_type": "stream",
     "text": [
      "/home/aous/miniconda3/lib/python3.7/site-packages/ipykernel_launcher.py:23: UserWarning: Boolean Series key will be reindexed to match DataFrame index.\n"
     ]
    },
    {
     "name": "stdout",
     "output_type": "stream",
     "text": [
      "env: CUDA_LAUNCH_BLOCKING=1\n"
     ]
    },
    {
     "data": {
      "application/vnd.jupyter.widget-view+json": {
       "model_id": "171ecee276d24012a675f0a16da2640b",
       "version_major": 2,
       "version_minor": 0
      },
      "text/plain": [
       "HBox(children=(FloatProgress(value=0.0, max=2.0), HTML(value='')))"
      ]
     },
     "metadata": {},
     "output_type": "display_data"
    },
    {
     "name": "stdout",
     "output_type": "stream",
     "text": [
      "[1e-05]\n"
     ]
    },
    {
     "data": {
      "application/vnd.jupyter.widget-view+json": {
       "model_id": "de82e83b278d4d788d689de9d3b8ddbc",
       "version_major": 2,
       "version_minor": 0
      },
      "text/plain": [
       "HBox(children=(FloatProgress(value=1.0, bar_style='info', max=1.0), HTML(value='')))"
      ]
     },
     "metadata": {},
     "output_type": "display_data"
    },
    {
     "name": "stdout",
     "output_type": "stream",
     "text": [
      "[1,    50] loss: 4.065\n",
      "[1,    50] acc: 0.460\n",
      "[1,   100] loss: 3.566\n",
      "[1,   100] acc: 0.613\n",
      "[1,   150] loss: 3.639\n",
      "[1,   150] acc: 0.585\n",
      "[1,   200] loss: 0.234\n",
      "[1,   200] acc: 0.558\n",
      "[1,   250] loss: 0.139\n",
      "[1,   250] acc: 0.685\n",
      "[1,   300] loss: 0.145\n",
      "[1,   300] acc: 0.668\n",
      "\n",
      "[9.619397662556434e-06]\n"
     ]
    },
    {
     "data": {
      "application/vnd.jupyter.widget-view+json": {
       "model_id": "d38d93468dea447cb23986eff69eb58f",
       "version_major": 2,
       "version_minor": 0
      },
      "text/plain": [
       "HBox(children=(FloatProgress(value=1.0, bar_style='info', max=1.0), HTML(value='')))"
      ]
     },
     "metadata": {},
     "output_type": "display_data"
    },
    {
     "name": "stdout",
     "output_type": "stream",
     "text": [
      "[2,    50] loss: 0.184\n",
      "[2,    50] acc: 0.578\n",
      "[2,   100] loss: 0.148\n",
      "[2,   100] acc: 0.647\n",
      "[2,   150] loss: 0.166\n",
      "[2,   150] acc: 0.625\n",
      "[2,   200] loss: 0.175\n",
      "[2,   200] acc: 0.583\n",
      "[2,   250] loss: 0.133\n",
      "[2,   250] acc: 0.676\n",
      "[2,   300] loss: 0.133\n",
      "[2,   300] acc: 0.663\n",
      "\n",
      "\n",
      "Finished Training\n"
     ]
    },
    {
     "data": {
      "application/vnd.jupyter.widget-view+json": {
       "model_id": "5c975a5ba31e4fc7aa2d944e3b6ae8d3",
       "version_major": 2,
       "version_minor": 0
      },
      "text/plain": [
       "HBox(children=(FloatProgress(value=1.0, bar_style='info', max=1.0), HTML(value='')))"
      ]
     },
     "metadata": {},
     "output_type": "display_data"
    },
    {
     "name": "stdout",
     "output_type": "stream",
     "text": [
      "\n",
      "35 272 3 178\n",
      "2 434 6 46\n",
      "0 454 34 0\n",
      "0 462 26 0\n",
      "2 488\n",
      "0.07719285990913993\n",
      "1e-05 0 0.5 0.5\n",
      "250\n",
      "1500\n",
      "env: CUDA_LAUNCH_BLOCKING=1\n"
     ]
    },
    {
     "data": {
      "application/vnd.jupyter.widget-view+json": {
       "model_id": "68b42f9d40be4b62be9dbe1519e27b53",
       "version_major": 2,
       "version_minor": 0
      },
      "text/plain": [
       "HBox(children=(FloatProgress(value=0.0, max=2.0), HTML(value='')))"
      ]
     },
     "metadata": {},
     "output_type": "display_data"
    },
    {
     "name": "stdout",
     "output_type": "stream",
     "text": [
      "[1e-05]\n"
     ]
    },
    {
     "data": {
      "application/vnd.jupyter.widget-view+json": {
       "model_id": "81dfa93281114e1586483bb1ef18ffcd",
       "version_major": 2,
       "version_minor": 0
      },
      "text/plain": [
       "HBox(children=(FloatProgress(value=1.0, bar_style='info', max=1.0), HTML(value='')))"
      ]
     },
     "metadata": {},
     "output_type": "display_data"
    },
    {
     "name": "stdout",
     "output_type": "stream",
     "text": [
      "[1,    50] loss: 3.233\n",
      "[1,    50] acc: 0.661\n",
      "[1,   100] loss: 3.074\n",
      "[1,   100] acc: 0.617\n",
      "[1,   150] loss: 2.409\n",
      "[1,   150] acc: 0.696\n",
      "[1,   200] loss: 5.880\n",
      "[1,   200] acc: 0.528\n",
      "[1,   250] loss: 4.509\n",
      "[1,   250] acc: 0.556\n",
      "[1,   300] loss: 0.576\n",
      "[1,   300] acc: 0.525\n",
      "\n",
      "[9.619397662556434e-06]\n"
     ]
    },
    {
     "data": {
      "application/vnd.jupyter.widget-view+json": {
       "model_id": "592c0d1cb2fd4a15a520fea55501916d",
       "version_major": 2,
       "version_minor": 0
      },
      "text/plain": [
       "HBox(children=(FloatProgress(value=1.0, bar_style='info', max=1.0), HTML(value='')))"
      ]
     },
     "metadata": {},
     "output_type": "display_data"
    },
    {
     "name": "stdout",
     "output_type": "stream",
     "text": [
      "[2,    50] loss: 0.588\n",
      "[2,    50] acc: 0.542\n",
      "[2,   100] loss: 0.368\n",
      "[2,   100] acc: 0.485\n",
      "[2,   150] loss: 0.278\n",
      "[2,   150] acc: 0.522\n",
      "[2,   200] loss: 0.950\n",
      "[2,   200] acc: 0.600\n",
      "[2,   250] loss: 0.990\n",
      "[2,   250] acc: 0.517\n",
      "[2,   300] loss: 0.485\n",
      "[2,   300] acc: 0.544\n",
      "\n",
      "\n",
      "Finished Training\n"
     ]
    },
    {
     "data": {
      "application/vnd.jupyter.widget-view+json": {
       "model_id": "953b717a7db6451bb8b88b7434f841b0",
       "version_major": 2,
       "version_minor": 0
      },
      "text/plain": [
       "HBox(children=(FloatProgress(value=1.0, bar_style='info', max=1.0), HTML(value='')))"
      ]
     },
     "metadata": {},
     "output_type": "display_data"
    },
    {
     "name": "stdout",
     "output_type": "stream",
     "text": [
      "\n",
      "38 72 0 378\n",
      "3 469 5 11\n",
      "17 73 17 381\n",
      "0 462 26 0\n",
      "2 488\n",
      "0.15462523402133543\n",
      "1e-05 0 2 0.3\n",
      "350\n",
      "1500\n",
      "1e-05 0 2 0.5\n",
      "250\n",
      "1500\n",
      "1e-05 1 0.5 0.3\n",
      "350\n",
      "1500\n",
      "env: CUDA_LAUNCH_BLOCKING=1\n"
     ]
    },
    {
     "data": {
      "application/vnd.jupyter.widget-view+json": {
       "model_id": "fe3477738a464f87bfeabb1eb725f62b",
       "version_major": 2,
       "version_minor": 0
      },
      "text/plain": [
       "HBox(children=(FloatProgress(value=0.0, max=2.0), HTML(value='')))"
      ]
     },
     "metadata": {},
     "output_type": "display_data"
    },
    {
     "name": "stdout",
     "output_type": "stream",
     "text": [
      "[1e-05]\n"
     ]
    },
    {
     "data": {
      "application/vnd.jupyter.widget-view+json": {
       "model_id": "d7a932dfcf6c42a4a88af1ad6a17a184",
       "version_major": 2,
       "version_minor": 0
      },
      "text/plain": [
       "HBox(children=(FloatProgress(value=1.0, bar_style='info', max=1.0), HTML(value='')))"
      ]
     },
     "metadata": {},
     "output_type": "display_data"
    },
    {
     "name": "stdout",
     "output_type": "stream",
     "text": [
      "[1,    50] loss: 0.154\n",
      "[1,    50] acc: 0.569\n",
      "[1,   100] loss: 0.119\n",
      "[1,   100] acc: 0.644\n",
      "[1,   150] loss: 0.114\n",
      "[1,   150] acc: 0.613\n",
      "[1,   200] loss: 0.100\n",
      "[1,   200] acc: 0.659\n",
      "[1,   250] loss: 0.136\n",
      "[1,   250] acc: 0.568\n",
      "[1,   300] loss: 0.101\n",
      "[1,   300] acc: 0.645\n",
      "\n",
      "[9.619397662556434e-06]\n"
     ]
    },
    {
     "data": {
      "application/vnd.jupyter.widget-view+json": {
       "model_id": "fcbee5d568d149e7b2631b2f5ad11a60",
       "version_major": 2,
       "version_minor": 0
      },
      "text/plain": [
       "HBox(children=(FloatProgress(value=1.0, bar_style='info', max=1.0), HTML(value='')))"
      ]
     },
     "metadata": {},
     "output_type": "display_data"
    },
    {
     "name": "stdout",
     "output_type": "stream",
     "text": [
      "[2,    50] loss: 0.102\n",
      "[2,    50] acc: 0.622\n",
      "[2,   100] loss: 0.102\n",
      "[2,   100] acc: 0.606\n",
      "[2,   150] loss: 0.092\n",
      "[2,   150] acc: 0.683\n",
      "[2,   200] loss: 0.093\n",
      "[2,   200] acc: 0.633\n",
      "[2,   250] loss: 0.121\n",
      "[2,   250] acc: 0.592\n",
      "[2,   300] loss: 0.094\n",
      "[2,   300] acc: 0.672\n",
      "\n",
      "\n",
      "Finished Training\n"
     ]
    },
    {
     "data": {
      "application/vnd.jupyter.widget-view+json": {
       "model_id": "464c02a16e4b47f9be232732af3539a0",
       "version_major": 2,
       "version_minor": 0
      },
      "text/plain": [
       "HBox(children=(FloatProgress(value=1.0, bar_style='info', max=1.0), HTML(value='')))"
      ]
     },
     "metadata": {},
     "output_type": "display_data"
    },
    {
     "name": "stdout",
     "output_type": "stream",
     "text": [
      "\n",
      "35 267 3 183\n",
      "3 435 5 45\n",
      "0 454 34 0\n",
      "0 462 26 0\n",
      "2 488\n",
      "0.08681779861563879\n",
      "1e-05 1 0.5 0.5\n",
      "250\n",
      "1500\n",
      "env: CUDA_LAUNCH_BLOCKING=1\n"
     ]
    },
    {
     "data": {
      "application/vnd.jupyter.widget-view+json": {
       "model_id": "a595ff9e03314ea0bc4af7d9cb242834",
       "version_major": 2,
       "version_minor": 0
      },
      "text/plain": [
       "HBox(children=(FloatProgress(value=0.0, max=2.0), HTML(value='')))"
      ]
     },
     "metadata": {},
     "output_type": "display_data"
    },
    {
     "name": "stdout",
     "output_type": "stream",
     "text": [
      "[1e-05]\n"
     ]
    },
    {
     "data": {
      "application/vnd.jupyter.widget-view+json": {
       "model_id": "429f7da0089047f78ce2f4d787173478",
       "version_major": 2,
       "version_minor": 0
      },
      "text/plain": [
       "HBox(children=(FloatProgress(value=1.0, bar_style='info', max=1.0), HTML(value='')))"
      ]
     },
     "metadata": {},
     "output_type": "display_data"
    },
    {
     "name": "stdout",
     "output_type": "stream",
     "text": [
      "[1,    50] loss: 3.673\n",
      "[1,    50] acc: 0.544\n",
      "[1,   100] loss: 2.405\n",
      "[1,   100] acc: 0.688\n",
      "[1,   150] loss: 1.842\n",
      "[1,   150] acc: 0.690\n",
      "[1,   200] loss: 0.093\n",
      "[1,   200] acc: 0.694\n",
      "[1,   250] loss: 0.094\n",
      "[1,   250] acc: 0.709\n",
      "[1,   300] loss: 0.084\n",
      "[1,   300] acc: 0.675\n",
      "\n",
      "[9.619397662556434e-06]\n"
     ]
    },
    {
     "data": {
      "application/vnd.jupyter.widget-view+json": {
       "model_id": "de0d9fd38ad344cb8b3fb45dc52e3d95",
       "version_major": 2,
       "version_minor": 0
      },
      "text/plain": [
       "HBox(children=(FloatProgress(value=1.0, bar_style='info', max=1.0), HTML(value='')))"
      ]
     },
     "metadata": {},
     "output_type": "display_data"
    },
    {
     "name": "stdout",
     "output_type": "stream",
     "text": [
      "[2,    50] loss: 0.131\n",
      "[2,    50] acc: 0.608\n",
      "[2,   100] loss: 0.095\n",
      "[2,   100] acc: 0.649\n",
      "[2,   150] loss: 0.080\n",
      "[2,   150] acc: 0.709\n",
      "[2,   200] loss: 0.083\n",
      "[2,   200] acc: 0.697\n",
      "[2,   250] loss: 0.112\n",
      "[2,   250] acc: 0.699\n",
      "[2,   300] loss: 0.078\n",
      "[2,   300] acc: 0.696\n",
      "\n",
      "\n",
      "Finished Training\n"
     ]
    },
    {
     "data": {
      "application/vnd.jupyter.widget-view+json": {
       "model_id": "f1c7a8ccc87e4d32a57b2290088ce770",
       "version_major": 2,
       "version_minor": 0
      },
      "text/plain": [
       "HBox(children=(FloatProgress(value=1.0, bar_style='info', max=1.0), HTML(value='')))"
      ]
     },
     "metadata": {},
     "output_type": "display_data"
    },
    {
     "name": "stdout",
     "output_type": "stream",
     "text": [
      "\n",
      "29 348 9 102\n",
      "2 466 6 14\n",
      "0 454 34 0\n",
      "0 462 26 0\n",
      "2 488\n",
      "0.11861825451143596\n",
      "1e-05 1 2 0.3\n",
      "350\n",
      "1500\n",
      "env: CUDA_LAUNCH_BLOCKING=1\n"
     ]
    },
    {
     "data": {
      "application/vnd.jupyter.widget-view+json": {
       "model_id": "768ed19ed8a54476b7f5b2c3a408e8a8",
       "version_major": 2,
       "version_minor": 0
      },
      "text/plain": [
       "HBox(children=(FloatProgress(value=0.0, max=2.0), HTML(value='')))"
      ]
     },
     "metadata": {},
     "output_type": "display_data"
    },
    {
     "name": "stdout",
     "output_type": "stream",
     "text": [
      "[1e-05]\n"
     ]
    },
    {
     "data": {
      "application/vnd.jupyter.widget-view+json": {
       "model_id": "2c14f270336d473dbf1af56a115203a7",
       "version_major": 2,
       "version_minor": 0
      },
      "text/plain": [
       "HBox(children=(FloatProgress(value=1.0, bar_style='info', max=1.0), HTML(value='')))"
      ]
     },
     "metadata": {},
     "output_type": "display_data"
    },
    {
     "name": "stdout",
     "output_type": "stream",
     "text": [
      "[1,    50] loss: 1.951\n",
      "[1,    50] acc: 0.625\n",
      "[1,   100] loss: 0.024\n",
      "[1,   100] acc: 0.632\n",
      "[1,   150] loss: 0.024\n",
      "[1,   150] acc: 0.610\n",
      "[1,   200] loss: 0.033\n",
      "[1,   200] acc: 0.602\n",
      "[1,   250] loss: 0.153\n",
      "[1,   250] acc: 0.673\n",
      "[1,   300] loss: 0.022\n",
      "[1,   300] acc: 0.675\n",
      "\n",
      "[9.619397662556434e-06]\n"
     ]
    },
    {
     "data": {
      "application/vnd.jupyter.widget-view+json": {
       "model_id": "d703022585f04eeab027ded9c6f3bd17",
       "version_major": 2,
       "version_minor": 0
      },
      "text/plain": [
       "HBox(children=(FloatProgress(value=1.0, bar_style='info', max=1.0), HTML(value='')))"
      ]
     },
     "metadata": {},
     "output_type": "display_data"
    },
    {
     "name": "stdout",
     "output_type": "stream",
     "text": [
      "[2,    50] loss: 0.015\n",
      "[2,    50] acc: 0.700\n",
      "[2,   100] loss: 0.018\n",
      "[2,   100] acc: 0.632\n",
      "[2,   150] loss: 0.019\n",
      "[2,   150] acc: 0.649\n",
      "[2,   200] loss: 0.024\n",
      "[2,   200] acc: 0.632\n",
      "[2,   250] loss: 0.018\n",
      "[2,   250] acc: 0.744\n",
      "[2,   300] loss: 0.024\n",
      "[2,   300] acc: 0.648\n",
      "\n",
      "\n",
      "Finished Training\n"
     ]
    },
    {
     "data": {
      "application/vnd.jupyter.widget-view+json": {
       "model_id": "8d43a2f2a48346648cf3945540fa0caf",
       "version_major": 2,
       "version_minor": 0
      },
      "text/plain": [
       "HBox(children=(FloatProgress(value=1.0, bar_style='info', max=1.0), HTML(value='')))"
      ]
     },
     "metadata": {},
     "output_type": "display_data"
    },
    {
     "name": "stdout",
     "output_type": "stream",
     "text": [
      "\n",
      "31 316 7 134\n",
      "2 458 6 22\n",
      "13 426 21 28\n",
      "0 462 26 0\n",
      "2 488\n",
      "0.27187420959615427\n",
      "1e-05 1 2 0.5\n",
      "250\n",
      "1500\n",
      "env: CUDA_LAUNCH_BLOCKING=1\n"
     ]
    },
    {
     "data": {
      "application/vnd.jupyter.widget-view+json": {
       "model_id": "9e97aa9c9d6844d8988747d12c7833fd",
       "version_major": 2,
       "version_minor": 0
      },
      "text/plain": [
       "HBox(children=(FloatProgress(value=0.0, max=2.0), HTML(value='')))"
      ]
     },
     "metadata": {},
     "output_type": "display_data"
    },
    {
     "name": "stdout",
     "output_type": "stream",
     "text": [
      "[1e-05]\n"
     ]
    },
    {
     "data": {
      "application/vnd.jupyter.widget-view+json": {
       "model_id": "afb1fb3a8c404cf488512af2726eb55f",
       "version_major": 2,
       "version_minor": 0
      },
      "text/plain": [
       "HBox(children=(FloatProgress(value=1.0, bar_style='info', max=1.0), HTML(value='')))"
      ]
     },
     "metadata": {},
     "output_type": "display_data"
    },
    {
     "name": "stdout",
     "output_type": "stream",
     "text": [
      "[1,    50] loss: 3.434\n",
      "[1,    50] acc: 0.626\n",
      "[1,   100] loss: 1.120\n",
      "[1,   100] acc: 0.765\n",
      "[1,   150] loss: 2.447\n",
      "[1,   150] acc: 0.669\n",
      "[1,   200] loss: 0.069\n",
      "[1,   200] acc: 0.725\n",
      "[1,   250] loss: 0.031\n",
      "[1,   250] acc: 0.691\n",
      "[1,   300] loss: 0.018\n",
      "[1,   300] acc: 0.742\n",
      "\n",
      "[9.619397662556434e-06]\n"
     ]
    },
    {
     "data": {
      "application/vnd.jupyter.widget-view+json": {
       "model_id": "0595137bb6b04495957439975e4dbca0",
       "version_major": 2,
       "version_minor": 0
      },
      "text/plain": [
       "HBox(children=(FloatProgress(value=1.0, bar_style='info', max=1.0), HTML(value='')))"
      ]
     },
     "metadata": {},
     "output_type": "display_data"
    },
    {
     "name": "stdout",
     "output_type": "stream",
     "text": [
      "[2,    50] loss: 0.054\n",
      "[2,    50] acc: 0.614\n",
      "[2,   100] loss: 0.012\n",
      "[2,   100] acc: 0.811\n",
      "[2,   150] loss: 0.042\n",
      "[2,   150] acc: 0.646\n",
      "[2,   200] loss: 0.011\n",
      "[2,   200] acc: 0.752\n",
      "[2,   250] loss: 0.024\n",
      "[2,   250] acc: 0.675\n",
      "[2,   300] loss: 0.015\n",
      "[2,   300] acc: 0.736\n",
      "\n",
      "\n",
      "Finished Training\n"
     ]
    },
    {
     "data": {
      "application/vnd.jupyter.widget-view+json": {
       "model_id": "943e2b1c480f4716a7cdc87a29083262",
       "version_major": 2,
       "version_minor": 0
      },
      "text/plain": [
       "HBox(children=(FloatProgress(value=1.0, bar_style='info', max=1.0), HTML(value='')))"
      ]
     },
     "metadata": {},
     "output_type": "display_data"
    },
    {
     "name": "stdout",
     "output_type": "stream",
     "text": [
      "\n",
      "30 344 8 106\n",
      "2 461 6 19\n",
      "0 454 34 0\n",
      "0 462 26 0\n",
      "2 488\n",
      "0.11032565345911005\n",
      "1e-05 3 0.5 0.3\n",
      "350\n",
      "1500\n",
      "env: CUDA_LAUNCH_BLOCKING=1\n"
     ]
    },
    {
     "data": {
      "application/vnd.jupyter.widget-view+json": {
       "model_id": "1232d95f3b7e4d8093029db5e69aaff6",
       "version_major": 2,
       "version_minor": 0
      },
      "text/plain": [
       "HBox(children=(FloatProgress(value=0.0, max=2.0), HTML(value='')))"
      ]
     },
     "metadata": {},
     "output_type": "display_data"
    },
    {
     "name": "stdout",
     "output_type": "stream",
     "text": [
      "[1e-05]\n"
     ]
    },
    {
     "data": {
      "application/vnd.jupyter.widget-view+json": {
       "model_id": "0a3bfc11af9f4d35ab6f2d0f2dfadeae",
       "version_major": 2,
       "version_minor": 0
      },
      "text/plain": [
       "HBox(children=(FloatProgress(value=1.0, bar_style='info', max=1.0), HTML(value='')))"
      ]
     },
     "metadata": {},
     "output_type": "display_data"
    },
    {
     "name": "stdout",
     "output_type": "stream",
     "text": [
      "[1,    50] loss: 9.880\n",
      "[1,    50] acc: 0.562\n",
      "[1,   100] loss: 11.977\n",
      "[1,   100] acc: 0.613\n",
      "[1,   150] loss: 10.896\n",
      "[1,   150] acc: 0.581\n",
      "[1,   200] loss: 9.248\n",
      "[1,   200] acc: 0.643\n",
      "[1,   250] loss: 9.927\n",
      "[1,   250] acc: 0.696\n",
      "[1,   300] loss: 10.725\n",
      "[1,   300] acc: 0.597\n",
      "\n",
      "[9.619397662556434e-06]\n"
     ]
    },
    {
     "data": {
      "application/vnd.jupyter.widget-view+json": {
       "model_id": "425971697925491b89dffd04ddae856b",
       "version_major": 2,
       "version_minor": 0
      },
      "text/plain": [
       "HBox(children=(FloatProgress(value=1.0, bar_style='info', max=1.0), HTML(value='')))"
      ]
     },
     "metadata": {},
     "output_type": "display_data"
    },
    {
     "name": "stdout",
     "output_type": "stream",
     "text": [
      "[2,    50] loss: 9.867\n",
      "[2,    50] acc: 0.622\n",
      "[2,   100] loss: 11.979\n",
      "[2,   100] acc: 0.583\n",
      "[2,   150] loss: 10.901\n",
      "[2,   150] acc: 0.600\n",
      "[2,   200] loss: 9.230\n",
      "[2,   200] acc: 0.637\n",
      "[2,   250] loss: 9.933\n",
      "[2,   250] acc: 0.672\n",
      "[2,   300] loss: 9.833\n",
      "[2,   300] acc: 0.600\n",
      "\n",
      "\n",
      "Finished Training\n"
     ]
    },
    {
     "data": {
      "application/vnd.jupyter.widget-view+json": {
       "model_id": "50d2327400194b3392db4a8544102eeb",
       "version_major": 2,
       "version_minor": 0
      },
      "text/plain": [
       "HBox(children=(FloatProgress(value=1.0, bar_style='info', max=1.0), HTML(value='')))"
      ]
     },
     "metadata": {},
     "output_type": "display_data"
    },
    {
     "name": "stdout",
     "output_type": "stream",
     "text": [
      "\n",
      "32 294 6 156\n",
      "2 467 6 13\n",
      "0 454 34 0\n",
      "0 462 26 0\n",
      "2 488\n",
      "0.10879137606591963\n",
      "1e-05 3 0.5 0.5\n",
      "250\n",
      "1500\n",
      "env: CUDA_LAUNCH_BLOCKING=1\n"
     ]
    },
    {
     "data": {
      "application/vnd.jupyter.widget-view+json": {
       "model_id": "f946c68ebe3c4b649cfd1a4eafad77a3",
       "version_major": 2,
       "version_minor": 0
      },
      "text/plain": [
       "HBox(children=(FloatProgress(value=0.0, max=2.0), HTML(value='')))"
      ]
     },
     "metadata": {},
     "output_type": "display_data"
    },
    {
     "name": "stdout",
     "output_type": "stream",
     "text": [
      "[1e-05]\n"
     ]
    },
    {
     "data": {
      "application/vnd.jupyter.widget-view+json": {
       "model_id": "f8c168f6e43c4061952209039cb5fbba",
       "version_major": 2,
       "version_minor": 0
      },
      "text/plain": [
       "HBox(children=(FloatProgress(value=1.0, bar_style='info', max=1.0), HTML(value='')))"
      ]
     },
     "metadata": {},
     "output_type": "display_data"
    },
    {
     "name": "stdout",
     "output_type": "stream",
     "text": [
      "[1,    50] loss: 1.011\n",
      "[1,    50] acc: 0.581\n",
      "[1,   100] loss: 0.351\n",
      "[1,   100] acc: 0.599\n",
      "[1,   150] loss: 0.343\n",
      "[1,   150] acc: 0.607\n",
      "[1,   200] loss: 0.349\n",
      "[1,   200] acc: 0.583\n",
      "[1,   250] loss: 0.234\n",
      "[1,   250] acc: 0.653\n",
      "[1,   300] loss: 0.171\n",
      "[1,   300] acc: 0.733\n",
      "\n",
      "[9.619397662556434e-06]\n"
     ]
    },
    {
     "data": {
      "application/vnd.jupyter.widget-view+json": {
       "model_id": "53f62c0785ac4a24970eecc5c87d488b",
       "version_major": 2,
       "version_minor": 0
      },
      "text/plain": [
       "HBox(children=(FloatProgress(value=1.0, bar_style='info', max=1.0), HTML(value='')))"
      ]
     },
     "metadata": {},
     "output_type": "display_data"
    },
    {
     "name": "stdout",
     "output_type": "stream",
     "text": [
      "[2,    50] loss: 0.327\n",
      "[2,    50] acc: 0.569\n",
      "[2,   100] loss: 0.302\n",
      "[2,   100] acc: 0.595\n",
      "[2,   150] loss: 0.309\n",
      "[2,   150] acc: 0.642\n",
      "[2,   200] loss: 0.321\n",
      "[2,   200] acc: 0.606\n",
      "[2,   250] loss: 0.212\n",
      "[2,   250] acc: 0.674\n",
      "[2,   300] loss: 0.163\n",
      "[2,   300] acc: 0.708\n",
      "\n",
      "\n",
      "Finished Training\n"
     ]
    },
    {
     "data": {
      "application/vnd.jupyter.widget-view+json": {
       "model_id": "a1cdac9ad7bf4db2832100557ed1afae",
       "version_major": 2,
       "version_minor": 0
      },
      "text/plain": [
       "HBox(children=(FloatProgress(value=1.0, bar_style='info', max=1.0), HTML(value='')))"
      ]
     },
     "metadata": {},
     "output_type": "display_data"
    },
    {
     "name": "stdout",
     "output_type": "stream",
     "text": [
      "\n",
      "30 335 8 115\n",
      "2 471 6 9\n",
      "0 454 34 0\n",
      "0 462 26 0\n",
      "2 488\n",
      "0.12870972547763526\n",
      "1e-05 3 2 0.3\n",
      "350\n",
      "1500\n",
      "env: CUDA_LAUNCH_BLOCKING=1\n"
     ]
    },
    {
     "data": {
      "application/vnd.jupyter.widget-view+json": {
       "model_id": "682160d6d22e47c689495ef07a2d2a06",
       "version_major": 2,
       "version_minor": 0
      },
      "text/plain": [
       "HBox(children=(FloatProgress(value=0.0, max=2.0), HTML(value='')))"
      ]
     },
     "metadata": {},
     "output_type": "display_data"
    },
    {
     "name": "stdout",
     "output_type": "stream",
     "text": [
      "[1e-05]\n"
     ]
    },
    {
     "data": {
      "application/vnd.jupyter.widget-view+json": {
       "model_id": "e5d5d107e71b44cbba06529d5a65bb32",
       "version_major": 2,
       "version_minor": 0
      },
      "text/plain": [
       "HBox(children=(FloatProgress(value=1.0, bar_style='info', max=1.0), HTML(value='')))"
      ]
     },
     "metadata": {},
     "output_type": "display_data"
    },
    {
     "name": "stdout",
     "output_type": "stream",
     "text": [
      "[1,    50] loss: 10.316\n",
      "[1,    50] acc: 0.629\n",
      "[1,   100] loss: 14.779\n",
      "[1,   100] acc: 0.570\n",
      "[1,   150] loss: 9.870\n",
      "[1,   150] acc: 0.640\n",
      "[1,   200] loss: 11.070\n",
      "[1,   200] acc: 0.636\n",
      "[1,   250] loss: 21.319\n",
      "[1,   250] acc: 0.468\n",
      "[1,   300] loss: 20.540\n",
      "[1,   300] acc: 0.484\n",
      "\n",
      "[9.619397662556434e-06]\n"
     ]
    },
    {
     "data": {
      "application/vnd.jupyter.widget-view+json": {
       "model_id": "acc69dd985af4960a4c3ee713876de78",
       "version_major": 2,
       "version_minor": 0
      },
      "text/plain": [
       "HBox(children=(FloatProgress(value=1.0, bar_style='info', max=1.0), HTML(value='')))"
      ]
     },
     "metadata": {},
     "output_type": "display_data"
    },
    {
     "name": "stdout",
     "output_type": "stream",
     "text": [
      "[2,    50] loss: 19.180\n",
      "[2,    50] acc: 0.434\n",
      "[2,   100] loss: 17.644\n",
      "[2,   100] acc: 0.485\n",
      "[2,   150] loss: 20.340\n",
      "[2,   150] acc: 0.432\n",
      "[2,   200] loss: 17.619\n",
      "[2,   200] acc: 0.542\n",
      "[2,   250] loss: 21.302\n",
      "[2,   250] acc: 0.490\n",
      "[2,   300] loss: 20.530\n",
      "[2,   300] acc: 0.493\n",
      "\n",
      "\n",
      "Finished Training\n"
     ]
    },
    {
     "data": {
      "application/vnd.jupyter.widget-view+json": {
       "model_id": "2a98a8764180476e9c9231f6f4950250",
       "version_major": 2,
       "version_minor": 0
      },
      "text/plain": [
       "HBox(children=(FloatProgress(value=1.0, bar_style='info', max=1.0), HTML(value='')))"
      ]
     },
     "metadata": {},
     "output_type": "display_data"
    },
    {
     "name": "stdout",
     "output_type": "stream",
     "text": [
      "\n",
      "38 0 0 450\n",
      "0 478 8 2\n",
      "0 454 34 0\n",
      "0 462 26 0\n",
      "2 488\n",
      "0.028894646688807264\n",
      "1e-05 3 2 0.5\n",
      "250\n",
      "1500\n",
      "env: CUDA_LAUNCH_BLOCKING=1\n"
     ]
    },
    {
     "data": {
      "application/vnd.jupyter.widget-view+json": {
       "model_id": "b61f5f4c46884ef187a2cc93a920ba38",
       "version_major": 2,
       "version_minor": 0
      },
      "text/plain": [
       "HBox(children=(FloatProgress(value=0.0, max=2.0), HTML(value='')))"
      ]
     },
     "metadata": {},
     "output_type": "display_data"
    },
    {
     "name": "stdout",
     "output_type": "stream",
     "text": [
      "[1e-05]\n"
     ]
    },
    {
     "data": {
      "application/vnd.jupyter.widget-view+json": {
       "model_id": "1d1814a9052e4105816870cbcf8798e0",
       "version_major": 2,
       "version_minor": 0
      },
      "text/plain": [
       "HBox(children=(FloatProgress(value=1.0, bar_style='info', max=1.0), HTML(value='')))"
      ]
     },
     "metadata": {},
     "output_type": "display_data"
    },
    {
     "name": "stdout",
     "output_type": "stream",
     "text": [
      "[1,    50] loss: 8.175\n",
      "[1,    50] acc: 0.707\n",
      "[1,   100] loss: 7.578\n",
      "[1,   100] acc: 0.648\n",
      "[1,   150] loss: 7.080\n",
      "[1,   150] acc: 0.581\n",
      "[1,   200] loss: 8.510\n",
      "[1,   200] acc: 0.628\n",
      "[1,   250] loss: 2.740\n",
      "[1,   250] acc: 0.750\n",
      "[1,   300] loss: 8.946\n",
      "[1,   300] acc: 0.614\n",
      "\n",
      "[9.619397662556434e-06]\n"
     ]
    },
    {
     "data": {
      "application/vnd.jupyter.widget-view+json": {
       "model_id": "7c00e84360ea4b2f860266c5e8ea8152",
       "version_major": 2,
       "version_minor": 0
      },
      "text/plain": [
       "HBox(children=(FloatProgress(value=1.0, bar_style='info', max=1.0), HTML(value='')))"
      ]
     },
     "metadata": {},
     "output_type": "display_data"
    },
    {
     "name": "stdout",
     "output_type": "stream",
     "text": [
      "[2,    50] loss: 8.195\n",
      "[2,    50] acc: 0.663\n",
      "[2,   100] loss: 7.567\n",
      "[2,   100] acc: 0.667\n",
      "[2,   150] loss: 7.042\n",
      "[2,   150] acc: 0.609\n",
      "[2,   200] loss: 8.450\n",
      "[2,   200] acc: 0.603\n",
      "[2,   250] loss: 2.741\n",
      "[2,   250] acc: 0.713\n",
      "[2,   300] loss: 8.962\n",
      "[2,   300] acc: 0.619\n",
      "\n",
      "\n",
      "Finished Training\n"
     ]
    },
    {
     "data": {
      "application/vnd.jupyter.widget-view+json": {
       "model_id": "fc64872b4214456694ad9f79fa0c33af",
       "version_major": 2,
       "version_minor": 0
      },
      "text/plain": [
       "HBox(children=(FloatProgress(value=1.0, bar_style='info', max=1.0), HTML(value='')))"
      ]
     },
     "metadata": {},
     "output_type": "display_data"
    },
    {
     "name": "stdout",
     "output_type": "stream",
     "text": [
      "\n",
      "29 287 9 163\n",
      "0 480 8 0\n",
      "0 454 34 0\n",
      "0 462 26 0\n",
      "2 488\n",
      "0.05042922252380341\n",
      "0.0001 0 0.5 0.3\n",
      "350\n",
      "1500\n",
      "env: CUDA_LAUNCH_BLOCKING=1\n"
     ]
    },
    {
     "data": {
      "application/vnd.jupyter.widget-view+json": {
       "model_id": "7ec109789abd4ca3bfa9f0daf69ebe37",
       "version_major": 2,
       "version_minor": 0
      },
      "text/plain": [
       "HBox(children=(FloatProgress(value=0.0, max=2.0), HTML(value='')))"
      ]
     },
     "metadata": {},
     "output_type": "display_data"
    },
    {
     "name": "stdout",
     "output_type": "stream",
     "text": [
      "[0.0001]\n"
     ]
    },
    {
     "data": {
      "application/vnd.jupyter.widget-view+json": {
       "model_id": "d6e403bf4b2c4070b2355c2bdf825046",
       "version_major": 2,
       "version_minor": 0
      },
      "text/plain": [
       "HBox(children=(FloatProgress(value=1.0, bar_style='info', max=1.0), HTML(value='')))"
      ]
     },
     "metadata": {},
     "output_type": "display_data"
    },
    {
     "name": "stdout",
     "output_type": "stream",
     "text": [
      "[1,    50] loss: 3.647\n",
      "[1,    50] acc: 0.627\n",
      "[1,   100] loss: 3.757\n",
      "[1,   100] acc: 0.533\n",
      "[1,   150] loss: 2.401\n",
      "[1,   150] acc: 0.723\n",
      "[1,   200] loss: 3.344\n",
      "[1,   200] acc: 0.687\n",
      "[1,   250] loss: 4.491\n",
      "[1,   250] acc: 0.610\n",
      "[1,   300] loss: 3.493\n",
      "[1,   300] acc: 0.607\n",
      "\n",
      "[9.619397662556435e-05]\n"
     ]
    },
    {
     "data": {
      "application/vnd.jupyter.widget-view+json": {
       "model_id": "2e0b947857634c90aa194fd682fa7e44",
       "version_major": 2,
       "version_minor": 0
      },
      "text/plain": [
       "HBox(children=(FloatProgress(value=1.0, bar_style='info', max=1.0), HTML(value='')))"
      ]
     },
     "metadata": {},
     "output_type": "display_data"
    },
    {
     "name": "stdout",
     "output_type": "stream",
     "text": [
      "[2,    50] loss: 3.641\n",
      "[2,    50] acc: 0.634\n",
      "[2,   100] loss: 3.766\n",
      "[2,   100] acc: 0.540\n",
      "[2,   150] loss: 2.397\n",
      "[2,   150] acc: 0.714\n",
      "[2,   200] loss: 3.341\n",
      "[2,   200] acc: 0.673\n",
      "[2,   250] loss: 4.489\n",
      "[2,   250] acc: 0.577\n",
      "[2,   300] loss: 3.496\n",
      "[2,   300] acc: 0.614\n",
      "\n",
      "\n",
      "Finished Training\n"
     ]
    },
    {
     "data": {
      "application/vnd.jupyter.widget-view+json": {
       "model_id": "890e7e04837049ecb4ed3c6b1f1c9bd7",
       "version_major": 2,
       "version_minor": 0
      },
      "text/plain": [
       "HBox(children=(FloatProgress(value=1.0, bar_style='info', max=1.0), HTML(value='')))"
      ]
     },
     "metadata": {},
     "output_type": "display_data"
    },
    {
     "name": "stdout",
     "output_type": "stream",
     "text": [
      "\n",
      "33 275 5 175\n",
      "0 480 8 0\n",
      "0 454 34 0\n",
      "0 462 26 0\n",
      "2 488\n",
      "0.05365326905796672\n",
      "0.0001 0 0.5 0.5\n",
      "250\n",
      "1500\n",
      "env: CUDA_LAUNCH_BLOCKING=1\n"
     ]
    },
    {
     "data": {
      "application/vnd.jupyter.widget-view+json": {
       "model_id": "fd85408104914f31a71c8711088b904c",
       "version_major": 2,
       "version_minor": 0
      },
      "text/plain": [
       "HBox(children=(FloatProgress(value=0.0, max=2.0), HTML(value='')))"
      ]
     },
     "metadata": {},
     "output_type": "display_data"
    },
    {
     "name": "stdout",
     "output_type": "stream",
     "text": [
      "[0.0001]\n"
     ]
    },
    {
     "data": {
      "application/vnd.jupyter.widget-view+json": {
       "model_id": "93cf8c00799b4707bac8967fbdb0cbb4",
       "version_major": 2,
       "version_minor": 0
      },
      "text/plain": [
       "HBox(children=(FloatProgress(value=1.0, bar_style='info', max=1.0), HTML(value='')))"
      ]
     },
     "metadata": {},
     "output_type": "display_data"
    },
    {
     "name": "stdout",
     "output_type": "stream",
     "text": [
      "[1,    50] loss: 1.142\n",
      "[1,    50] acc: 0.756\n",
      "[1,   100] loss: 1.609\n",
      "[1,   100] acc: 0.700\n",
      "[1,   150] loss: 0.691\n",
      "[1,   150] acc: 0.798\n",
      "[1,   200] loss: 3.929\n",
      "[1,   200] acc: 0.636\n",
      "[1,   250] loss: 1.538\n",
      "[1,   250] acc: 0.765\n",
      "[1,   300] loss: 0.629\n",
      "[1,   300] acc: 0.705\n",
      "\n",
      "[9.619397662556435e-05]\n"
     ]
    },
    {
     "data": {
      "application/vnd.jupyter.widget-view+json": {
       "model_id": "94baad52fbb34f1cac1ae69703118361",
       "version_major": 2,
       "version_minor": 0
      },
      "text/plain": [
       "HBox(children=(FloatProgress(value=1.0, bar_style='info', max=1.0), HTML(value='')))"
      ]
     },
     "metadata": {},
     "output_type": "display_data"
    },
    {
     "name": "stdout",
     "output_type": "stream",
     "text": [
      "[2,    50] loss: 1.130\n",
      "[2,    50] acc: 0.755\n",
      "[2,   100] loss: 1.601\n",
      "[2,   100] acc: 0.718\n",
      "[2,   150] loss: 0.687\n",
      "[2,   150] acc: 0.792\n",
      "[2,   200] loss: 3.925\n",
      "[2,   200] acc: 0.644\n",
      "[2,   250] loss: 1.539\n",
      "[2,   250] acc: 0.777\n",
      "[2,   300] loss: 0.620\n",
      "[2,   300] acc: 0.730\n",
      "\n",
      "\n",
      "Finished Training\n"
     ]
    },
    {
     "data": {
      "application/vnd.jupyter.widget-view+json": {
       "model_id": "e55aa89fd44f41158b64916b2d22038b",
       "version_major": 2,
       "version_minor": 0
      },
      "text/plain": [
       "HBox(children=(FloatProgress(value=1.0, bar_style='info', max=1.0), HTML(value='')))"
      ]
     },
     "metadata": {},
     "output_type": "display_data"
    },
    {
     "name": "stdout",
     "output_type": "stream",
     "text": [
      "\n",
      "31 304 7 146\n",
      "0 479 8 1\n",
      "0 454 34 0\n",
      "0 462 26 0\n",
      "2 488\n",
      "0.0576685453064454\n",
      "0.0001 0 2 0.3\n",
      "350\n",
      "1500\n",
      "0.0001 0 2 0.5\n",
      "250\n",
      "1500\n",
      "0.0001 1 0.5 0.3\n",
      "350\n",
      "1500\n",
      "env: CUDA_LAUNCH_BLOCKING=1\n"
     ]
    },
    {
     "data": {
      "application/vnd.jupyter.widget-view+json": {
       "model_id": "fcc6102ef84846d3add22f03a57636bd",
       "version_major": 2,
       "version_minor": 0
      },
      "text/plain": [
       "HBox(children=(FloatProgress(value=0.0, max=2.0), HTML(value='')))"
      ]
     },
     "metadata": {},
     "output_type": "display_data"
    },
    {
     "name": "stdout",
     "output_type": "stream",
     "text": [
      "[0.0001]\n"
     ]
    },
    {
     "data": {
      "application/vnd.jupyter.widget-view+json": {
       "model_id": "543e0fb8c2c94898b12375a1606daa6b",
       "version_major": 2,
       "version_minor": 0
      },
      "text/plain": [
       "HBox(children=(FloatProgress(value=1.0, bar_style='info', max=1.0), HTML(value='')))"
      ]
     },
     "metadata": {},
     "output_type": "display_data"
    },
    {
     "name": "stdout",
     "output_type": "stream",
     "text": [
      "[1,    50] loss: 6.474\n",
      "[1,    50] acc: 0.522\n",
      "[1,   100] loss: 3.566\n",
      "[1,   100] acc: 0.643\n",
      "[1,   150] loss: 2.015\n",
      "[1,   150] acc: 0.710\n",
      "[1,   200] loss: 3.041\n",
      "[1,   200] acc: 0.637\n",
      "[1,   250] loss: 2.885\n",
      "[1,   250] acc: 0.661\n",
      "[1,   300] loss: 3.677\n",
      "[1,   300] acc: 0.648\n",
      "\n",
      "[9.619397662556435e-05]\n"
     ]
    },
    {
     "data": {
      "application/vnd.jupyter.widget-view+json": {
       "model_id": "de8072a5aded499c8c49f78ff27e7ed2",
       "version_major": 2,
       "version_minor": 0
      },
      "text/plain": [
       "HBox(children=(FloatProgress(value=1.0, bar_style='info', max=1.0), HTML(value='')))"
      ]
     },
     "metadata": {},
     "output_type": "display_data"
    },
    {
     "name": "stdout",
     "output_type": "stream",
     "text": [
      "[2,    50] loss: 6.461\n",
      "[2,    50] acc: 0.511\n",
      "[2,   100] loss: 3.561\n",
      "[2,   100] acc: 0.641\n",
      "[2,   150] loss: 2.011\n",
      "[2,   150] acc: 0.687\n",
      "[2,   200] loss: 3.035\n",
      "[2,   200] acc: 0.637\n",
      "[2,   250] loss: 2.882\n",
      "[2,   250] acc: 0.640\n",
      "[2,   300] loss: 3.677\n",
      "[2,   300] acc: 0.591\n",
      "\n",
      "\n",
      "Finished Training\n"
     ]
    },
    {
     "data": {
      "application/vnd.jupyter.widget-view+json": {
       "model_id": "7a995799ec7f4833a99cd0620ecdccca",
       "version_major": 2,
       "version_minor": 0
      },
      "text/plain": [
       "HBox(children=(FloatProgress(value=1.0, bar_style='info', max=1.0), HTML(value='')))"
      ]
     },
     "metadata": {},
     "output_type": "display_data"
    },
    {
     "name": "stdout",
     "output_type": "stream",
     "text": [
      "\n",
      "36 268 2 182\n",
      "0 480 8 0\n",
      "0 454 34 0\n",
      "0 462 26 0\n",
      "2 488\n",
      "0.05624490034909736\n",
      "0.0001 1 0.5 0.5\n",
      "250\n",
      "1500\n",
      "env: CUDA_LAUNCH_BLOCKING=1\n"
     ]
    },
    {
     "data": {
      "application/vnd.jupyter.widget-view+json": {
       "model_id": "bb8b516a22484aa6a09d02ab196a307f",
       "version_major": 2,
       "version_minor": 0
      },
      "text/plain": [
       "HBox(children=(FloatProgress(value=0.0, max=2.0), HTML(value='')))"
      ]
     },
     "metadata": {},
     "output_type": "display_data"
    },
    {
     "name": "stdout",
     "output_type": "stream",
     "text": [
      "[0.0001]\n"
     ]
    },
    {
     "data": {
      "application/vnd.jupyter.widget-view+json": {
       "model_id": "0d926cc5747b4422b54139404ab2b9bc",
       "version_major": 2,
       "version_minor": 0
      },
      "text/plain": [
       "HBox(children=(FloatProgress(value=1.0, bar_style='info', max=1.0), HTML(value='')))"
      ]
     },
     "metadata": {},
     "output_type": "display_data"
    },
    {
     "name": "stdout",
     "output_type": "stream",
     "text": [
      "[1,    50] loss: 3.279\n",
      "[1,    50] acc: 0.612\n",
      "[1,   100] loss: 2.275\n",
      "[1,   100] acc: 0.676\n",
      "[1,   150] loss: 2.046\n",
      "[1,   150] acc: 0.640\n",
      "[1,   200] loss: 4.240\n",
      "[1,   200] acc: 0.612\n",
      "[1,   250] loss: 2.874\n",
      "[1,   250] acc: 0.674\n",
      "\n",
      "\n"
     ]
    },
    {
     "ename": "KeyboardInterrupt",
     "evalue": "",
     "output_type": "error",
     "traceback": [
      "\u001b[0;31m---------------------------------------------------------------------------\u001b[0m",
      "\u001b[0;31mKeyboardInterrupt\u001b[0m                         Traceback (most recent call last)",
      "\u001b[0;32m<ipython-input-12-844987be0502>\u001b[0m in \u001b[0;36m<module>\u001b[0;34m\u001b[0m\n\u001b[1;32m     50\u001b[0m                 \u001b[0mscheduler\u001b[0m \u001b[0;34m=\u001b[0m \u001b[0mtorch\u001b[0m\u001b[0;34m.\u001b[0m\u001b[0moptim\u001b[0m\u001b[0;34m.\u001b[0m\u001b[0mlr_scheduler\u001b[0m\u001b[0;34m.\u001b[0m\u001b[0mCosineAnnealingLR\u001b[0m\u001b[0;34m(\u001b[0m\u001b[0moptimizer\u001b[0m\u001b[0;34m,\u001b[0m \u001b[0mT_max\u001b[0m \u001b[0;34m=\u001b[0m \u001b[0;36m8\u001b[0m\u001b[0;34m,\u001b[0m \u001b[0meta_min\u001b[0m\u001b[0;34m=\u001b[0m\u001b[0;36m0\u001b[0m\u001b[0;34m,\u001b[0m \u001b[0mlast_epoch\u001b[0m\u001b[0;34m=\u001b[0m\u001b[0;34m-\u001b[0m\u001b[0;36m1\u001b[0m\u001b[0;34m)\u001b[0m\u001b[0;34m\u001b[0m\u001b[0;34m\u001b[0m\u001b[0m\n\u001b[1;32m     51\u001b[0m                 train(net, optimizer, train_loader, criterion1, criterion2, alpha = 1,  n_epoch = 2, visualize =True,\n\u001b[0;32m---> 52\u001b[0;31m                                   cuda = True,  train_acc_period = 50, scheduler = scheduler, detection = True)\n\u001b[0m\u001b[1;32m     53\u001b[0m                 \u001b[0mresult\u001b[0m \u001b[0;34m=\u001b[0m \u001b[0mevaluate\u001b[0m\u001b[0;34m(\u001b[0m\u001b[0mnet\u001b[0m\u001b[0;34m,\u001b[0m \u001b[0mtest_loader\u001b[0m\u001b[0;34m)\u001b[0m\u001b[0;34m\u001b[0m\u001b[0;34m\u001b[0m\u001b[0m\n\u001b[1;32m     54\u001b[0m \u001b[0;34m\u001b[0m\u001b[0m\n",
      "\u001b[0;32m<ipython-input-7-8fdae9f2cd0e>\u001b[0m in \u001b[0;36mtrain\u001b[0;34m(net, optimizer, train_loader, criterion1, criterion2, alpha, beta, n_epoch, train_acc_period, test_acc_period, detection, cuda, visualize, scheduler)\u001b[0m\n\u001b[1;32m     37\u001b[0m                 \u001b[0mloss\u001b[0m \u001b[0;34m+=\u001b[0m \u001b[0mbeta\u001b[0m\u001b[0;34m*\u001b[0m\u001b[0mcriterion2\u001b[0m\u001b[0;34m(\u001b[0m\u001b[0moutputs\u001b[0m\u001b[0;34m[\u001b[0m\u001b[0;34m:\u001b[0m\u001b[0;34m,\u001b[0m \u001b[0;36m4\u001b[0m\u001b[0;34m:\u001b[0m\u001b[0;34m]\u001b[0m\u001b[0;34m.\u001b[0m\u001b[0mfloat\u001b[0m\u001b[0;34m(\u001b[0m\u001b[0;34m)\u001b[0m\u001b[0;34m,\u001b[0m \u001b[0mlabels\u001b[0m\u001b[0;34m[\u001b[0m\u001b[0;34m:\u001b[0m\u001b[0;34m,\u001b[0m\u001b[0;36m4\u001b[0m\u001b[0;34m]\u001b[0m\u001b[0;34m)\u001b[0m\u001b[0;34m\u001b[0m\u001b[0;34m\u001b[0m\u001b[0m\n\u001b[1;32m     38\u001b[0m             \u001b[0mloss\u001b[0m\u001b[0;34m.\u001b[0m\u001b[0mbackward\u001b[0m\u001b[0;34m(\u001b[0m\u001b[0;34m)\u001b[0m\u001b[0;34m\u001b[0m\u001b[0;34m\u001b[0m\u001b[0m\n\u001b[0;32m---> 39\u001b[0;31m             \u001b[0moptimizer\u001b[0m\u001b[0;34m.\u001b[0m\u001b[0mstep\u001b[0m\u001b[0;34m(\u001b[0m\u001b[0;34m)\u001b[0m\u001b[0;34m\u001b[0m\u001b[0;34m\u001b[0m\u001b[0m\n\u001b[0m\u001b[1;32m     40\u001b[0m             \u001b[0mtotal\u001b[0m \u001b[0;34m+=\u001b[0m \u001b[0mlabels\u001b[0m\u001b[0;34m.\u001b[0m\u001b[0msize\u001b[0m\u001b[0;34m(\u001b[0m\u001b[0;36m0\u001b[0m\u001b[0;34m)\u001b[0m\u001b[0;34m\u001b[0m\u001b[0;34m\u001b[0m\u001b[0m\n\u001b[1;32m     41\u001b[0m             \u001b[0;31m# print statistics\u001b[0m\u001b[0;34m\u001b[0m\u001b[0;34m\u001b[0m\u001b[0;34m\u001b[0m\u001b[0m\n",
      "\u001b[0;32m~/miniconda3/lib/python3.7/site-packages/torch/optim/lr_scheduler.py\u001b[0m in \u001b[0;36mwrapper\u001b[0;34m(*args, **kwargs)\u001b[0m\n\u001b[1;32m     65\u001b[0m                 \u001b[0minstance\u001b[0m\u001b[0;34m.\u001b[0m\u001b[0m_step_count\u001b[0m \u001b[0;34m+=\u001b[0m \u001b[0;36m1\u001b[0m\u001b[0;34m\u001b[0m\u001b[0;34m\u001b[0m\u001b[0m\n\u001b[1;32m     66\u001b[0m                 \u001b[0mwrapped\u001b[0m \u001b[0;34m=\u001b[0m \u001b[0mfunc\u001b[0m\u001b[0;34m.\u001b[0m\u001b[0m__get__\u001b[0m\u001b[0;34m(\u001b[0m\u001b[0minstance\u001b[0m\u001b[0;34m,\u001b[0m \u001b[0mcls\u001b[0m\u001b[0;34m)\u001b[0m\u001b[0;34m\u001b[0m\u001b[0;34m\u001b[0m\u001b[0m\n\u001b[0;32m---> 67\u001b[0;31m                 \u001b[0;32mreturn\u001b[0m \u001b[0mwrapped\u001b[0m\u001b[0;34m(\u001b[0m\u001b[0;34m*\u001b[0m\u001b[0margs\u001b[0m\u001b[0;34m,\u001b[0m \u001b[0;34m**\u001b[0m\u001b[0mkwargs\u001b[0m\u001b[0;34m)\u001b[0m\u001b[0;34m\u001b[0m\u001b[0;34m\u001b[0m\u001b[0m\n\u001b[0m\u001b[1;32m     68\u001b[0m \u001b[0;34m\u001b[0m\u001b[0m\n\u001b[1;32m     69\u001b[0m             \u001b[0;31m# Note that the returned function here is no longer a bound method,\u001b[0m\u001b[0;34m\u001b[0m\u001b[0;34m\u001b[0m\u001b[0;34m\u001b[0m\u001b[0m\n",
      "\u001b[0;32m~/miniconda3/lib/python3.7/site-packages/torch/autograd/grad_mode.py\u001b[0m in \u001b[0;36mdecorate_context\u001b[0;34m(*args, **kwargs)\u001b[0m\n\u001b[1;32m     13\u001b[0m         \u001b[0;32mdef\u001b[0m \u001b[0mdecorate_context\u001b[0m\u001b[0;34m(\u001b[0m\u001b[0;34m*\u001b[0m\u001b[0margs\u001b[0m\u001b[0;34m,\u001b[0m \u001b[0;34m**\u001b[0m\u001b[0mkwargs\u001b[0m\u001b[0;34m)\u001b[0m\u001b[0;34m:\u001b[0m\u001b[0;34m\u001b[0m\u001b[0;34m\u001b[0m\u001b[0m\n\u001b[1;32m     14\u001b[0m             \u001b[0;32mwith\u001b[0m \u001b[0mself\u001b[0m\u001b[0;34m:\u001b[0m\u001b[0;34m\u001b[0m\u001b[0;34m\u001b[0m\u001b[0m\n\u001b[0;32m---> 15\u001b[0;31m                 \u001b[0;32mreturn\u001b[0m \u001b[0mfunc\u001b[0m\u001b[0;34m(\u001b[0m\u001b[0;34m*\u001b[0m\u001b[0margs\u001b[0m\u001b[0;34m,\u001b[0m \u001b[0;34m**\u001b[0m\u001b[0mkwargs\u001b[0m\u001b[0;34m)\u001b[0m\u001b[0;34m\u001b[0m\u001b[0;34m\u001b[0m\u001b[0m\n\u001b[0m\u001b[1;32m     16\u001b[0m         \u001b[0;32mreturn\u001b[0m \u001b[0mdecorate_context\u001b[0m\u001b[0;34m\u001b[0m\u001b[0;34m\u001b[0m\u001b[0m\n\u001b[1;32m     17\u001b[0m \u001b[0;34m\u001b[0m\u001b[0m\n",
      "\u001b[0;32m~/miniconda3/lib/python3.7/site-packages/torch/optim/sgd.py\u001b[0m in \u001b[0;36mstep\u001b[0;34m(self, closure)\u001b[0m\n\u001b[1;32m    104\u001b[0m                     \u001b[0;32melse\u001b[0m\u001b[0;34m:\u001b[0m\u001b[0;34m\u001b[0m\u001b[0;34m\u001b[0m\u001b[0m\n\u001b[1;32m    105\u001b[0m                         \u001b[0mbuf\u001b[0m \u001b[0;34m=\u001b[0m \u001b[0mparam_state\u001b[0m\u001b[0;34m[\u001b[0m\u001b[0;34m'momentum_buffer'\u001b[0m\u001b[0;34m]\u001b[0m\u001b[0;34m\u001b[0m\u001b[0;34m\u001b[0m\u001b[0m\n\u001b[0;32m--> 106\u001b[0;31m                         \u001b[0mbuf\u001b[0m\u001b[0;34m.\u001b[0m\u001b[0mmul_\u001b[0m\u001b[0;34m(\u001b[0m\u001b[0mmomentum\u001b[0m\u001b[0;34m)\u001b[0m\u001b[0;34m.\u001b[0m\u001b[0madd_\u001b[0m\u001b[0;34m(\u001b[0m\u001b[0md_p\u001b[0m\u001b[0;34m,\u001b[0m \u001b[0malpha\u001b[0m\u001b[0;34m=\u001b[0m\u001b[0;36m1\u001b[0m \u001b[0;34m-\u001b[0m \u001b[0mdampening\u001b[0m\u001b[0;34m)\u001b[0m\u001b[0;34m\u001b[0m\u001b[0;34m\u001b[0m\u001b[0m\n\u001b[0m\u001b[1;32m    107\u001b[0m                     \u001b[0;32mif\u001b[0m \u001b[0mnesterov\u001b[0m\u001b[0;34m:\u001b[0m\u001b[0;34m\u001b[0m\u001b[0;34m\u001b[0m\u001b[0m\n\u001b[1;32m    108\u001b[0m                         \u001b[0md_p\u001b[0m \u001b[0;34m=\u001b[0m \u001b[0md_p\u001b[0m\u001b[0;34m.\u001b[0m\u001b[0madd\u001b[0m\u001b[0;34m(\u001b[0m\u001b[0mbuf\u001b[0m\u001b[0;34m,\u001b[0m \u001b[0malpha\u001b[0m\u001b[0;34m=\u001b[0m\u001b[0mmomentum\u001b[0m\u001b[0;34m)\u001b[0m\u001b[0;34m\u001b[0m\u001b[0;34m\u001b[0m\u001b[0m\n",
      "\u001b[0;31mKeyboardInterrupt\u001b[0m: "
     ]
    }
   ],
   "source": [
    "classes = pd.read_csv('/media/aous/Samsung_T5/classes.csv')\n",
    "\n",
    "\n",
    "Lr = [1e-5, 1e-4]\n",
    "Alpha = [0, 1, 3]\n",
    "Gamma = [0.5, 2]\n",
    "Perc = [0.3, 0.5]\n",
    "Num_max = 1500\n",
    "\n",
    "\n",
    "Results = np.zeros((2, 3, 2, 2, 3, 2))\n",
    "best_result = 0\n",
    "best_comb = (0, 0, 0)\n",
    "\n",
    "for i1, lr in enumerate(Lr):\n",
    "    for i2, a in enumerate(Alpha):\n",
    "        for i3, gm in enumerate(Gamma):\n",
    "            for i4, perc in enumerate(Perc):\n",
    "                print(lr, a, gm, perc)\n",
    "                L = list(classes[classes.central_pe == 1]['slice'].unique())[:int((1-perc)*Num_max/3.0)]\n",
    "                print(len(L))\n",
    "                L += list(classes[classes.rightsided_pe == 1]['slice'].unique())[:int((1-perc)*Num_max/3.0)]\n",
    "                L += list(classes[classes.PE == 1][classes.rightsided_pe == 0][classes.central_pe == 0]['slice'].unique())[:int((1-perc)*Num_max/3.0)]\n",
    "                Negative_Exams = classes[classes.PE == 0]['slice'].unique()\n",
    "                np.random.shuffle(Negative_Exams)\n",
    "                L += list(Negative_Exams)[:int(Num_max*perc)]\n",
    "                print(len(L))\n",
    "\n",
    "                np.random.shuffle(L)\n",
    "                new_traindf = traindf[traindf.slice.isin(L)].reset_index().drop(['index'], axis = 1)\n",
    "                train_dataset = PE_dataset(new_traindf, augment = True, window = 48)\n",
    "                test_dataset = PE_dataset(testdf[:20000], augment = False, window = 48)\n",
    "                train_loader = torch.utils.data.DataLoader(train_dataset, batch_size = 4, num_workers = 4)\n",
    "                test_loader = torch.utils.data.DataLoader(test_dataset, batch_size = 2, num_workers = 4)\n",
    "                \n",
    "                if a == 0:\n",
    "                    if gm == 0.5:\n",
    "                        criterion1 = nn.BCELoss()\n",
    "                    else:\n",
    "                        continue\n",
    "                else:\n",
    "                    criterion1 = FocalLoss(alpha = a, gamma = gm)\n",
    "                \n",
    "                criterion2 = nn.CrossEntropyLoss()\n",
    "                learning_rate = lr\n",
    "                net = peNet(7)\n",
    "                net.load_state_dict(torch.load('PEnet_49_40.pth'))\n",
    "                #net = nn.DataParallel(net)\n",
    "                optimizer = torch.optim.SGD(net.parameters(), lr=learning_rate, momentum = 0.9, dampening=0.9, weight_decay=1e-3) \n",
    "                scheduler = torch.optim.lr_scheduler.CosineAnnealingLR(optimizer, T_max = 8, eta_min=0, last_epoch=-1)\n",
    "                train(net, optimizer, train_loader, criterion1, criterion2, alpha = 1,  n_epoch = 2, visualize =True,\n",
    "                                  cuda = True,  train_acc_period = 50, scheduler = scheduler, detection = True)\n",
    "                result = evaluate(net, test_loader)\n",
    "\n",
    "                #pe\n",
    "                Results[i1][i2][i3][i4][0][0] = result[0][1]\n",
    "                Results[i1][i2][i3][i4][0][1] = result[0][2]\n",
    "                #central\n",
    "                Results[i1][i2][i3][i4][1][0] = result[1][1]\n",
    "                Results[i1][i2][i3][i4][1][1] = result[1][2]\n",
    "                #right\n",
    "                Results[i1][i2][i3][i4][2][0] = result[2][1]\n",
    "                Results[i1][i2][i3][i4][2][1] = result[2][2]\n",
    "                #left\n",
    "                #Results[i1][i2][i3][i4][3][0] = result[3][1]\n",
    "                #Results[i1][i2][i3][i4][3][1] = result[3][2]\n",
    "                #chronic\n",
    "                #Results[i1][i2][i3][4][0] = result[4]\n",
    "\n",
    "                score = 0.2*result[0][2] + 0.3*result[1][2] + 0.5*result[2][2]\n",
    "                print(score)\n",
    "                if score > best_result:\n",
    "                    best_result = score\n",
    "                    best_comb = (lr, a, gm, perc)"
   ]
  },
  {
   "cell_type": "code",
   "execution_count": 13,
   "metadata": {},
   "outputs": [
    {
     "data": {
      "text/plain": [
       "(1e-05, 1, 2, 0.3)"
      ]
     },
     "execution_count": 13,
     "metadata": {},
     "output_type": "execute_result"
    }
   ],
   "source": [
    "best_comb"
   ]
  },
  {
   "cell_type": "code",
   "execution_count": 14,
   "metadata": {},
   "outputs": [
    {
     "data": {
      "text/plain": [
       "array([[[[[[0.16431917, 0.27885855],\n",
       "           [0.04166658, 0.07140383],\n",
       "           [0.        , 0.        ]],\n",
       "\n",
       "          [[0.09134613, 0.16738547],\n",
       "           [0.21428418, 0.27267852],\n",
       "           [0.04271356, 0.07868917]]],\n",
       "\n",
       "\n",
       "         [[[0.        , 0.        ],\n",
       "           [0.        , 0.        ],\n",
       "           [0.        , 0.        ]],\n",
       "\n",
       "          [[0.        , 0.        ],\n",
       "           [0.        , 0.        ],\n",
       "           [0.        , 0.        ]]]],\n",
       "\n",
       "\n",
       "\n",
       "        [[[[0.16055039, 0.27341201],\n",
       "           [0.06249987, 0.10711799],\n",
       "           [0.        , 0.        ]],\n",
       "\n",
       "          [[0.22137388, 0.34316   ],\n",
       "           [0.12499922, 0.16662085],\n",
       "           [0.        , 0.        ]]],\n",
       "\n",
       "\n",
       "         [[[0.18787867, 0.30538799],\n",
       "           [0.08333299, 0.12496173],\n",
       "           [0.3170724 , 0.34661618]],\n",
       "\n",
       "          [[0.22058807, 0.34479305],\n",
       "           [0.09523764, 0.13789014],\n",
       "           [0.        , 0.        ]]]],\n",
       "\n",
       "\n",
       "\n",
       "        [[[[0.17021268, 0.28315762],\n",
       "           [0.13333244, 0.17386617],\n",
       "           [0.        , 0.        ]],\n",
       "\n",
       "          [[0.20689641, 0.32783559],\n",
       "           [0.18181653, 0.21047536],\n",
       "           [0.        , 0.        ]]],\n",
       "\n",
       "\n",
       "         [[[0.07786884, 0.14447323],\n",
       "           [0.        , 0.        ],\n",
       "           [0.        , 0.        ]],\n",
       "\n",
       "          [[0.15104159, 0.25214611],\n",
       "           [0.        , 0.        ],\n",
       "           [0.        , 0.        ]]]]],\n",
       "\n",
       "\n",
       "\n",
       "\n",
       "       [[[[[0.15865377, 0.26826635],\n",
       "           [0.        , 0.        ],\n",
       "           [0.        , 0.        ]],\n",
       "\n",
       "          [[0.17514114, 0.28834273],\n",
       "           [0.        , 0.        ],\n",
       "           [0.        , 0.        ]]],\n",
       "\n",
       "\n",
       "         [[[0.        , 0.        ],\n",
       "           [0.        , 0.        ],\n",
       "           [0.        , 0.        ]],\n",
       "\n",
       "          [[0.        , 0.        ],\n",
       "           [0.        , 0.        ],\n",
       "           [0.        , 0.        ]]]],\n",
       "\n",
       "\n",
       "\n",
       "        [[[[0.16513754, 0.2812245 ],\n",
       "           [0.        , 0.        ],\n",
       "           [0.        , 0.        ]],\n",
       "\n",
       "          [[0.        , 0.        ],\n",
       "           [0.        , 0.        ],\n",
       "           [0.        , 0.        ]]],\n",
       "\n",
       "\n",
       "         [[[0.        , 0.        ],\n",
       "           [0.        , 0.        ],\n",
       "           [0.        , 0.        ]],\n",
       "\n",
       "          [[0.        , 0.        ],\n",
       "           [0.        , 0.        ],\n",
       "           [0.        , 0.        ]]]],\n",
       "\n",
       "\n",
       "\n",
       "        [[[[0.        , 0.        ],\n",
       "           [0.        , 0.        ],\n",
       "           [0.        , 0.        ]],\n",
       "\n",
       "          [[0.        , 0.        ],\n",
       "           [0.        , 0.        ],\n",
       "           [0.        , 0.        ]]],\n",
       "\n",
       "\n",
       "         [[[0.        , 0.        ],\n",
       "           [0.        , 0.        ],\n",
       "           [0.        , 0.        ]],\n",
       "\n",
       "          [[0.        , 0.        ],\n",
       "           [0.        , 0.        ],\n",
       "           [0.        , 0.        ]]]]]])"
      ]
     },
     "execution_count": 14,
     "metadata": {},
     "output_type": "execute_result"
    }
   ],
   "source": [
    "Results"
   ]
  },
  {
   "cell_type": "code",
   "execution_count": 37,
   "metadata": {},
   "outputs": [
    {
     "data": {
      "text/plain": [
       "0.29162901597046875"
      ]
     },
     "execution_count": 37,
     "metadata": {},
     "output_type": "execute_result"
    }
   ],
   "source": [
    "best_result"
   ]
  },
  {
   "cell_type": "code",
   "execution_count": 39,
   "metadata": {},
   "outputs": [
    {
     "data": {
      "text/plain": [
       "(0.0001, 8, 0.5)"
      ]
     },
     "execution_count": 39,
     "metadata": {},
     "output_type": "execute_result"
    }
   ],
   "source": [
    "best_comb"
   ]
  },
  {
   "cell_type": "code",
   "execution_count": 38,
   "metadata": {},
   "outputs": [
    {
     "data": {
      "text/plain": [
       "array([[[[[5.93471634e-03, 9.75102222e-03],\n",
       "          [0.00000000e+00, 0.00000000e+00],\n",
       "          [0.00000000e+00, 0.00000000e+00],\n",
       "          [0.00000000e+00, 0.00000000e+00],\n",
       "          [9.83783784e-01, 2.00657166e-01]],\n",
       "\n",
       "         [[1.07526766e-02, 1.20722062e-02],\n",
       "          [0.00000000e+00, 0.00000000e+00],\n",
       "          [0.00000000e+00, 0.00000000e+00],\n",
       "          [0.00000000e+00, 0.00000000e+00],\n",
       "          [9.83783784e-01, 2.01585639e-01]],\n",
       "\n",
       "         [[0.00000000e+00, 0.00000000e+00],\n",
       "          [0.00000000e+00, 0.00000000e+00],\n",
       "          [0.00000000e+00, 0.00000000e+00],\n",
       "          [0.00000000e+00, 0.00000000e+00],\n",
       "          [1.54440154e-03, 3.08880309e-04]]],\n",
       "\n",
       "\n",
       "        [[[2.60869338e-02, 3.20382407e-02],\n",
       "          [0.00000000e+00, 0.00000000e+00],\n",
       "          [1.26582118e-02, 1.42366891e-02],\n",
       "          [0.00000000e+00, 0.00000000e+00],\n",
       "          [9.83783784e-01, 2.10995722e-01]],\n",
       "\n",
       "         [[0.00000000e+00, 0.00000000e+00],\n",
       "          [0.00000000e+00, 0.00000000e+00],\n",
       "          [0.00000000e+00, 0.00000000e+00],\n",
       "          [0.00000000e+00, 0.00000000e+00],\n",
       "          [6.33204633e-01, 1.26640927e-01]],\n",
       "\n",
       "         [[0.00000000e+00, 0.00000000e+00],\n",
       "          [0.00000000e+00, 0.00000000e+00],\n",
       "          [0.00000000e+00, 0.00000000e+00],\n",
       "          [0.00000000e+00, 0.00000000e+00],\n",
       "          [9.83783784e-01, 1.96756757e-01]]],\n",
       "\n",
       "\n",
       "        [[[0.00000000e+00, 0.00000000e+00],\n",
       "          [0.00000000e+00, 0.00000000e+00],\n",
       "          [1.31578774e-02, 1.45492848e-02],\n",
       "          [0.00000000e+00, 0.00000000e+00],\n",
       "          [9.83783784e-01, 1.98211685e-01]],\n",
       "\n",
       "         [[6.66666473e-02, 1.10283135e-01],\n",
       "          [0.00000000e+00, 0.00000000e+00],\n",
       "          [0.00000000e+00, 0.00000000e+00],\n",
       "          [0.00000000e+00, 0.00000000e+00],\n",
       "          [9.83783784e-01, 2.40870011e-01]],\n",
       "\n",
       "         [[8.18583890e-02, 1.41197619e-01],\n",
       "          [0.00000000e+00, 0.00000000e+00],\n",
       "          [4.09835730e-02, 5.46003407e-02],\n",
       "          [2.45901438e-02, 3.50468380e-02],\n",
       "          [9.83783784e-01, 2.62200522e-01]]]],\n",
       "\n",
       "\n",
       "\n",
       "       [[[[0.00000000e+00, 0.00000000e+00],\n",
       "          [0.00000000e+00, 0.00000000e+00],\n",
       "          [0.00000000e+00, 0.00000000e+00],\n",
       "          [0.00000000e+00, 0.00000000e+00],\n",
       "          [9.83783784e-01, 1.96756757e-01]],\n",
       "\n",
       "         [[0.00000000e+00, 0.00000000e+00],\n",
       "          [0.00000000e+00, 0.00000000e+00],\n",
       "          [0.00000000e+00, 0.00000000e+00],\n",
       "          [0.00000000e+00, 0.00000000e+00],\n",
       "          [9.83783784e-01, 1.96756757e-01]],\n",
       "\n",
       "         [[0.00000000e+00, 0.00000000e+00],\n",
       "          [0.00000000e+00, 0.00000000e+00],\n",
       "          [0.00000000e+00, 0.00000000e+00],\n",
       "          [0.00000000e+00, 0.00000000e+00],\n",
       "          [2.00772201e-02, 4.01544402e-03]]],\n",
       "\n",
       "\n",
       "        [[[0.00000000e+00, 0.00000000e+00],\n",
       "          [0.00000000e+00, 0.00000000e+00],\n",
       "          [0.00000000e+00, 0.00000000e+00],\n",
       "          [0.00000000e+00, 0.00000000e+00],\n",
       "          [9.83783784e-01, 1.96756757e-01]],\n",
       "\n",
       "         [[0.00000000e+00, 0.00000000e+00],\n",
       "          [0.00000000e+00, 0.00000000e+00],\n",
       "          [0.00000000e+00, 0.00000000e+00],\n",
       "          [0.00000000e+00, 0.00000000e+00],\n",
       "          [9.83783784e-01, 1.96756757e-01]],\n",
       "\n",
       "         [[5.55984513e-02, 1.05330167e-01],\n",
       "          [1.46718135e-02, 2.89164760e-02],\n",
       "          [0.00000000e+00, 0.00000000e+00],\n",
       "          [0.00000000e+00, 0.00000000e+00],\n",
       "          [9.83783784e-01, 2.44672119e-01]]],\n",
       "\n",
       "\n",
       "        [[[0.00000000e+00, 0.00000000e+00],\n",
       "          [0.00000000e+00, 0.00000000e+00],\n",
       "          [0.00000000e+00, 0.00000000e+00],\n",
       "          [0.00000000e+00, 0.00000000e+00],\n",
       "          [9.83783784e-01, 1.96756757e-01]],\n",
       "\n",
       "         [[9.43396029e-02, 1.63911580e-01],\n",
       "          [0.00000000e+00, 0.00000000e+00],\n",
       "          [8.86426347e-02, 1.51633969e-01],\n",
       "          [8.03323877e-02, 1.41442303e-01],\n",
       "          [9.83783784e-01, 2.91629016e-01]],\n",
       "\n",
       "         [[9.34891330e-02, 1.66895847e-01],\n",
       "          [0.00000000e+00, 0.00000000e+00],\n",
       "          [7.89473524e-02, 1.40520927e-01],\n",
       "          [6.47773148e-02, 1.17847260e-01],\n",
       "          [9.83783784e-01, 2.89351914e-01]]]],\n",
       "\n",
       "\n",
       "\n",
       "       [[[[0.00000000e+00, 0.00000000e+00],\n",
       "          [0.00000000e+00, 0.00000000e+00],\n",
       "          [0.00000000e+00, 0.00000000e+00],\n",
       "          [0.00000000e+00, 0.00000000e+00],\n",
       "          [0.00000000e+00, 0.00000000e+00]],\n",
       "\n",
       "         [[0.00000000e+00, 0.00000000e+00],\n",
       "          [0.00000000e+00, 0.00000000e+00],\n",
       "          [0.00000000e+00, 0.00000000e+00],\n",
       "          [0.00000000e+00, 0.00000000e+00],\n",
       "          [0.00000000e+00, 0.00000000e+00]],\n",
       "\n",
       "         [[0.00000000e+00, 0.00000000e+00],\n",
       "          [0.00000000e+00, 0.00000000e+00],\n",
       "          [0.00000000e+00, 0.00000000e+00],\n",
       "          [0.00000000e+00, 0.00000000e+00],\n",
       "          [0.00000000e+00, 0.00000000e+00]]],\n",
       "\n",
       "\n",
       "        [[[0.00000000e+00, 0.00000000e+00],\n",
       "          [0.00000000e+00, 0.00000000e+00],\n",
       "          [0.00000000e+00, 0.00000000e+00],\n",
       "          [0.00000000e+00, 0.00000000e+00],\n",
       "          [0.00000000e+00, 0.00000000e+00]],\n",
       "\n",
       "         [[0.00000000e+00, 0.00000000e+00],\n",
       "          [0.00000000e+00, 0.00000000e+00],\n",
       "          [0.00000000e+00, 0.00000000e+00],\n",
       "          [0.00000000e+00, 0.00000000e+00],\n",
       "          [0.00000000e+00, 0.00000000e+00]],\n",
       "\n",
       "         [[0.00000000e+00, 0.00000000e+00],\n",
       "          [0.00000000e+00, 0.00000000e+00],\n",
       "          [0.00000000e+00, 0.00000000e+00],\n",
       "          [0.00000000e+00, 0.00000000e+00],\n",
       "          [0.00000000e+00, 0.00000000e+00]]],\n",
       "\n",
       "\n",
       "        [[[0.00000000e+00, 0.00000000e+00],\n",
       "          [0.00000000e+00, 0.00000000e+00],\n",
       "          [0.00000000e+00, 0.00000000e+00],\n",
       "          [0.00000000e+00, 0.00000000e+00],\n",
       "          [0.00000000e+00, 0.00000000e+00]],\n",
       "\n",
       "         [[0.00000000e+00, 0.00000000e+00],\n",
       "          [0.00000000e+00, 0.00000000e+00],\n",
       "          [0.00000000e+00, 0.00000000e+00],\n",
       "          [0.00000000e+00, 0.00000000e+00],\n",
       "          [0.00000000e+00, 0.00000000e+00]],\n",
       "\n",
       "         [[0.00000000e+00, 0.00000000e+00],\n",
       "          [0.00000000e+00, 0.00000000e+00],\n",
       "          [0.00000000e+00, 0.00000000e+00],\n",
       "          [0.00000000e+00, 0.00000000e+00],\n",
       "          [0.00000000e+00, 0.00000000e+00]]]]])"
      ]
     },
     "execution_count": 38,
     "metadata": {},
     "output_type": "execute_result"
    }
   ],
   "source": [
    "Results"
   ]
  },
  {
   "cell_type": "code",
   "execution_count": 13,
   "metadata": {},
   "outputs": [],
   "source": [
    "def resnet_3d(num_classes):\n",
    "    net = torchvision.models.video.r3d_18(pretrained=True, progress=True)\n",
    "    net.fc = nn.Linear(512, 1)\n",
    "    return(net)"
   ]
  },
  {
   "cell_type": "code",
   "execution_count": 13,
   "metadata": {
    "scrolled": true
   },
   "outputs": [
    {
     "name": "stdout",
     "output_type": "stream",
     "text": [
      "1000 1000\n",
      "env: CUDA_LAUNCH_BLOCKING=1\n"
     ]
    },
    {
     "data": {
      "application/vnd.jupyter.widget-view+json": {
       "model_id": "6e09e497c2f34bca80a492f652d21f13",
       "version_major": 2,
       "version_minor": 0
      },
      "text/plain": [
       "HBox(children=(FloatProgress(value=0.0, max=4.0), HTML(value='')))"
      ]
     },
     "metadata": {},
     "output_type": "display_data"
    },
    {
     "data": {
      "application/vnd.jupyter.widget-view+json": {
       "model_id": "09b8fc3933824c6a8add3233aecab5a5",
       "version_major": 2,
       "version_minor": 0
      },
      "text/plain": [
       "HBox(children=(FloatProgress(value=1.0, bar_style='info', max=1.0), HTML(value='')))"
      ]
     },
     "metadata": {},
     "output_type": "display_data"
    },
    {
     "name": "stdout",
     "output_type": "stream",
     "text": [
      "[1,    50] loss: 0.156\n",
      "[1,    50] acc: 0.571\n",
      "[1,   100] loss: 0.163\n",
      "[1,   100] acc: 0.496\n",
      "[1,   150] loss: 0.155\n",
      "[1,   150] acc: 0.632\n",
      "[1,   200] loss: 0.155\n",
      "[1,   200] acc: 0.759\n",
      "[1,   250] loss: 0.147\n",
      "[1,   250] acc: 0.638\n",
      "[1,   300] loss: 0.147\n",
      "[1,   300] acc: 0.635\n",
      "[1,   350] loss: 0.162\n",
      "[1,   350] acc: 0.559\n",
      "[1,   400] loss: 0.148\n",
      "[1,   400] acc: 0.655\n",
      "[1,   450] loss: 0.151\n",
      "[1,   450] acc: 0.584\n",
      "\n"
     ]
    },
    {
     "data": {
      "application/vnd.jupyter.widget-view+json": {
       "model_id": "dd8fc2e9bba24494b16f9eb3c4a46474",
       "version_major": 2,
       "version_minor": 0
      },
      "text/plain": [
       "HBox(children=(FloatProgress(value=1.0, bar_style='info', max=1.0), HTML(value='')))"
      ]
     },
     "metadata": {},
     "output_type": "display_data"
    },
    {
     "name": "stdout",
     "output_type": "stream",
     "text": [
      "[2,    50] loss: 0.146\n",
      "[2,    50] acc: 0.624\n",
      "[2,   100] loss: 0.131\n",
      "[2,   100] acc: 0.783\n",
      "[2,   150] loss: 0.113\n",
      "[2,   150] acc: 0.758\n",
      "[2,   200] loss: 0.121\n",
      "[2,   200] acc: 0.768\n",
      "[2,   250] loss: 0.111\n",
      "[2,   250] acc: 0.777\n",
      "[2,   300] loss: 0.137\n",
      "[2,   300] acc: 0.722\n",
      "[2,   350] loss: 0.168\n",
      "[2,   350] acc: 0.615\n",
      "[2,   400] loss: 0.129\n",
      "[2,   400] acc: 0.673\n",
      "[2,   450] loss: 0.144\n",
      "[2,   450] acc: 0.597\n",
      "\n"
     ]
    },
    {
     "data": {
      "application/vnd.jupyter.widget-view+json": {
       "model_id": "12fd9d32ae70491e968c10523664ab15",
       "version_major": 2,
       "version_minor": 0
      },
      "text/plain": [
       "HBox(children=(FloatProgress(value=1.0, bar_style='info', max=1.0), HTML(value='')))"
      ]
     },
     "metadata": {},
     "output_type": "display_data"
    },
    {
     "name": "stdout",
     "output_type": "stream",
     "text": [
      "[3,    50] loss: 0.145\n",
      "[3,    50] acc: 0.624\n",
      "[3,   100] loss: 0.116\n",
      "[3,   100] acc: 0.783\n",
      "[3,   150] loss: 0.105\n",
      "[3,   150] acc: 0.770\n",
      "[3,   200] loss: 0.104\n",
      "[3,   200] acc: 0.777\n",
      "[3,   250] loss: 0.100\n",
      "[3,   250] acc: 0.777\n",
      "[3,   300] loss: 0.113\n",
      "[3,   300] acc: 0.722\n",
      "[3,   350] loss: 0.126\n",
      "[3,   350] acc: 0.601\n",
      "[3,   400] loss: 0.117\n",
      "[3,   400] acc: 0.722\n",
      "[3,   450] loss: 0.144\n",
      "[3,   450] acc: 0.629\n",
      "\n"
     ]
    },
    {
     "data": {
      "application/vnd.jupyter.widget-view+json": {
       "model_id": "302ecdc6b13e47918535f52f8cb8a068",
       "version_major": 2,
       "version_minor": 0
      },
      "text/plain": [
       "HBox(children=(FloatProgress(value=1.0, bar_style='info', max=1.0), HTML(value='')))"
      ]
     },
     "metadata": {},
     "output_type": "display_data"
    },
    {
     "name": "stdout",
     "output_type": "stream",
     "text": [
      "[4,    50] loss: 0.714\n",
      "[4,    50] acc: 0.626\n",
      "[4,   100] loss: 0.089\n",
      "[4,   100] acc: 0.782\n",
      "[4,   150] loss: 0.082\n",
      "[4,   150] acc: 0.770\n",
      "[4,   200] loss: 0.075\n",
      "[4,   200] acc: 0.780\n",
      "[4,   250] loss: 0.071\n",
      "[4,   250] acc: 0.779\n",
      "[4,   300] loss: 0.084\n",
      "[4,   300] acc: 0.777\n",
      "[4,   350] loss: 0.099\n",
      "[4,   350] acc: 0.786\n",
      "[4,   400] loss: 0.131\n",
      "[4,   400] acc: 0.740\n",
      "[4,   450] loss: 0.162\n",
      "[4,   450] acc: 0.377\n",
      "\n",
      "\n",
      "Finished Training\n"
     ]
    },
    {
     "data": {
      "application/vnd.jupyter.widget-view+json": {
       "model_id": "a9a193c94fef42c38704862fc2a51fb9",
       "version_major": 2,
       "version_minor": 0
      },
      "text/plain": [
       "HBox(children=(FloatProgress(value=1.0, bar_style='info', max=1.0), HTML(value='')))"
      ]
     },
     "metadata": {},
     "output_type": "display_data"
    },
    {
     "name": "stdout",
     "output_type": "stream",
     "text": [
      "\n",
      "9 366\n",
      "env: CUDA_LAUNCH_BLOCKING=1\n"
     ]
    },
    {
     "data": {
      "application/vnd.jupyter.widget-view+json": {
       "model_id": "a4a50ed91e9449e48f36103892f99cba",
       "version_major": 2,
       "version_minor": 0
      },
      "text/plain": [
       "HBox(children=(FloatProgress(value=0.0, max=4.0), HTML(value='')))"
      ]
     },
     "metadata": {},
     "output_type": "display_data"
    },
    {
     "data": {
      "application/vnd.jupyter.widget-view+json": {
       "model_id": "5bbaf960b1ef48ea98f45c307fd389ed",
       "version_major": 2,
       "version_minor": 0
      },
      "text/plain": [
       "HBox(children=(FloatProgress(value=1.0, bar_style='info', max=1.0), HTML(value='')))"
      ]
     },
     "metadata": {},
     "output_type": "display_data"
    },
    {
     "name": "stdout",
     "output_type": "stream",
     "text": [
      "[1,    50] loss: 0.158\n",
      "[1,    50] acc: 0.618\n",
      "[1,   100] loss: 0.120\n",
      "[1,   100] acc: 0.707\n",
      "[1,   150] loss: 0.096\n",
      "[1,   150] acc: 0.770\n",
      "[1,   200] loss: 0.073\n",
      "[1,   200] acc: 0.778\n",
      "[1,   250] loss: 0.163\n",
      "[1,   250] acc: 0.425\n",
      "[1,   300] loss: 0.090\n",
      "[1,   300] acc: 0.744\n",
      "[1,   350] loss: 0.268\n",
      "[1,   350] acc: 0.731\n",
      "[1,   400] loss: 0.084\n",
      "[1,   400] acc: 0.806\n",
      "[1,   450] loss: 0.127\n",
      "[1,   450] acc: 0.661\n",
      "\n"
     ]
    },
    {
     "data": {
      "application/vnd.jupyter.widget-view+json": {
       "model_id": "7db2e8c5fce84ddeb0d24fd876951cee",
       "version_major": 2,
       "version_minor": 0
      },
      "text/plain": [
       "HBox(children=(FloatProgress(value=1.0, bar_style='info', max=1.0), HTML(value='')))"
      ]
     },
     "metadata": {},
     "output_type": "display_data"
    },
    {
     "name": "stdout",
     "output_type": "stream",
     "text": [
      "[2,    50] loss: 0.692\n",
      "[2,    50] acc: 0.679\n",
      "[2,   100] loss: 0.246\n",
      "[2,   100] acc: 0.709\n",
      "[2,   150] loss: 1.038\n",
      "[2,   150] acc: 0.821\n",
      "[2,   200] loss: 0.042\n",
      "[2,   200] acc: 0.855\n",
      "[2,   250] loss: 0.092\n",
      "[2,   250] acc: 0.718\n",
      "[2,   300] loss: 11.796\n",
      "[2,   300] acc: 0.453\n",
      "[2,   350] loss: 12.183\n",
      "[2,   350] acc: 0.439\n",
      "[2,   400] loss: 13.786\n",
      "[2,   400] acc: 0.381\n",
      "[2,   450] loss: 11.758\n",
      "[2,   450] acc: 0.455\n",
      "\n"
     ]
    },
    {
     "data": {
      "application/vnd.jupyter.widget-view+json": {
       "model_id": "8b9241cb2a304ceea8f0f8650caba07b",
       "version_major": 2,
       "version_minor": 0
      },
      "text/plain": [
       "HBox(children=(FloatProgress(value=1.0, bar_style='info', max=1.0), HTML(value='')))"
      ]
     },
     "metadata": {},
     "output_type": "display_data"
    },
    {
     "name": "stdout",
     "output_type": "stream",
     "text": [
      "[3,    50] loss: 8.557\n",
      "[3,    50] acc: 0.571\n",
      "[3,   100] loss: 10.467\n",
      "[3,   100] acc: 0.502\n",
      "[3,   150] loss: 10.733\n",
      "[3,   150] acc: 0.492\n",
      "[3,   200] loss: 15.088\n",
      "[3,   200] acc: 0.334\n",
      "[3,   250] loss: 14.512\n",
      "[3,   250] acc: 0.355\n",
      "[3,   300] loss: 11.796\n",
      "[3,   300] acc: 0.453\n",
      "[3,   350] loss: 12.183\n",
      "[3,   350] acc: 0.439\n",
      "[3,   400] loss: 13.786\n",
      "[3,   400] acc: 0.381\n",
      "[3,   450] loss: 11.758\n",
      "[3,   450] acc: 0.455\n",
      "\n"
     ]
    },
    {
     "data": {
      "application/vnd.jupyter.widget-view+json": {
       "model_id": "c676721850bc4a46a58ac63004778310",
       "version_major": 2,
       "version_minor": 0
      },
      "text/plain": [
       "HBox(children=(FloatProgress(value=1.0, bar_style='info', max=1.0), HTML(value='')))"
      ]
     },
     "metadata": {},
     "output_type": "display_data"
    },
    {
     "name": "stdout",
     "output_type": "stream",
     "text": [
      "[4,    50] loss: 8.557\n",
      "[4,    50] acc: 0.571\n",
      "[4,   100] loss: 10.467\n",
      "[4,   100] acc: 0.502\n",
      "[4,   150] loss: 10.733\n",
      "[4,   150] acc: 0.492\n",
      "\n",
      "\n"
     ]
    },
    {
     "ename": "KeyboardInterrupt",
     "evalue": "",
     "output_type": "error",
     "traceback": [
      "\u001b[0;31m---------------------------------------------------------------------------\u001b[0m",
      "\u001b[0;31mKeyboardInterrupt\u001b[0m                         Traceback (most recent call last)",
      "\u001b[0;32m<ipython-input-13-7389eccf63f9>\u001b[0m in \u001b[0;36m<module>\u001b[0;34m\u001b[0m\n\u001b[1;32m     18\u001b[0m     \u001b[0;31m#scheduler = torch.optim.lr_scheduler.CosineAnnealingWarmRestarts(optimizer, T_0 = 2, T_mult=2, eta_min=0, last_epoch=-1)\u001b[0m\u001b[0;34m\u001b[0m\u001b[0;34m\u001b[0m\u001b[0;34m\u001b[0m\u001b[0m\n\u001b[1;32m     19\u001b[0m     train(net, optimizer, train_loader, criterion1, criterion2, alpha = 1,  n_epoch = 4, visualize =True,\n\u001b[0;32m---> 20\u001b[0;31m                       cuda = True,  train_acc_period = 50, scheduler = None, detection = True)\n\u001b[0m\u001b[1;32m     21\u001b[0m     \u001b[0mresult\u001b[0m \u001b[0;34m=\u001b[0m \u001b[0mevaluate\u001b[0m\u001b[0;34m(\u001b[0m\u001b[0mnet\u001b[0m\u001b[0;34m,\u001b[0m \u001b[0mtest_loader\u001b[0m\u001b[0;34m)\u001b[0m\u001b[0;34m\u001b[0m\u001b[0;34m\u001b[0m\u001b[0m\n\u001b[1;32m     22\u001b[0m     \u001b[0mloss\u001b[0m\u001b[0;34m.\u001b[0m\u001b[0mappend\u001b[0m\u001b[0;34m(\u001b[0m\u001b[0mresult\u001b[0m\u001b[0;34m[\u001b[0m\u001b[0;36m0\u001b[0m\u001b[0;34m]\u001b[0m\u001b[0;34m)\u001b[0m\u001b[0;34m\u001b[0m\u001b[0;34m\u001b[0m\u001b[0m\n",
      "\u001b[0;32m<ipython-input-7-cacd5a8d0313>\u001b[0m in \u001b[0;36mtrain\u001b[0;34m(net, optimizer, train_loader, criterion1, criterion2, alpha, beta, n_epoch, train_acc_period, test_acc_period, detection, cuda, visualize, scheduler)\u001b[0m\n\u001b[1;32m     22\u001b[0m \u001b[0;34m\u001b[0m\u001b[0m\n\u001b[1;32m     23\u001b[0m             \u001b[0;31m# forward + backward + optimize\u001b[0m\u001b[0;34m\u001b[0m\u001b[0;34m\u001b[0m\u001b[0;34m\u001b[0m\u001b[0m\n\u001b[0;32m---> 24\u001b[0;31m             \u001b[0moutputs\u001b[0m \u001b[0;34m=\u001b[0m \u001b[0mnet\u001b[0m\u001b[0;34m(\u001b[0m\u001b[0minputs\u001b[0m\u001b[0;34m)\u001b[0m\u001b[0;34m\u001b[0m\u001b[0;34m\u001b[0m\u001b[0m\n\u001b[0m\u001b[1;32m     25\u001b[0m             \u001b[0moutputs\u001b[0m \u001b[0;34m=\u001b[0m \u001b[0moutputs\u001b[0m\u001b[0;34m.\u001b[0m\u001b[0mclamp\u001b[0m\u001b[0;34m(\u001b[0m\u001b[0mmin\u001b[0m \u001b[0;34m=\u001b[0m \u001b[0;36m0\u001b[0m\u001b[0;34m,\u001b[0m \u001b[0mmax\u001b[0m \u001b[0;34m=\u001b[0m \u001b[0;36m1\u001b[0m\u001b[0;34m)\u001b[0m\u001b[0;34m\u001b[0m\u001b[0;34m\u001b[0m\u001b[0m\n\u001b[1;32m     26\u001b[0m             \u001b[0mpredicted\u001b[0m \u001b[0;34m=\u001b[0m \u001b[0;34m(\u001b[0m\u001b[0moutputs\u001b[0m\u001b[0;34m>\u001b[0m\u001b[0;36m0.5\u001b[0m\u001b[0;34m)\u001b[0m\u001b[0;34m.\u001b[0m\u001b[0mfloat\u001b[0m\u001b[0;34m(\u001b[0m\u001b[0;34m)\u001b[0m\u001b[0;34m\u001b[0m\u001b[0;34m\u001b[0m\u001b[0m\n",
      "\u001b[0;32m~/miniconda3/lib/python3.7/site-packages/torch/nn/modules/module.py\u001b[0m in \u001b[0;36m__call__\u001b[0;34m(self, *input, **kwargs)\u001b[0m\n\u001b[1;32m    548\u001b[0m             \u001b[0mresult\u001b[0m \u001b[0;34m=\u001b[0m \u001b[0mself\u001b[0m\u001b[0;34m.\u001b[0m\u001b[0m_slow_forward\u001b[0m\u001b[0;34m(\u001b[0m\u001b[0;34m*\u001b[0m\u001b[0minput\u001b[0m\u001b[0;34m,\u001b[0m \u001b[0;34m**\u001b[0m\u001b[0mkwargs\u001b[0m\u001b[0;34m)\u001b[0m\u001b[0;34m\u001b[0m\u001b[0;34m\u001b[0m\u001b[0m\n\u001b[1;32m    549\u001b[0m         \u001b[0;32melse\u001b[0m\u001b[0;34m:\u001b[0m\u001b[0;34m\u001b[0m\u001b[0;34m\u001b[0m\u001b[0m\n\u001b[0;32m--> 550\u001b[0;31m             \u001b[0mresult\u001b[0m \u001b[0;34m=\u001b[0m \u001b[0mself\u001b[0m\u001b[0;34m.\u001b[0m\u001b[0mforward\u001b[0m\u001b[0;34m(\u001b[0m\u001b[0;34m*\u001b[0m\u001b[0minput\u001b[0m\u001b[0;34m,\u001b[0m \u001b[0;34m**\u001b[0m\u001b[0mkwargs\u001b[0m\u001b[0;34m)\u001b[0m\u001b[0;34m\u001b[0m\u001b[0;34m\u001b[0m\u001b[0m\n\u001b[0m\u001b[1;32m    551\u001b[0m         \u001b[0;32mfor\u001b[0m \u001b[0mhook\u001b[0m \u001b[0;32min\u001b[0m \u001b[0mself\u001b[0m\u001b[0;34m.\u001b[0m\u001b[0m_forward_hooks\u001b[0m\u001b[0;34m.\u001b[0m\u001b[0mvalues\u001b[0m\u001b[0;34m(\u001b[0m\u001b[0;34m)\u001b[0m\u001b[0;34m:\u001b[0m\u001b[0;34m\u001b[0m\u001b[0;34m\u001b[0m\u001b[0m\n\u001b[1;32m    552\u001b[0m             \u001b[0mhook_result\u001b[0m \u001b[0;34m=\u001b[0m \u001b[0mhook\u001b[0m\u001b[0;34m(\u001b[0m\u001b[0mself\u001b[0m\u001b[0;34m,\u001b[0m \u001b[0minput\u001b[0m\u001b[0;34m,\u001b[0m \u001b[0mresult\u001b[0m\u001b[0;34m)\u001b[0m\u001b[0;34m\u001b[0m\u001b[0;34m\u001b[0m\u001b[0m\n",
      "\u001b[0;32m~/miniconda3/lib/python3.7/site-packages/torch/nn/parallel/data_parallel.py\u001b[0m in \u001b[0;36mforward\u001b[0;34m(self, *inputs, **kwargs)\u001b[0m\n\u001b[1;32m    151\u001b[0m         \u001b[0minputs\u001b[0m\u001b[0;34m,\u001b[0m \u001b[0mkwargs\u001b[0m \u001b[0;34m=\u001b[0m \u001b[0mself\u001b[0m\u001b[0;34m.\u001b[0m\u001b[0mscatter\u001b[0m\u001b[0;34m(\u001b[0m\u001b[0minputs\u001b[0m\u001b[0;34m,\u001b[0m \u001b[0mkwargs\u001b[0m\u001b[0;34m,\u001b[0m \u001b[0mself\u001b[0m\u001b[0;34m.\u001b[0m\u001b[0mdevice_ids\u001b[0m\u001b[0;34m)\u001b[0m\u001b[0;34m\u001b[0m\u001b[0;34m\u001b[0m\u001b[0m\n\u001b[1;32m    152\u001b[0m         \u001b[0;32mif\u001b[0m \u001b[0mlen\u001b[0m\u001b[0;34m(\u001b[0m\u001b[0mself\u001b[0m\u001b[0;34m.\u001b[0m\u001b[0mdevice_ids\u001b[0m\u001b[0;34m)\u001b[0m \u001b[0;34m==\u001b[0m \u001b[0;36m1\u001b[0m\u001b[0;34m:\u001b[0m\u001b[0;34m\u001b[0m\u001b[0;34m\u001b[0m\u001b[0m\n\u001b[0;32m--> 153\u001b[0;31m             \u001b[0;32mreturn\u001b[0m \u001b[0mself\u001b[0m\u001b[0;34m.\u001b[0m\u001b[0mmodule\u001b[0m\u001b[0;34m(\u001b[0m\u001b[0;34m*\u001b[0m\u001b[0minputs\u001b[0m\u001b[0;34m[\u001b[0m\u001b[0;36m0\u001b[0m\u001b[0;34m]\u001b[0m\u001b[0;34m,\u001b[0m \u001b[0;34m**\u001b[0m\u001b[0mkwargs\u001b[0m\u001b[0;34m[\u001b[0m\u001b[0;36m0\u001b[0m\u001b[0;34m]\u001b[0m\u001b[0;34m)\u001b[0m\u001b[0;34m\u001b[0m\u001b[0;34m\u001b[0m\u001b[0m\n\u001b[0m\u001b[1;32m    154\u001b[0m         \u001b[0mreplicas\u001b[0m \u001b[0;34m=\u001b[0m \u001b[0mself\u001b[0m\u001b[0;34m.\u001b[0m\u001b[0mreplicate\u001b[0m\u001b[0;34m(\u001b[0m\u001b[0mself\u001b[0m\u001b[0;34m.\u001b[0m\u001b[0mmodule\u001b[0m\u001b[0;34m,\u001b[0m \u001b[0mself\u001b[0m\u001b[0;34m.\u001b[0m\u001b[0mdevice_ids\u001b[0m\u001b[0;34m[\u001b[0m\u001b[0;34m:\u001b[0m\u001b[0mlen\u001b[0m\u001b[0;34m(\u001b[0m\u001b[0minputs\u001b[0m\u001b[0;34m)\u001b[0m\u001b[0;34m]\u001b[0m\u001b[0;34m)\u001b[0m\u001b[0;34m\u001b[0m\u001b[0;34m\u001b[0m\u001b[0m\n\u001b[1;32m    155\u001b[0m         \u001b[0moutputs\u001b[0m \u001b[0;34m=\u001b[0m \u001b[0mself\u001b[0m\u001b[0;34m.\u001b[0m\u001b[0mparallel_apply\u001b[0m\u001b[0;34m(\u001b[0m\u001b[0mreplicas\u001b[0m\u001b[0;34m,\u001b[0m \u001b[0minputs\u001b[0m\u001b[0;34m,\u001b[0m \u001b[0mkwargs\u001b[0m\u001b[0;34m)\u001b[0m\u001b[0;34m\u001b[0m\u001b[0;34m\u001b[0m\u001b[0m\n",
      "\u001b[0;32m~/miniconda3/lib/python3.7/site-packages/torch/nn/modules/module.py\u001b[0m in \u001b[0;36m__call__\u001b[0;34m(self, *input, **kwargs)\u001b[0m\n\u001b[1;32m    548\u001b[0m             \u001b[0mresult\u001b[0m \u001b[0;34m=\u001b[0m \u001b[0mself\u001b[0m\u001b[0;34m.\u001b[0m\u001b[0m_slow_forward\u001b[0m\u001b[0;34m(\u001b[0m\u001b[0;34m*\u001b[0m\u001b[0minput\u001b[0m\u001b[0;34m,\u001b[0m \u001b[0;34m**\u001b[0m\u001b[0mkwargs\u001b[0m\u001b[0;34m)\u001b[0m\u001b[0;34m\u001b[0m\u001b[0;34m\u001b[0m\u001b[0m\n\u001b[1;32m    549\u001b[0m         \u001b[0;32melse\u001b[0m\u001b[0;34m:\u001b[0m\u001b[0;34m\u001b[0m\u001b[0;34m\u001b[0m\u001b[0m\n\u001b[0;32m--> 550\u001b[0;31m             \u001b[0mresult\u001b[0m \u001b[0;34m=\u001b[0m \u001b[0mself\u001b[0m\u001b[0;34m.\u001b[0m\u001b[0mforward\u001b[0m\u001b[0;34m(\u001b[0m\u001b[0;34m*\u001b[0m\u001b[0minput\u001b[0m\u001b[0;34m,\u001b[0m \u001b[0;34m**\u001b[0m\u001b[0mkwargs\u001b[0m\u001b[0;34m)\u001b[0m\u001b[0;34m\u001b[0m\u001b[0;34m\u001b[0m\u001b[0m\n\u001b[0m\u001b[1;32m    551\u001b[0m         \u001b[0;32mfor\u001b[0m \u001b[0mhook\u001b[0m \u001b[0;32min\u001b[0m \u001b[0mself\u001b[0m\u001b[0;34m.\u001b[0m\u001b[0m_forward_hooks\u001b[0m\u001b[0;34m.\u001b[0m\u001b[0mvalues\u001b[0m\u001b[0;34m(\u001b[0m\u001b[0;34m)\u001b[0m\u001b[0;34m:\u001b[0m\u001b[0;34m\u001b[0m\u001b[0;34m\u001b[0m\u001b[0m\n\u001b[1;32m    552\u001b[0m             \u001b[0mhook_result\u001b[0m \u001b[0;34m=\u001b[0m \u001b[0mhook\u001b[0m\u001b[0;34m(\u001b[0m\u001b[0mself\u001b[0m\u001b[0;34m,\u001b[0m \u001b[0minput\u001b[0m\u001b[0;34m,\u001b[0m \u001b[0mresult\u001b[0m\u001b[0;34m)\u001b[0m\u001b[0;34m\u001b[0m\u001b[0;34m\u001b[0m\u001b[0m\n",
      "\u001b[0;32m<ipython-input-2-25f094921827>\u001b[0m in \u001b[0;36mforward\u001b[0;34m(self, x)\u001b[0m\n\u001b[1;32m     86\u001b[0m         \u001b[0;31m# Encoders\u001b[0m\u001b[0;34m\u001b[0m\u001b[0;34m\u001b[0m\u001b[0;34m\u001b[0m\u001b[0m\n\u001b[1;32m     87\u001b[0m         \u001b[0;32mfor\u001b[0m \u001b[0mencoder\u001b[0m \u001b[0;32min\u001b[0m \u001b[0mself\u001b[0m\u001b[0;34m.\u001b[0m\u001b[0mencoders\u001b[0m\u001b[0;34m:\u001b[0m\u001b[0;34m\u001b[0m\u001b[0;34m\u001b[0m\u001b[0m\n\u001b[0;32m---> 88\u001b[0;31m             \u001b[0mx\u001b[0m \u001b[0;34m=\u001b[0m \u001b[0mencoder\u001b[0m\u001b[0;34m(\u001b[0m\u001b[0mx\u001b[0m\u001b[0;34m)\u001b[0m\u001b[0;34m\u001b[0m\u001b[0;34m\u001b[0m\u001b[0m\n\u001b[0m\u001b[1;32m     89\u001b[0m \u001b[0;34m\u001b[0m\u001b[0m\n\u001b[1;32m     90\u001b[0m         \u001b[0;31m# Classifier\u001b[0m\u001b[0;34m\u001b[0m\u001b[0;34m\u001b[0m\u001b[0;34m\u001b[0m\u001b[0m\n",
      "\u001b[0;32m~/miniconda3/lib/python3.7/site-packages/torch/nn/modules/module.py\u001b[0m in \u001b[0;36m__call__\u001b[0;34m(self, *input, **kwargs)\u001b[0m\n\u001b[1;32m    548\u001b[0m             \u001b[0mresult\u001b[0m \u001b[0;34m=\u001b[0m \u001b[0mself\u001b[0m\u001b[0;34m.\u001b[0m\u001b[0m_slow_forward\u001b[0m\u001b[0;34m(\u001b[0m\u001b[0;34m*\u001b[0m\u001b[0minput\u001b[0m\u001b[0;34m,\u001b[0m \u001b[0;34m**\u001b[0m\u001b[0mkwargs\u001b[0m\u001b[0;34m)\u001b[0m\u001b[0;34m\u001b[0m\u001b[0;34m\u001b[0m\u001b[0m\n\u001b[1;32m    549\u001b[0m         \u001b[0;32melse\u001b[0m\u001b[0;34m:\u001b[0m\u001b[0;34m\u001b[0m\u001b[0;34m\u001b[0m\u001b[0m\n\u001b[0;32m--> 550\u001b[0;31m             \u001b[0mresult\u001b[0m \u001b[0;34m=\u001b[0m \u001b[0mself\u001b[0m\u001b[0;34m.\u001b[0m\u001b[0mforward\u001b[0m\u001b[0;34m(\u001b[0m\u001b[0;34m*\u001b[0m\u001b[0minput\u001b[0m\u001b[0;34m,\u001b[0m \u001b[0;34m**\u001b[0m\u001b[0mkwargs\u001b[0m\u001b[0;34m)\u001b[0m\u001b[0;34m\u001b[0m\u001b[0;34m\u001b[0m\u001b[0m\n\u001b[0m\u001b[1;32m    551\u001b[0m         \u001b[0;32mfor\u001b[0m \u001b[0mhook\u001b[0m \u001b[0;32min\u001b[0m \u001b[0mself\u001b[0m\u001b[0;34m.\u001b[0m\u001b[0m_forward_hooks\u001b[0m\u001b[0;34m.\u001b[0m\u001b[0mvalues\u001b[0m\u001b[0;34m(\u001b[0m\u001b[0;34m)\u001b[0m\u001b[0;34m:\u001b[0m\u001b[0;34m\u001b[0m\u001b[0;34m\u001b[0m\u001b[0m\n\u001b[1;32m    552\u001b[0m             \u001b[0mhook_result\u001b[0m \u001b[0;34m=\u001b[0m \u001b[0mhook\u001b[0m\u001b[0;34m(\u001b[0m\u001b[0mself\u001b[0m\u001b[0;34m,\u001b[0m \u001b[0minput\u001b[0m\u001b[0;34m,\u001b[0m \u001b[0mresult\u001b[0m\u001b[0;34m)\u001b[0m\u001b[0;34m\u001b[0m\u001b[0;34m\u001b[0m\u001b[0m\n",
      "\u001b[0;32m/media/aous/Samsung_T5/penet/models/layers/penet/penet_encoder.py\u001b[0m in \u001b[0;36mforward\u001b[0;34m(self, x)\u001b[0m\n\u001b[1;32m     17\u001b[0m \u001b[0;34m\u001b[0m\u001b[0m\n\u001b[1;32m     18\u001b[0m     \u001b[0;32mdef\u001b[0m \u001b[0mforward\u001b[0m\u001b[0;34m(\u001b[0m\u001b[0mself\u001b[0m\u001b[0;34m,\u001b[0m \u001b[0mx\u001b[0m\u001b[0;34m)\u001b[0m\u001b[0;34m:\u001b[0m\u001b[0;34m\u001b[0m\u001b[0;34m\u001b[0m\u001b[0m\n\u001b[0;32m---> 19\u001b[0;31m         \u001b[0mx\u001b[0m \u001b[0;34m=\u001b[0m \u001b[0mself\u001b[0m\u001b[0;34m.\u001b[0m\u001b[0mpenet_blocks\u001b[0m\u001b[0;34m(\u001b[0m\u001b[0mx\u001b[0m\u001b[0;34m)\u001b[0m\u001b[0;34m\u001b[0m\u001b[0;34m\u001b[0m\u001b[0m\n\u001b[0m\u001b[1;32m     20\u001b[0m \u001b[0;34m\u001b[0m\u001b[0m\n\u001b[1;32m     21\u001b[0m         \u001b[0;32mreturn\u001b[0m \u001b[0mx\u001b[0m\u001b[0;34m\u001b[0m\u001b[0;34m\u001b[0m\u001b[0m\n",
      "\u001b[0;32m~/miniconda3/lib/python3.7/site-packages/torch/nn/modules/module.py\u001b[0m in \u001b[0;36m__call__\u001b[0;34m(self, *input, **kwargs)\u001b[0m\n\u001b[1;32m    548\u001b[0m             \u001b[0mresult\u001b[0m \u001b[0;34m=\u001b[0m \u001b[0mself\u001b[0m\u001b[0;34m.\u001b[0m\u001b[0m_slow_forward\u001b[0m\u001b[0;34m(\u001b[0m\u001b[0;34m*\u001b[0m\u001b[0minput\u001b[0m\u001b[0;34m,\u001b[0m \u001b[0;34m**\u001b[0m\u001b[0mkwargs\u001b[0m\u001b[0;34m)\u001b[0m\u001b[0;34m\u001b[0m\u001b[0;34m\u001b[0m\u001b[0m\n\u001b[1;32m    549\u001b[0m         \u001b[0;32melse\u001b[0m\u001b[0;34m:\u001b[0m\u001b[0;34m\u001b[0m\u001b[0;34m\u001b[0m\u001b[0m\n\u001b[0;32m--> 550\u001b[0;31m             \u001b[0mresult\u001b[0m \u001b[0;34m=\u001b[0m \u001b[0mself\u001b[0m\u001b[0;34m.\u001b[0m\u001b[0mforward\u001b[0m\u001b[0;34m(\u001b[0m\u001b[0;34m*\u001b[0m\u001b[0minput\u001b[0m\u001b[0;34m,\u001b[0m \u001b[0;34m**\u001b[0m\u001b[0mkwargs\u001b[0m\u001b[0;34m)\u001b[0m\u001b[0;34m\u001b[0m\u001b[0;34m\u001b[0m\u001b[0m\n\u001b[0m\u001b[1;32m    551\u001b[0m         \u001b[0;32mfor\u001b[0m \u001b[0mhook\u001b[0m \u001b[0;32min\u001b[0m \u001b[0mself\u001b[0m\u001b[0;34m.\u001b[0m\u001b[0m_forward_hooks\u001b[0m\u001b[0;34m.\u001b[0m\u001b[0mvalues\u001b[0m\u001b[0;34m(\u001b[0m\u001b[0;34m)\u001b[0m\u001b[0;34m:\u001b[0m\u001b[0;34m\u001b[0m\u001b[0;34m\u001b[0m\u001b[0m\n\u001b[1;32m    552\u001b[0m             \u001b[0mhook_result\u001b[0m \u001b[0;34m=\u001b[0m \u001b[0mhook\u001b[0m\u001b[0;34m(\u001b[0m\u001b[0mself\u001b[0m\u001b[0;34m,\u001b[0m \u001b[0minput\u001b[0m\u001b[0;34m,\u001b[0m \u001b[0mresult\u001b[0m\u001b[0;34m)\u001b[0m\u001b[0;34m\u001b[0m\u001b[0;34m\u001b[0m\u001b[0m\n",
      "\u001b[0;32m~/miniconda3/lib/python3.7/site-packages/torch/nn/modules/container.py\u001b[0m in \u001b[0;36mforward\u001b[0;34m(self, input)\u001b[0m\n\u001b[1;32m     98\u001b[0m     \u001b[0;32mdef\u001b[0m \u001b[0mforward\u001b[0m\u001b[0;34m(\u001b[0m\u001b[0mself\u001b[0m\u001b[0;34m,\u001b[0m \u001b[0minput\u001b[0m\u001b[0;34m)\u001b[0m\u001b[0;34m:\u001b[0m\u001b[0;34m\u001b[0m\u001b[0;34m\u001b[0m\u001b[0m\n\u001b[1;32m     99\u001b[0m         \u001b[0;32mfor\u001b[0m \u001b[0mmodule\u001b[0m \u001b[0;32min\u001b[0m \u001b[0mself\u001b[0m\u001b[0;34m:\u001b[0m\u001b[0;34m\u001b[0m\u001b[0;34m\u001b[0m\u001b[0m\n\u001b[0;32m--> 100\u001b[0;31m             \u001b[0minput\u001b[0m \u001b[0;34m=\u001b[0m \u001b[0mmodule\u001b[0m\u001b[0;34m(\u001b[0m\u001b[0minput\u001b[0m\u001b[0;34m)\u001b[0m\u001b[0;34m\u001b[0m\u001b[0;34m\u001b[0m\u001b[0m\n\u001b[0m\u001b[1;32m    101\u001b[0m         \u001b[0;32mreturn\u001b[0m \u001b[0minput\u001b[0m\u001b[0;34m\u001b[0m\u001b[0;34m\u001b[0m\u001b[0m\n\u001b[1;32m    102\u001b[0m \u001b[0;34m\u001b[0m\u001b[0m\n",
      "\u001b[0;32m~/miniconda3/lib/python3.7/site-packages/torch/nn/modules/module.py\u001b[0m in \u001b[0;36m__call__\u001b[0;34m(self, *input, **kwargs)\u001b[0m\n\u001b[1;32m    548\u001b[0m             \u001b[0mresult\u001b[0m \u001b[0;34m=\u001b[0m \u001b[0mself\u001b[0m\u001b[0;34m.\u001b[0m\u001b[0m_slow_forward\u001b[0m\u001b[0;34m(\u001b[0m\u001b[0;34m*\u001b[0m\u001b[0minput\u001b[0m\u001b[0;34m,\u001b[0m \u001b[0;34m**\u001b[0m\u001b[0mkwargs\u001b[0m\u001b[0;34m)\u001b[0m\u001b[0;34m\u001b[0m\u001b[0;34m\u001b[0m\u001b[0m\n\u001b[1;32m    549\u001b[0m         \u001b[0;32melse\u001b[0m\u001b[0;34m:\u001b[0m\u001b[0;34m\u001b[0m\u001b[0;34m\u001b[0m\u001b[0m\n\u001b[0;32m--> 550\u001b[0;31m             \u001b[0mresult\u001b[0m \u001b[0;34m=\u001b[0m \u001b[0mself\u001b[0m\u001b[0;34m.\u001b[0m\u001b[0mforward\u001b[0m\u001b[0;34m(\u001b[0m\u001b[0;34m*\u001b[0m\u001b[0minput\u001b[0m\u001b[0;34m,\u001b[0m \u001b[0;34m**\u001b[0m\u001b[0mkwargs\u001b[0m\u001b[0;34m)\u001b[0m\u001b[0;34m\u001b[0m\u001b[0;34m\u001b[0m\u001b[0m\n\u001b[0m\u001b[1;32m    551\u001b[0m         \u001b[0;32mfor\u001b[0m \u001b[0mhook\u001b[0m \u001b[0;32min\u001b[0m \u001b[0mself\u001b[0m\u001b[0;34m.\u001b[0m\u001b[0m_forward_hooks\u001b[0m\u001b[0;34m.\u001b[0m\u001b[0mvalues\u001b[0m\u001b[0;34m(\u001b[0m\u001b[0;34m)\u001b[0m\u001b[0;34m:\u001b[0m\u001b[0;34m\u001b[0m\u001b[0;34m\u001b[0m\u001b[0m\n\u001b[1;32m    552\u001b[0m             \u001b[0mhook_result\u001b[0m \u001b[0;34m=\u001b[0m \u001b[0mhook\u001b[0m\u001b[0;34m(\u001b[0m\u001b[0mself\u001b[0m\u001b[0;34m,\u001b[0m \u001b[0minput\u001b[0m\u001b[0;34m,\u001b[0m \u001b[0mresult\u001b[0m\u001b[0;34m)\u001b[0m\u001b[0;34m\u001b[0m\u001b[0;34m\u001b[0m\u001b[0m\n",
      "\u001b[0;32m/media/aous/Samsung_T5/penet/models/layers/penet/penet_bottleneck.py\u001b[0m in \u001b[0;36mforward\u001b[0;34m(self, x)\u001b[0m\n\u001b[1;32m     68\u001b[0m \u001b[0;34m\u001b[0m\u001b[0m\n\u001b[1;32m     69\u001b[0m         \u001b[0mx\u001b[0m \u001b[0;34m=\u001b[0m \u001b[0mself\u001b[0m\u001b[0;34m.\u001b[0m\u001b[0mconv2\u001b[0m\u001b[0;34m(\u001b[0m\u001b[0mx\u001b[0m\u001b[0;34m)\u001b[0m\u001b[0;34m\u001b[0m\u001b[0;34m\u001b[0m\u001b[0m\n\u001b[0;32m---> 70\u001b[0;31m         \u001b[0mx\u001b[0m \u001b[0;34m=\u001b[0m \u001b[0mself\u001b[0m\u001b[0;34m.\u001b[0m\u001b[0mnorm2\u001b[0m\u001b[0;34m(\u001b[0m\u001b[0mx\u001b[0m\u001b[0;34m)\u001b[0m\u001b[0;34m\u001b[0m\u001b[0;34m\u001b[0m\u001b[0m\n\u001b[0m\u001b[1;32m     71\u001b[0m         \u001b[0mx\u001b[0m \u001b[0;34m=\u001b[0m \u001b[0mself\u001b[0m\u001b[0;34m.\u001b[0m\u001b[0mrelu2\u001b[0m\u001b[0;34m(\u001b[0m\u001b[0mx\u001b[0m\u001b[0;34m)\u001b[0m\u001b[0;34m\u001b[0m\u001b[0;34m\u001b[0m\u001b[0m\n\u001b[1;32m     72\u001b[0m \u001b[0;34m\u001b[0m\u001b[0m\n",
      "\u001b[0;32m~/miniconda3/lib/python3.7/site-packages/torch/nn/modules/module.py\u001b[0m in \u001b[0;36m__call__\u001b[0;34m(self, *input, **kwargs)\u001b[0m\n\u001b[1;32m    548\u001b[0m             \u001b[0mresult\u001b[0m \u001b[0;34m=\u001b[0m \u001b[0mself\u001b[0m\u001b[0;34m.\u001b[0m\u001b[0m_slow_forward\u001b[0m\u001b[0;34m(\u001b[0m\u001b[0;34m*\u001b[0m\u001b[0minput\u001b[0m\u001b[0;34m,\u001b[0m \u001b[0;34m**\u001b[0m\u001b[0mkwargs\u001b[0m\u001b[0;34m)\u001b[0m\u001b[0;34m\u001b[0m\u001b[0;34m\u001b[0m\u001b[0m\n\u001b[1;32m    549\u001b[0m         \u001b[0;32melse\u001b[0m\u001b[0;34m:\u001b[0m\u001b[0;34m\u001b[0m\u001b[0;34m\u001b[0m\u001b[0m\n\u001b[0;32m--> 550\u001b[0;31m             \u001b[0mresult\u001b[0m \u001b[0;34m=\u001b[0m \u001b[0mself\u001b[0m\u001b[0;34m.\u001b[0m\u001b[0mforward\u001b[0m\u001b[0;34m(\u001b[0m\u001b[0;34m*\u001b[0m\u001b[0minput\u001b[0m\u001b[0;34m,\u001b[0m \u001b[0;34m**\u001b[0m\u001b[0mkwargs\u001b[0m\u001b[0;34m)\u001b[0m\u001b[0;34m\u001b[0m\u001b[0;34m\u001b[0m\u001b[0m\n\u001b[0m\u001b[1;32m    551\u001b[0m         \u001b[0;32mfor\u001b[0m \u001b[0mhook\u001b[0m \u001b[0;32min\u001b[0m \u001b[0mself\u001b[0m\u001b[0;34m.\u001b[0m\u001b[0m_forward_hooks\u001b[0m\u001b[0;34m.\u001b[0m\u001b[0mvalues\u001b[0m\u001b[0;34m(\u001b[0m\u001b[0;34m)\u001b[0m\u001b[0;34m:\u001b[0m\u001b[0;34m\u001b[0m\u001b[0;34m\u001b[0m\u001b[0m\n\u001b[1;32m    552\u001b[0m             \u001b[0mhook_result\u001b[0m \u001b[0;34m=\u001b[0m \u001b[0mhook\u001b[0m\u001b[0;34m(\u001b[0m\u001b[0mself\u001b[0m\u001b[0;34m,\u001b[0m \u001b[0minput\u001b[0m\u001b[0;34m,\u001b[0m \u001b[0mresult\u001b[0m\u001b[0;34m)\u001b[0m\u001b[0;34m\u001b[0m\u001b[0;34m\u001b[0m\u001b[0m\n",
      "\u001b[0;32m~/miniconda3/lib/python3.7/site-packages/torch/nn/modules/normalization.py\u001b[0m in \u001b[0;36mforward\u001b[0;34m(self, input)\u001b[0m\n\u001b[1;32m    223\u001b[0m     \u001b[0;32mdef\u001b[0m \u001b[0mforward\u001b[0m\u001b[0;34m(\u001b[0m\u001b[0mself\u001b[0m\u001b[0;34m,\u001b[0m \u001b[0minput\u001b[0m\u001b[0;34m)\u001b[0m\u001b[0;34m:\u001b[0m\u001b[0;34m\u001b[0m\u001b[0;34m\u001b[0m\u001b[0m\n\u001b[1;32m    224\u001b[0m         return F.group_norm(\n\u001b[0;32m--> 225\u001b[0;31m             input, self.num_groups, self.weight, self.bias, self.eps)\n\u001b[0m\u001b[1;32m    226\u001b[0m \u001b[0;34m\u001b[0m\u001b[0m\n\u001b[1;32m    227\u001b[0m     \u001b[0;32mdef\u001b[0m \u001b[0mextra_repr\u001b[0m\u001b[0;34m(\u001b[0m\u001b[0mself\u001b[0m\u001b[0;34m)\u001b[0m\u001b[0;34m:\u001b[0m\u001b[0;34m\u001b[0m\u001b[0;34m\u001b[0m\u001b[0m\n",
      "\u001b[0;32m~/miniconda3/lib/python3.7/site-packages/torch/nn/functional.py\u001b[0m in \u001b[0;36mgroup_norm\u001b[0;34m(input, num_groups, weight, bias, eps)\u001b[0m\n\u001b[1;32m   1971\u001b[0m         + list(input.size()[2:]))\n\u001b[1;32m   1972\u001b[0m     return torch.group_norm(input, num_groups, weight, bias, eps,\n\u001b[0;32m-> 1973\u001b[0;31m                             torch.backends.cudnn.enabled)\n\u001b[0m\u001b[1;32m   1974\u001b[0m \u001b[0;34m\u001b[0m\u001b[0m\n\u001b[1;32m   1975\u001b[0m \u001b[0;34m\u001b[0m\u001b[0m\n",
      "\u001b[0;31mKeyboardInterrupt\u001b[0m: "
     ]
    }
   ],
   "source": [
    "train_dataset = PE_dataset(weighted_dataset(traindf, 2000, 0.5), augment = True, window = 48)\n",
    "test_dataset = PE_dataset(testdf[:15000], augment = False, window = 48)\n",
    "train_loader = torch.utils.data.DataLoader(train_dataset, batch_size = 4, num_workers = 4)\n",
    "test_loader = torch.utils.data.DataLoader(test_dataset, batch_size = 2, num_workers = 4)\n",
    "\n",
    "Lr = [1e-4, 1e-3]\n",
    "accuracys = []\n",
    "loss = []\n",
    "for lr in Lr:\n",
    "    learning_rate = lr\n",
    "    net = peNet(7)\n",
    "    #criterion1 = FocalLoss(alpha = 3, gamma = 2)\n",
    "    criterion1 = nn.BCELoss()\n",
    "    criterion2 = nn.CrossEntropyLoss()\n",
    "    #criterion2 = LabelSmoothingCrossEntropy(0.1)\n",
    "    #net = nn.DataParallel(net)\n",
    "    optimizer = torch.optim.SGD(net.parameters(), lr=learning_rate, momentum = 0.9, dampening=0.9, weight_decay=1e-3) \n",
    "    #scheduler = torch.optim.lr_scheduler.CosineAnnealingWarmRestarts(optimizer, T_0 = 2, T_mult=2, eta_min=0, last_epoch=-1)\n",
    "    train(net, optimizer, train_loader, criterion1, criterion2, alpha = 1,  n_epoch = 4, visualize =True,\n",
    "                      cuda = True,  train_acc_period = 50, scheduler = None, detection = True)\n",
    "    result = evaluate(net, test_loader)\n",
    "    loss.append(result[0])\n",
    "    accuracys.append(result[2])\n",
    "\n",
    "plt.figure(figsize=(15, 4))\n",
    "plt.subplot(131)\n",
    "plt.plot(Lr, loss)\n",
    "plt.ylabel('model loss')\n",
    "plt.xlabel('learning rates')\n",
    "plt.xscale('log')\n",
    "plt.subplot(132)\n",
    "plt.plot(Lr, accuracys)\n",
    "plt.ylabel('model accuracy')\n",
    "plt.xscale('log')\n",
    "plt.xlabel('learning rates')\n",
    "plt.show()"
   ]
  },
  {
   "cell_type": "code",
   "execution_count": 14,
   "metadata": {},
   "outputs": [
    {
     "data": {
      "text/plain": [
       "((0.0, 0.0, 0.0),\n",
       " (0.0, 0.0, 0.0),\n",
       " (0.0, 0.0, 0.0),\n",
       " (0.0, 0.0, 0.0),\n",
       " 0.02459016393442623)"
      ]
     },
     "execution_count": 14,
     "metadata": {},
     "output_type": "execute_result"
    }
   ],
   "source": [
    "result"
   ]
  },
  {
   "cell_type": "code",
   "execution_count": null,
   "metadata": {},
   "outputs": [],
   "source": [
    "train_dataset = PE_det(traindf[:30000])\n",
    "train_loader = torch.utils.data.DataLoader(train_dataset, batch_size = 4, num_workers = 4)"
   ]
  },
  {
   "cell_type": "code",
   "execution_count": 17,
   "metadata": {
    "scrolled": true
   },
   "outputs": [
    {
     "name": "stderr",
     "output_type": "stream",
     "text": [
      "Exception ignored in: <function _MultiProcessingDataLoaderIter.__del__ at 0x7f36d6d5bf80>\n",
      "Traceback (most recent call last):\n",
      "  File \"/home/aous/miniconda3/lib/python3.7/site-packages/torch/utils/data/dataloader.py\", line 962, in __del__\n",
      "    self._shutdown_workers()\n",
      "  File \"/home/aous/miniconda3/lib/python3.7/site-packages/torch/utils/data/dataloader.py\", line 942, in _shutdown_workers\n",
      "    w.join()\n",
      "  File \"/home/aous/miniconda3/lib/python3.7/multiprocessing/process.py\", line 140, in join\n",
      "    res = self._popen.wait(timeout)\n",
      "  File \"/home/aous/miniconda3/lib/python3.7/multiprocessing/popen_fork.py\", line 48, in wait\n",
      "    return self.poll(os.WNOHANG if timeout == 0.0 else 0)\n",
      "  File \"/home/aous/miniconda3/lib/python3.7/multiprocessing/popen_fork.py\", line 28, in poll\n",
      "    pid, sts = os.waitpid(self.pid, flag)\n",
      "KeyboardInterrupt: \n"
     ]
    },
    {
     "data": {
      "application/vnd.jupyter.widget-view+json": {
       "model_id": "fe9fa52602d944849aec859128e39bea",
       "version_major": 2,
       "version_minor": 0
      },
      "text/plain": [
       "HBox(children=(FloatProgress(value=1.0, bar_style='info', max=1.0), HTML(value='')))"
      ]
     },
     "metadata": {},
     "output_type": "display_data"
    },
    {
     "name": "stdout",
     "output_type": "stream",
     "text": [
      "\n"
     ]
    },
    {
     "ename": "RuntimeError",
     "evalue": "CUDA out of memory. Tried to allocate 384.00 MiB (GPU 0; 23.65 GiB total capacity; 21.91 GiB already allocated; 177.62 MiB free; 22.25 GiB reserved in total by PyTorch)",
     "output_type": "error",
     "traceback": [
      "\u001b[0;31m---------------------------------------------------------------------------\u001b[0m",
      "\u001b[0;31mRuntimeError\u001b[0m                              Traceback (most recent call last)",
      "\u001b[0;32m<ipython-input-17-58757ffd7bb0>\u001b[0m in \u001b[0;36m<module>\u001b[0;34m\u001b[0m\n\u001b[0;32m----> 1\u001b[0;31m \u001b[0mevaluate_det\u001b[0m\u001b[0;34m(\u001b[0m\u001b[0mnet\u001b[0m\u001b[0;34m,\u001b[0m \u001b[0mtrain_loader\u001b[0m\u001b[0;34m)\u001b[0m\u001b[0;34m\u001b[0m\u001b[0;34m\u001b[0m\u001b[0m\n\u001b[0m",
      "\u001b[0;32m<ipython-input-12-d576cc2d7c18>\u001b[0m in \u001b[0;36mevaluate_det\u001b[0;34m(net, test_loader)\u001b[0m\n\u001b[1;32m     76\u001b[0m         \u001b[0minputs\u001b[0m \u001b[0;34m=\u001b[0m \u001b[0minputs\u001b[0m\u001b[0;34m.\u001b[0m\u001b[0mtype\u001b[0m\u001b[0;34m(\u001b[0m\u001b[0mtorch\u001b[0m\u001b[0;34m.\u001b[0m\u001b[0mcuda\u001b[0m\u001b[0;34m.\u001b[0m\u001b[0mFloatTensor\u001b[0m\u001b[0;34m)\u001b[0m\u001b[0;34m\u001b[0m\u001b[0;34m\u001b[0m\u001b[0m\n\u001b[1;32m     77\u001b[0m         \u001b[0mlabels\u001b[0m \u001b[0;34m=\u001b[0m \u001b[0mlabels\u001b[0m\u001b[0;34m.\u001b[0m\u001b[0mtype\u001b[0m\u001b[0;34m(\u001b[0m\u001b[0mtorch\u001b[0m\u001b[0;34m.\u001b[0m\u001b[0mcuda\u001b[0m\u001b[0;34m.\u001b[0m\u001b[0mLongTensor\u001b[0m\u001b[0;34m)\u001b[0m\u001b[0;34m\u001b[0m\u001b[0;34m\u001b[0m\u001b[0m\n\u001b[0;32m---> 78\u001b[0;31m         \u001b[0moutputs\u001b[0m \u001b[0;34m=\u001b[0m \u001b[0mnet\u001b[0m\u001b[0;34m(\u001b[0m\u001b[0minputs\u001b[0m\u001b[0;34m)\u001b[0m\u001b[0;34m\u001b[0m\u001b[0;34m\u001b[0m\u001b[0m\n\u001b[0m\u001b[1;32m     79\u001b[0m         \u001b[0mpredicted\u001b[0m \u001b[0;34m=\u001b[0m \u001b[0;34m(\u001b[0m\u001b[0moutputs\u001b[0m\u001b[0;34m>\u001b[0m\u001b[0;36m0.5\u001b[0m\u001b[0;34m)\u001b[0m\u001b[0;34m.\u001b[0m\u001b[0mfloat\u001b[0m\u001b[0;34m(\u001b[0m\u001b[0;34m)\u001b[0m\u001b[0;34m\u001b[0m\u001b[0;34m\u001b[0m\u001b[0m\n\u001b[1;32m     80\u001b[0m         \u001b[0;31m#print(predicted == labels, labels)\u001b[0m\u001b[0;34m\u001b[0m\u001b[0;34m\u001b[0m\u001b[0;34m\u001b[0m\u001b[0m\n",
      "\u001b[0;32m~/miniconda3/lib/python3.7/site-packages/torch/nn/modules/module.py\u001b[0m in \u001b[0;36m__call__\u001b[0;34m(self, *input, **kwargs)\u001b[0m\n\u001b[1;32m    548\u001b[0m             \u001b[0mresult\u001b[0m \u001b[0;34m=\u001b[0m \u001b[0mself\u001b[0m\u001b[0;34m.\u001b[0m\u001b[0m_slow_forward\u001b[0m\u001b[0;34m(\u001b[0m\u001b[0;34m*\u001b[0m\u001b[0minput\u001b[0m\u001b[0;34m,\u001b[0m \u001b[0;34m**\u001b[0m\u001b[0mkwargs\u001b[0m\u001b[0;34m)\u001b[0m\u001b[0;34m\u001b[0m\u001b[0;34m\u001b[0m\u001b[0m\n\u001b[1;32m    549\u001b[0m         \u001b[0;32melse\u001b[0m\u001b[0;34m:\u001b[0m\u001b[0;34m\u001b[0m\u001b[0;34m\u001b[0m\u001b[0m\n\u001b[0;32m--> 550\u001b[0;31m             \u001b[0mresult\u001b[0m \u001b[0;34m=\u001b[0m \u001b[0mself\u001b[0m\u001b[0;34m.\u001b[0m\u001b[0mforward\u001b[0m\u001b[0;34m(\u001b[0m\u001b[0;34m*\u001b[0m\u001b[0minput\u001b[0m\u001b[0;34m,\u001b[0m \u001b[0;34m**\u001b[0m\u001b[0mkwargs\u001b[0m\u001b[0;34m)\u001b[0m\u001b[0;34m\u001b[0m\u001b[0;34m\u001b[0m\u001b[0m\n\u001b[0m\u001b[1;32m    551\u001b[0m         \u001b[0;32mfor\u001b[0m \u001b[0mhook\u001b[0m \u001b[0;32min\u001b[0m \u001b[0mself\u001b[0m\u001b[0;34m.\u001b[0m\u001b[0m_forward_hooks\u001b[0m\u001b[0;34m.\u001b[0m\u001b[0mvalues\u001b[0m\u001b[0;34m(\u001b[0m\u001b[0;34m)\u001b[0m\u001b[0;34m:\u001b[0m\u001b[0;34m\u001b[0m\u001b[0;34m\u001b[0m\u001b[0m\n\u001b[1;32m    552\u001b[0m             \u001b[0mhook_result\u001b[0m \u001b[0;34m=\u001b[0m \u001b[0mhook\u001b[0m\u001b[0;34m(\u001b[0m\u001b[0mself\u001b[0m\u001b[0;34m,\u001b[0m \u001b[0minput\u001b[0m\u001b[0;34m,\u001b[0m \u001b[0mresult\u001b[0m\u001b[0;34m)\u001b[0m\u001b[0;34m\u001b[0m\u001b[0;34m\u001b[0m\u001b[0m\n",
      "\u001b[0;32m~/miniconda3/lib/python3.7/site-packages/torch/nn/parallel/data_parallel.py\u001b[0m in \u001b[0;36mforward\u001b[0;34m(self, *inputs, **kwargs)\u001b[0m\n\u001b[1;32m    151\u001b[0m         \u001b[0minputs\u001b[0m\u001b[0;34m,\u001b[0m \u001b[0mkwargs\u001b[0m \u001b[0;34m=\u001b[0m \u001b[0mself\u001b[0m\u001b[0;34m.\u001b[0m\u001b[0mscatter\u001b[0m\u001b[0;34m(\u001b[0m\u001b[0minputs\u001b[0m\u001b[0;34m,\u001b[0m \u001b[0mkwargs\u001b[0m\u001b[0;34m,\u001b[0m \u001b[0mself\u001b[0m\u001b[0;34m.\u001b[0m\u001b[0mdevice_ids\u001b[0m\u001b[0;34m)\u001b[0m\u001b[0;34m\u001b[0m\u001b[0;34m\u001b[0m\u001b[0m\n\u001b[1;32m    152\u001b[0m         \u001b[0;32mif\u001b[0m \u001b[0mlen\u001b[0m\u001b[0;34m(\u001b[0m\u001b[0mself\u001b[0m\u001b[0;34m.\u001b[0m\u001b[0mdevice_ids\u001b[0m\u001b[0;34m)\u001b[0m \u001b[0;34m==\u001b[0m \u001b[0;36m1\u001b[0m\u001b[0;34m:\u001b[0m\u001b[0;34m\u001b[0m\u001b[0;34m\u001b[0m\u001b[0m\n\u001b[0;32m--> 153\u001b[0;31m             \u001b[0;32mreturn\u001b[0m \u001b[0mself\u001b[0m\u001b[0;34m.\u001b[0m\u001b[0mmodule\u001b[0m\u001b[0;34m(\u001b[0m\u001b[0;34m*\u001b[0m\u001b[0minputs\u001b[0m\u001b[0;34m[\u001b[0m\u001b[0;36m0\u001b[0m\u001b[0;34m]\u001b[0m\u001b[0;34m,\u001b[0m \u001b[0;34m**\u001b[0m\u001b[0mkwargs\u001b[0m\u001b[0;34m[\u001b[0m\u001b[0;36m0\u001b[0m\u001b[0;34m]\u001b[0m\u001b[0;34m)\u001b[0m\u001b[0;34m\u001b[0m\u001b[0;34m\u001b[0m\u001b[0m\n\u001b[0m\u001b[1;32m    154\u001b[0m         \u001b[0mreplicas\u001b[0m \u001b[0;34m=\u001b[0m \u001b[0mself\u001b[0m\u001b[0;34m.\u001b[0m\u001b[0mreplicate\u001b[0m\u001b[0;34m(\u001b[0m\u001b[0mself\u001b[0m\u001b[0;34m.\u001b[0m\u001b[0mmodule\u001b[0m\u001b[0;34m,\u001b[0m \u001b[0mself\u001b[0m\u001b[0;34m.\u001b[0m\u001b[0mdevice_ids\u001b[0m\u001b[0;34m[\u001b[0m\u001b[0;34m:\u001b[0m\u001b[0mlen\u001b[0m\u001b[0;34m(\u001b[0m\u001b[0minputs\u001b[0m\u001b[0;34m)\u001b[0m\u001b[0;34m]\u001b[0m\u001b[0;34m)\u001b[0m\u001b[0;34m\u001b[0m\u001b[0;34m\u001b[0m\u001b[0m\n\u001b[1;32m    155\u001b[0m         \u001b[0moutputs\u001b[0m \u001b[0;34m=\u001b[0m \u001b[0mself\u001b[0m\u001b[0;34m.\u001b[0m\u001b[0mparallel_apply\u001b[0m\u001b[0;34m(\u001b[0m\u001b[0mreplicas\u001b[0m\u001b[0;34m,\u001b[0m \u001b[0minputs\u001b[0m\u001b[0;34m,\u001b[0m \u001b[0mkwargs\u001b[0m\u001b[0;34m)\u001b[0m\u001b[0;34m\u001b[0m\u001b[0;34m\u001b[0m\u001b[0m\n",
      "\u001b[0;32m~/miniconda3/lib/python3.7/site-packages/torch/nn/modules/module.py\u001b[0m in \u001b[0;36m__call__\u001b[0;34m(self, *input, **kwargs)\u001b[0m\n\u001b[1;32m    548\u001b[0m             \u001b[0mresult\u001b[0m \u001b[0;34m=\u001b[0m \u001b[0mself\u001b[0m\u001b[0;34m.\u001b[0m\u001b[0m_slow_forward\u001b[0m\u001b[0;34m(\u001b[0m\u001b[0;34m*\u001b[0m\u001b[0minput\u001b[0m\u001b[0;34m,\u001b[0m \u001b[0;34m**\u001b[0m\u001b[0mkwargs\u001b[0m\u001b[0;34m)\u001b[0m\u001b[0;34m\u001b[0m\u001b[0;34m\u001b[0m\u001b[0m\n\u001b[1;32m    549\u001b[0m         \u001b[0;32melse\u001b[0m\u001b[0;34m:\u001b[0m\u001b[0;34m\u001b[0m\u001b[0;34m\u001b[0m\u001b[0m\n\u001b[0;32m--> 550\u001b[0;31m             \u001b[0mresult\u001b[0m \u001b[0;34m=\u001b[0m \u001b[0mself\u001b[0m\u001b[0;34m.\u001b[0m\u001b[0mforward\u001b[0m\u001b[0;34m(\u001b[0m\u001b[0;34m*\u001b[0m\u001b[0minput\u001b[0m\u001b[0;34m,\u001b[0m \u001b[0;34m**\u001b[0m\u001b[0mkwargs\u001b[0m\u001b[0;34m)\u001b[0m\u001b[0;34m\u001b[0m\u001b[0;34m\u001b[0m\u001b[0m\n\u001b[0m\u001b[1;32m    551\u001b[0m         \u001b[0;32mfor\u001b[0m \u001b[0mhook\u001b[0m \u001b[0;32min\u001b[0m \u001b[0mself\u001b[0m\u001b[0;34m.\u001b[0m\u001b[0m_forward_hooks\u001b[0m\u001b[0;34m.\u001b[0m\u001b[0mvalues\u001b[0m\u001b[0;34m(\u001b[0m\u001b[0;34m)\u001b[0m\u001b[0;34m:\u001b[0m\u001b[0;34m\u001b[0m\u001b[0;34m\u001b[0m\u001b[0m\n\u001b[1;32m    552\u001b[0m             \u001b[0mhook_result\u001b[0m \u001b[0;34m=\u001b[0m \u001b[0mhook\u001b[0m\u001b[0;34m(\u001b[0m\u001b[0mself\u001b[0m\u001b[0;34m,\u001b[0m \u001b[0minput\u001b[0m\u001b[0;34m,\u001b[0m \u001b[0mresult\u001b[0m\u001b[0;34m)\u001b[0m\u001b[0;34m\u001b[0m\u001b[0;34m\u001b[0m\u001b[0m\n",
      "\u001b[0;32m<ipython-input-2-25f094921827>\u001b[0m in \u001b[0;36mforward\u001b[0;34m(self, x)\u001b[0m\n\u001b[1;32m     81\u001b[0m             \u001b[0mx\u001b[0m \u001b[0;34m=\u001b[0m \u001b[0mx\u001b[0m\u001b[0;34m.\u001b[0m\u001b[0mexpand\u001b[0m\u001b[0;34m(\u001b[0m\u001b[0;34m-\u001b[0m\u001b[0;36m1\u001b[0m\u001b[0;34m,\u001b[0m \u001b[0mself\u001b[0m\u001b[0;34m.\u001b[0m\u001b[0mnum_channels\u001b[0m \u001b[0;34m//\u001b[0m \u001b[0mx\u001b[0m\u001b[0;34m.\u001b[0m\u001b[0msize\u001b[0m\u001b[0;34m(\u001b[0m\u001b[0;36m1\u001b[0m\u001b[0;34m)\u001b[0m\u001b[0;34m,\u001b[0m \u001b[0;34m-\u001b[0m\u001b[0;36m1\u001b[0m\u001b[0;34m,\u001b[0m \u001b[0;34m-\u001b[0m\u001b[0;36m1\u001b[0m\u001b[0;34m,\u001b[0m \u001b[0;34m-\u001b[0m\u001b[0;36m1\u001b[0m\u001b[0;34m)\u001b[0m\u001b[0;34m\u001b[0m\u001b[0;34m\u001b[0m\u001b[0m\n\u001b[1;32m     82\u001b[0m \u001b[0;34m\u001b[0m\u001b[0m\n\u001b[0;32m---> 83\u001b[0;31m         \u001b[0mx\u001b[0m \u001b[0;34m=\u001b[0m \u001b[0mself\u001b[0m\u001b[0;34m.\u001b[0m\u001b[0min_conv\u001b[0m\u001b[0;34m(\u001b[0m\u001b[0mx\u001b[0m\u001b[0;34m)\u001b[0m\u001b[0;34m\u001b[0m\u001b[0;34m\u001b[0m\u001b[0m\n\u001b[0m\u001b[1;32m     84\u001b[0m         \u001b[0mx\u001b[0m \u001b[0;34m=\u001b[0m \u001b[0mself\u001b[0m\u001b[0;34m.\u001b[0m\u001b[0mmax_pool\u001b[0m\u001b[0;34m(\u001b[0m\u001b[0mx\u001b[0m\u001b[0;34m)\u001b[0m\u001b[0;34m\u001b[0m\u001b[0;34m\u001b[0m\u001b[0m\n\u001b[1;32m     85\u001b[0m \u001b[0;34m\u001b[0m\u001b[0m\n",
      "\u001b[0;32m~/miniconda3/lib/python3.7/site-packages/torch/nn/modules/module.py\u001b[0m in \u001b[0;36m__call__\u001b[0;34m(self, *input, **kwargs)\u001b[0m\n\u001b[1;32m    548\u001b[0m             \u001b[0mresult\u001b[0m \u001b[0;34m=\u001b[0m \u001b[0mself\u001b[0m\u001b[0;34m.\u001b[0m\u001b[0m_slow_forward\u001b[0m\u001b[0;34m(\u001b[0m\u001b[0;34m*\u001b[0m\u001b[0minput\u001b[0m\u001b[0;34m,\u001b[0m \u001b[0;34m**\u001b[0m\u001b[0mkwargs\u001b[0m\u001b[0;34m)\u001b[0m\u001b[0;34m\u001b[0m\u001b[0;34m\u001b[0m\u001b[0m\n\u001b[1;32m    549\u001b[0m         \u001b[0;32melse\u001b[0m\u001b[0;34m:\u001b[0m\u001b[0;34m\u001b[0m\u001b[0;34m\u001b[0m\u001b[0m\n\u001b[0;32m--> 550\u001b[0;31m             \u001b[0mresult\u001b[0m \u001b[0;34m=\u001b[0m \u001b[0mself\u001b[0m\u001b[0;34m.\u001b[0m\u001b[0mforward\u001b[0m\u001b[0;34m(\u001b[0m\u001b[0;34m*\u001b[0m\u001b[0minput\u001b[0m\u001b[0;34m,\u001b[0m \u001b[0;34m**\u001b[0m\u001b[0mkwargs\u001b[0m\u001b[0;34m)\u001b[0m\u001b[0;34m\u001b[0m\u001b[0;34m\u001b[0m\u001b[0m\n\u001b[0m\u001b[1;32m    551\u001b[0m         \u001b[0;32mfor\u001b[0m \u001b[0mhook\u001b[0m \u001b[0;32min\u001b[0m \u001b[0mself\u001b[0m\u001b[0;34m.\u001b[0m\u001b[0m_forward_hooks\u001b[0m\u001b[0;34m.\u001b[0m\u001b[0mvalues\u001b[0m\u001b[0;34m(\u001b[0m\u001b[0;34m)\u001b[0m\u001b[0;34m:\u001b[0m\u001b[0;34m\u001b[0m\u001b[0;34m\u001b[0m\u001b[0m\n\u001b[1;32m    552\u001b[0m             \u001b[0mhook_result\u001b[0m \u001b[0;34m=\u001b[0m \u001b[0mhook\u001b[0m\u001b[0;34m(\u001b[0m\u001b[0mself\u001b[0m\u001b[0;34m,\u001b[0m \u001b[0minput\u001b[0m\u001b[0;34m,\u001b[0m \u001b[0mresult\u001b[0m\u001b[0;34m)\u001b[0m\u001b[0;34m\u001b[0m\u001b[0;34m\u001b[0m\u001b[0m\n",
      "\u001b[0;32m~/miniconda3/lib/python3.7/site-packages/torch/nn/modules/container.py\u001b[0m in \u001b[0;36mforward\u001b[0;34m(self, input)\u001b[0m\n\u001b[1;32m     98\u001b[0m     \u001b[0;32mdef\u001b[0m \u001b[0mforward\u001b[0m\u001b[0;34m(\u001b[0m\u001b[0mself\u001b[0m\u001b[0;34m,\u001b[0m \u001b[0minput\u001b[0m\u001b[0;34m)\u001b[0m\u001b[0;34m:\u001b[0m\u001b[0;34m\u001b[0m\u001b[0;34m\u001b[0m\u001b[0m\n\u001b[1;32m     99\u001b[0m         \u001b[0;32mfor\u001b[0m \u001b[0mmodule\u001b[0m \u001b[0;32min\u001b[0m \u001b[0mself\u001b[0m\u001b[0;34m:\u001b[0m\u001b[0;34m\u001b[0m\u001b[0;34m\u001b[0m\u001b[0m\n\u001b[0;32m--> 100\u001b[0;31m             \u001b[0minput\u001b[0m \u001b[0;34m=\u001b[0m \u001b[0mmodule\u001b[0m\u001b[0;34m(\u001b[0m\u001b[0minput\u001b[0m\u001b[0;34m)\u001b[0m\u001b[0;34m\u001b[0m\u001b[0;34m\u001b[0m\u001b[0m\n\u001b[0m\u001b[1;32m    101\u001b[0m         \u001b[0;32mreturn\u001b[0m \u001b[0minput\u001b[0m\u001b[0;34m\u001b[0m\u001b[0;34m\u001b[0m\u001b[0m\n\u001b[1;32m    102\u001b[0m \u001b[0;34m\u001b[0m\u001b[0m\n",
      "\u001b[0;32m~/miniconda3/lib/python3.7/site-packages/torch/nn/modules/module.py\u001b[0m in \u001b[0;36m__call__\u001b[0;34m(self, *input, **kwargs)\u001b[0m\n\u001b[1;32m    548\u001b[0m             \u001b[0mresult\u001b[0m \u001b[0;34m=\u001b[0m \u001b[0mself\u001b[0m\u001b[0;34m.\u001b[0m\u001b[0m_slow_forward\u001b[0m\u001b[0;34m(\u001b[0m\u001b[0;34m*\u001b[0m\u001b[0minput\u001b[0m\u001b[0;34m,\u001b[0m \u001b[0;34m**\u001b[0m\u001b[0mkwargs\u001b[0m\u001b[0;34m)\u001b[0m\u001b[0;34m\u001b[0m\u001b[0;34m\u001b[0m\u001b[0m\n\u001b[1;32m    549\u001b[0m         \u001b[0;32melse\u001b[0m\u001b[0;34m:\u001b[0m\u001b[0;34m\u001b[0m\u001b[0;34m\u001b[0m\u001b[0m\n\u001b[0;32m--> 550\u001b[0;31m             \u001b[0mresult\u001b[0m \u001b[0;34m=\u001b[0m \u001b[0mself\u001b[0m\u001b[0;34m.\u001b[0m\u001b[0mforward\u001b[0m\u001b[0;34m(\u001b[0m\u001b[0;34m*\u001b[0m\u001b[0minput\u001b[0m\u001b[0;34m,\u001b[0m \u001b[0;34m**\u001b[0m\u001b[0mkwargs\u001b[0m\u001b[0;34m)\u001b[0m\u001b[0;34m\u001b[0m\u001b[0;34m\u001b[0m\u001b[0m\n\u001b[0m\u001b[1;32m    551\u001b[0m         \u001b[0;32mfor\u001b[0m \u001b[0mhook\u001b[0m \u001b[0;32min\u001b[0m \u001b[0mself\u001b[0m\u001b[0;34m.\u001b[0m\u001b[0m_forward_hooks\u001b[0m\u001b[0;34m.\u001b[0m\u001b[0mvalues\u001b[0m\u001b[0;34m(\u001b[0m\u001b[0;34m)\u001b[0m\u001b[0;34m:\u001b[0m\u001b[0;34m\u001b[0m\u001b[0;34m\u001b[0m\u001b[0m\n\u001b[1;32m    552\u001b[0m             \u001b[0mhook_result\u001b[0m \u001b[0;34m=\u001b[0m \u001b[0mhook\u001b[0m\u001b[0;34m(\u001b[0m\u001b[0mself\u001b[0m\u001b[0;34m,\u001b[0m \u001b[0minput\u001b[0m\u001b[0;34m,\u001b[0m \u001b[0mresult\u001b[0m\u001b[0;34m)\u001b[0m\u001b[0;34m\u001b[0m\u001b[0;34m\u001b[0m\u001b[0m\n",
      "\u001b[0;32m~/miniconda3/lib/python3.7/site-packages/torch/nn/modules/conv.py\u001b[0m in \u001b[0;36mforward\u001b[0;34m(self, input)\u001b[0m\n\u001b[1;32m    483\u001b[0m                             self.dilation, self.groups)\n\u001b[1;32m    484\u001b[0m         return F.conv3d(input, self.weight, self.bias, self.stride,\n\u001b[0;32m--> 485\u001b[0;31m                         self.padding, self.dilation, self.groups)\n\u001b[0m\u001b[1;32m    486\u001b[0m \u001b[0;34m\u001b[0m\u001b[0m\n\u001b[1;32m    487\u001b[0m \u001b[0;34m\u001b[0m\u001b[0m\n",
      "\u001b[0;31mRuntimeError\u001b[0m: CUDA out of memory. Tried to allocate 384.00 MiB (GPU 0; 23.65 GiB total capacity; 21.91 GiB already allocated; 177.62 MiB free; 22.25 GiB reserved in total by PyTorch)"
     ]
    }
   ],
   "source": [
    "evaluate_det(net, train_loader)"
   ]
  },
  {
   "cell_type": "code",
   "execution_count": 18,
   "metadata": {},
   "outputs": [
    {
     "data": {
      "image/png": "[encoded data removed]",
      "text/plain": [
       "<PIL.Image.Image image mode=L size=256x256 at 0x7FB3703061D0>"
      ]
     },
     "execution_count": 18,
     "metadata": {},
     "output_type": "execute_result"
    }
   ],
   "source": [
    "trans1(test_dataset[19][0][0][12])"
   ]
  },
  {
   "cell_type": "code",
   "execution_count": 16,
   "metadata": {
    "scrolled": true
   },
   "outputs": [
    {
     "name": "stdout",
     "output_type": "stream",
     "text": [
      "13\n",
      "61\n",
      "65\n"
     ]
    },
    {
     "ename": "KeyboardInterrupt",
     "evalue": "",
     "output_type": "error",
     "traceback": [
      "\u001b[0;31m---------------------------------------------------------------------------\u001b[0m",
      "\u001b[0;31mKeyboardInterrupt\u001b[0m                         Traceback (most recent call last)",
      "\u001b[0;32m<ipython-input-16-9dd7de0471a8>\u001b[0m in \u001b[0;36m<module>\u001b[0;34m\u001b[0m\n\u001b[1;32m      1\u001b[0m \u001b[0;32mfor\u001b[0m \u001b[0mi\u001b[0m \u001b[0;32min\u001b[0m \u001b[0mrange\u001b[0m\u001b[0;34m(\u001b[0m\u001b[0;36m1000\u001b[0m\u001b[0;34m)\u001b[0m\u001b[0;34m:\u001b[0m\u001b[0;34m\u001b[0m\u001b[0;34m\u001b[0m\u001b[0m\n\u001b[0;32m----> 2\u001b[0;31m     \u001b[0;32mif\u001b[0m \u001b[0mtest_dataset\u001b[0m\u001b[0;34m[\u001b[0m\u001b[0mi\u001b[0m\u001b[0;34m]\u001b[0m\u001b[0;34m[\u001b[0m\u001b[0;36m1\u001b[0m\u001b[0;34m]\u001b[0m\u001b[0;34m.\u001b[0m\u001b[0mitem\u001b[0m\u001b[0;34m(\u001b[0m\u001b[0;34m)\u001b[0m\u001b[0;34m:\u001b[0m\u001b[0;34m\u001b[0m\u001b[0;34m\u001b[0m\u001b[0m\n\u001b[0m\u001b[1;32m      3\u001b[0m         \u001b[0mprint\u001b[0m\u001b[0;34m(\u001b[0m\u001b[0mi\u001b[0m\u001b[0;34m)\u001b[0m\u001b[0;34m\u001b[0m\u001b[0;34m\u001b[0m\u001b[0m\n",
      "\u001b[0;32m<ipython-input-13-d576cc2d7c18>\u001b[0m in \u001b[0;36m__getitem__\u001b[0;34m(self, index)\u001b[0m\n\u001b[1;32m     11\u001b[0m         \u001b[0mStudy\u001b[0m \u001b[0;34m=\u001b[0m \u001b[0mmini_batch\u001b[0m\u001b[0;34m[\u001b[0m\u001b[0;34m'StudyInstanceUID'\u001b[0m\u001b[0;34m]\u001b[0m\u001b[0;34m[\u001b[0m\u001b[0;36m0\u001b[0m\u001b[0;34m]\u001b[0m\u001b[0;34m\u001b[0m\u001b[0;34m\u001b[0m\u001b[0m\n\u001b[1;32m     12\u001b[0m         \u001b[0mtemp\u001b[0m \u001b[0;34m=\u001b[0m \u001b[0mself\u001b[0m\u001b[0;34m.\u001b[0m\u001b[0mTable\u001b[0m\u001b[0;34m[\u001b[0m\u001b[0mself\u001b[0m\u001b[0;34m.\u001b[0m\u001b[0mTable\u001b[0m\u001b[0;34m.\u001b[0m\u001b[0mStudyInstanceUID\u001b[0m \u001b[0;34m==\u001b[0m \u001b[0mStudy\u001b[0m\u001b[0;34m]\u001b[0m\u001b[0;34m\u001b[0m\u001b[0;34m\u001b[0m\u001b[0m\n\u001b[0;32m---> 13\u001b[0;31m         \u001b[0mInput\u001b[0m \u001b[0;34m=\u001b[0m \u001b[0mform_batch\u001b[0m\u001b[0;34m(\u001b[0m\u001b[0mmini_batch\u001b[0m\u001b[0;34m,\u001b[0m \u001b[0mself\u001b[0m\u001b[0;34m.\u001b[0m\u001b[0mwindow\u001b[0m\u001b[0;34m,\u001b[0m \u001b[0;34m(\u001b[0m\u001b[0;36m256\u001b[0m\u001b[0;34m,\u001b[0m \u001b[0;36m256\u001b[0m\u001b[0;34m)\u001b[0m\u001b[0;34m,\u001b[0m \u001b[0mself\u001b[0m\u001b[0;34m.\u001b[0m\u001b[0maugmented\u001b[0m\u001b[0;34m)\u001b[0m\u001b[0;34m\u001b[0m\u001b[0;34m\u001b[0m\u001b[0m\n\u001b[0m\u001b[1;32m     14\u001b[0m         \u001b[0;31m#Target = torch.zeros(2)\u001b[0m\u001b[0;34m\u001b[0m\u001b[0;34m\u001b[0m\u001b[0;34m\u001b[0m\u001b[0m\n\u001b[1;32m     15\u001b[0m         \u001b[0mTarget\u001b[0m \u001b[0;34m=\u001b[0m \u001b[0mtorch\u001b[0m\u001b[0;34m.\u001b[0m\u001b[0mzeros\u001b[0m\u001b[0;34m(\u001b[0m\u001b[0;36m1\u001b[0m\u001b[0;34m)\u001b[0m\u001b[0;34m\u001b[0m\u001b[0;34m\u001b[0m\u001b[0m\n",
      "\u001b[0;32m<ipython-input-3-7760f4d5d438>\u001b[0m in \u001b[0;36mform_batch\u001b[0;34m(inpt_slices, outpt_size, size, augment)\u001b[0m\n\u001b[1;32m     13\u001b[0m         \u001b[0;32mif\u001b[0m \u001b[0maugment\u001b[0m\u001b[0;34m:\u001b[0m\u001b[0;34m\u001b[0m\u001b[0;34m\u001b[0m\u001b[0m\n\u001b[1;32m     14\u001b[0m             \u001b[0mim\u001b[0m \u001b[0;34m=\u001b[0m \u001b[0mim\u001b[0m\u001b[0;34m.\u001b[0m\u001b[0mrotate\u001b[0m\u001b[0;34m(\u001b[0m\u001b[0mrot\u001b[0m\u001b[0;34m,\u001b[0m \u001b[0mtranslate\u001b[0m \u001b[0;34m=\u001b[0m \u001b[0;34m(\u001b[0m\u001b[0mc\u001b[0m\u001b[0;34m,\u001b[0m\u001b[0mf\u001b[0m\u001b[0;34m)\u001b[0m\u001b[0;34m)\u001b[0m\u001b[0;34m\u001b[0m\u001b[0;34m\u001b[0m\u001b[0m\n\u001b[0;32m---> 15\u001b[0;31m         \u001b[0mim_vect\u001b[0m \u001b[0;34m=\u001b[0m \u001b[0mtransform\u001b[0m\u001b[0;34m(\u001b[0m\u001b[0mim\u001b[0m\u001b[0;34m)\u001b[0m\u001b[0;34m\u001b[0m\u001b[0;34m\u001b[0m\u001b[0m\n\u001b[0m\u001b[1;32m     16\u001b[0m         \u001b[0moutpt\u001b[0m\u001b[0;34m[\u001b[0m\u001b[0;36m0\u001b[0m\u001b[0;34m]\u001b[0m\u001b[0;34m[\u001b[0m\u001b[0mi\u001b[0m\u001b[0;34m]\u001b[0m \u001b[0;34m=\u001b[0m \u001b[0mim_vect\u001b[0m\u001b[0;34m[\u001b[0m\u001b[0;36m0\u001b[0m\u001b[0;34m]\u001b[0m\u001b[0;34m\u001b[0m\u001b[0;34m\u001b[0m\u001b[0m\n\u001b[1;32m     17\u001b[0m         \u001b[0moutpt\u001b[0m\u001b[0;34m[\u001b[0m\u001b[0;36m1\u001b[0m\u001b[0;34m]\u001b[0m\u001b[0;34m[\u001b[0m\u001b[0mi\u001b[0m\u001b[0;34m]\u001b[0m \u001b[0;34m=\u001b[0m \u001b[0mim_vect\u001b[0m\u001b[0;34m[\u001b[0m\u001b[0;36m1\u001b[0m\u001b[0;34m]\u001b[0m\u001b[0;34m\u001b[0m\u001b[0;34m\u001b[0m\u001b[0m\n",
      "\u001b[0;32m~/miniconda3/lib/python3.7/site-packages/torchvision/transforms/transforms.py\u001b[0m in \u001b[0;36m__call__\u001b[0;34m(self, img)\u001b[0m\n\u001b[1;32m     59\u001b[0m     \u001b[0;32mdef\u001b[0m \u001b[0m__call__\u001b[0m\u001b[0;34m(\u001b[0m\u001b[0mself\u001b[0m\u001b[0;34m,\u001b[0m \u001b[0mimg\u001b[0m\u001b[0;34m)\u001b[0m\u001b[0;34m:\u001b[0m\u001b[0;34m\u001b[0m\u001b[0;34m\u001b[0m\u001b[0m\n\u001b[1;32m     60\u001b[0m         \u001b[0;32mfor\u001b[0m \u001b[0mt\u001b[0m \u001b[0;32min\u001b[0m \u001b[0mself\u001b[0m\u001b[0;34m.\u001b[0m\u001b[0mtransforms\u001b[0m\u001b[0;34m:\u001b[0m\u001b[0;34m\u001b[0m\u001b[0;34m\u001b[0m\u001b[0m\n\u001b[0;32m---> 61\u001b[0;31m             \u001b[0mimg\u001b[0m \u001b[0;34m=\u001b[0m \u001b[0mt\u001b[0m\u001b[0;34m(\u001b[0m\u001b[0mimg\u001b[0m\u001b[0;34m)\u001b[0m\u001b[0;34m\u001b[0m\u001b[0;34m\u001b[0m\u001b[0m\n\u001b[0m\u001b[1;32m     62\u001b[0m         \u001b[0;32mreturn\u001b[0m \u001b[0mimg\u001b[0m\u001b[0;34m\u001b[0m\u001b[0;34m\u001b[0m\u001b[0m\n\u001b[1;32m     63\u001b[0m \u001b[0;34m\u001b[0m\u001b[0m\n",
      "\u001b[0;32m~/miniconda3/lib/python3.7/site-packages/torchvision/transforms/transforms.py\u001b[0m in \u001b[0;36m__call__\u001b[0;34m(self, pic)\u001b[0m\n\u001b[1;32m     90\u001b[0m             \u001b[0mTensor\u001b[0m\u001b[0;34m:\u001b[0m \u001b[0mConverted\u001b[0m \u001b[0mimage\u001b[0m\u001b[0;34m.\u001b[0m\u001b[0;34m\u001b[0m\u001b[0;34m\u001b[0m\u001b[0m\n\u001b[1;32m     91\u001b[0m         \"\"\"\n\u001b[0;32m---> 92\u001b[0;31m         \u001b[0;32mreturn\u001b[0m \u001b[0mF\u001b[0m\u001b[0;34m.\u001b[0m\u001b[0mto_tensor\u001b[0m\u001b[0;34m(\u001b[0m\u001b[0mpic\u001b[0m\u001b[0;34m)\u001b[0m\u001b[0;34m\u001b[0m\u001b[0;34m\u001b[0m\u001b[0m\n\u001b[0m\u001b[1;32m     93\u001b[0m \u001b[0;34m\u001b[0m\u001b[0m\n\u001b[1;32m     94\u001b[0m     \u001b[0;32mdef\u001b[0m \u001b[0m__repr__\u001b[0m\u001b[0;34m(\u001b[0m\u001b[0mself\u001b[0m\u001b[0;34m)\u001b[0m\u001b[0;34m:\u001b[0m\u001b[0;34m\u001b[0m\u001b[0;34m\u001b[0m\u001b[0m\n",
      "\u001b[0;32m~/miniconda3/lib/python3.7/site-packages/torchvision/transforms/functional.py\u001b[0m in \u001b[0;36mto_tensor\u001b[0;34m(pic)\u001b[0m\n\u001b[1;32m     78\u001b[0m     \u001b[0mimg\u001b[0m \u001b[0;34m=\u001b[0m \u001b[0mimg\u001b[0m\u001b[0;34m.\u001b[0m\u001b[0mpermute\u001b[0m\u001b[0;34m(\u001b[0m\u001b[0;34m(\u001b[0m\u001b[0;36m2\u001b[0m\u001b[0;34m,\u001b[0m \u001b[0;36m0\u001b[0m\u001b[0;34m,\u001b[0m \u001b[0;36m1\u001b[0m\u001b[0;34m)\u001b[0m\u001b[0;34m)\u001b[0m\u001b[0;34m.\u001b[0m\u001b[0mcontiguous\u001b[0m\u001b[0;34m(\u001b[0m\u001b[0;34m)\u001b[0m\u001b[0;34m\u001b[0m\u001b[0;34m\u001b[0m\u001b[0m\n\u001b[1;32m     79\u001b[0m     \u001b[0;32mif\u001b[0m \u001b[0misinstance\u001b[0m\u001b[0;34m(\u001b[0m\u001b[0mimg\u001b[0m\u001b[0;34m,\u001b[0m \u001b[0mtorch\u001b[0m\u001b[0;34m.\u001b[0m\u001b[0mByteTensor\u001b[0m\u001b[0;34m)\u001b[0m\u001b[0;34m:\u001b[0m\u001b[0;34m\u001b[0m\u001b[0;34m\u001b[0m\u001b[0m\n\u001b[0;32m---> 80\u001b[0;31m         \u001b[0;32mreturn\u001b[0m \u001b[0mimg\u001b[0m\u001b[0;34m.\u001b[0m\u001b[0mfloat\u001b[0m\u001b[0;34m(\u001b[0m\u001b[0;34m)\u001b[0m\u001b[0;34m.\u001b[0m\u001b[0mdiv\u001b[0m\u001b[0;34m(\u001b[0m\u001b[0;36m255\u001b[0m\u001b[0;34m)\u001b[0m\u001b[0;34m\u001b[0m\u001b[0;34m\u001b[0m\u001b[0m\n\u001b[0m\u001b[1;32m     81\u001b[0m     \u001b[0;32melse\u001b[0m\u001b[0;34m:\u001b[0m\u001b[0;34m\u001b[0m\u001b[0;34m\u001b[0m\u001b[0m\n\u001b[1;32m     82\u001b[0m         \u001b[0;32mreturn\u001b[0m \u001b[0mimg\u001b[0m\u001b[0;34m\u001b[0m\u001b[0;34m\u001b[0m\u001b[0m\n",
      "\u001b[0;31mKeyboardInterrupt\u001b[0m: "
     ]
    }
   ],
   "source": [
    "for i in range(1000):\n",
    "    if test_dataset[i][1].item():\n",
    "        print(i)"
   ]
  },
  {
   "cell_type": "code",
   "execution_count": 17,
   "metadata": {},
   "outputs": [
    {
     "data": {
      "text/plain": [
       "tensor([1.])"
      ]
     },
     "execution_count": 17,
     "metadata": {},
     "output_type": "execute_result"
    }
   ],
   "source": [
    "test_dataset[13][1]"
   ]
  },
  {
   "cell_type": "code",
   "execution_count": 18,
   "metadata": {},
   "outputs": [],
   "source": [
    "#net = peNet(1)\n",
    "#net.cuda()\n",
    "im = test_dataset[13][0]\n",
    "im2 = test_dataset[12][0]"
   ]
  },
  {
   "cell_type": "code",
   "execution_count": 19,
   "metadata": {},
   "outputs": [
    {
     "data": {
      "text/plain": [
       "torch.Size([3, 24, 256, 256])"
      ]
     },
     "execution_count": 19,
     "metadata": {},
     "output_type": "execute_result"
    }
   ],
   "source": [
    "im.size()"
   ]
  },
  {
   "cell_type": "code",
   "execution_count": 20,
   "metadata": {},
   "outputs": [
    {
     "data": {
      "text/plain": [
       "tensor([[-0.0203]], device='cuda:0', grad_fn=<AddmmBackward>)"
      ]
     },
     "execution_count": 20,
     "metadata": {},
     "output_type": "execute_result"
    }
   ],
   "source": [
    "net.eval()\n",
    "net(im.unsqueeze(0).cuda())"
   ]
  },
  {
   "cell_type": "code",
   "execution_count": 21,
   "metadata": {},
   "outputs": [
    {
     "data": {
      "text/plain": [
       "tensor([[-0.0409]], device='cuda:0', grad_fn=<AddmmBackward>)"
      ]
     },
     "execution_count": 21,
     "metadata": {},
     "output_type": "execute_result"
    }
   ],
   "source": [
    "net(im2.unsqueeze(0).cuda())"
   ]
  },
  {
   "cell_type": "code",
   "execution_count": null,
   "metadata": {},
   "outputs": [],
   "source": []
  },
  {
   "cell_type": "code",
   "execution_count": 12,
   "metadata": {},
   "outputs": [],
   "source": [
    "class PE_det(torch.utils.data.Dataset):\n",
    "    def __init__(self, Table, randomize = True, augment = True, window = 24):\n",
    "        self.slices = list(Table['slice'].unique())\n",
    "        self.window = window\n",
    "        self.Table = Table\n",
    "        self.augmented = augment\n",
    "        if randomize:\n",
    "            np.random.shuffle(self.slices)\n",
    "    def __getitem__(self, index):\n",
    "        mini_batch = self.Table[self.Table.slice == self.slices[index]].reset_index().drop(['index'], axis = 1)\n",
    "        Study = mini_batch['StudyInstanceUID'][0]\n",
    "        temp = self.Table[self.Table.StudyInstanceUID == Study]\n",
    "        Input = form_batch(mini_batch, self.window, (256, 256), self.augmented)\n",
    "        #Target = torch.zeros(2)\n",
    "        Target = torch.zeros(1)\n",
    "        pe_num = len(mini_batch[mini_batch.pe_present_on_image == 1])\n",
    "        Target[0] = int(pe_num > (len(mini_batch) / 6))\n",
    "        return([Input, Target])\n",
    "    def __len__(self):\n",
    "        return(len(self.slices))\n",
    "def train_det(net, optimizer, train_loader, criterion, alpha = 2,  n_epoch = 2,\n",
    "          train_acc_period = 5,\n",
    "          test_acc_period = 5,\n",
    "          cuda=True, visualize = True):\n",
    "    loss_train = []\n",
    "    loss_test = []\n",
    "    total = 0\n",
    "    if cuda:\n",
    "        net = net.cuda()\n",
    "        %env CUDA_LAUNCH_BLOCKING=1\n",
    "    for epoch in tnrange(n_epoch):  # loop over the dataset multiple times\n",
    "        running_loss = 0.0\n",
    "        running_acc = 0.0\n",
    "        for i, (inputs, labels) in tqdm(enumerate(train_loader)):\n",
    "            # get the inputs\n",
    "            if cuda:\n",
    "                net = net.cuda()\n",
    "                inputs = inputs.type(torch.cuda.FloatTensor)\n",
    "                labels = labels.type(torch.cuda.LongTensor)\n",
    "            # zero the parameter gradients\n",
    "            optimizer.zero_grad()\n",
    "\n",
    "            # forward + backward + optimize\n",
    "            outputs = net(inputs)\n",
    "            outputs = outputs.clamp(min = 0, max = 1)\n",
    "            predicted = (outputs>0.5).float()\n",
    "            #print(labels, outputs)\n",
    "            loss = criterion(outputs.float(), labels.float())\n",
    "            loss.backward()\n",
    "            optimizer.step()\n",
    "            total += labels.size(0)\n",
    "            # print statistics\n",
    "            running_loss = 0.33*loss.item()/labels.size(0) + 0.66*running_loss\n",
    "            TP = torch.logical_and((predicted == labels) , (labels == 1)).sum().item()\n",
    "            FN = torch.logical_and((predicted != labels) , (labels == 0)).sum().item()\n",
    "            TN = torch.logical_and((predicted == labels) , (labels == 0)).sum().item()\n",
    "            FP = torch.logical_and((predicted != labels) , (labels == 1)).sum().item()\n",
    "            precision = TP/(TP + FP + 0.0001)\n",
    "            recall = TP/(TP + FN + 0.0001)\n",
    "            #correct = 2*precision*recall/(precision + recall + 0.0001)\n",
    "            correct = precision\n",
    "            running_acc = 0.3*correct + 0.66*running_acc\n",
    "            loss_train.append(running_loss)\n",
    "            if visualize:\n",
    "                if i % train_acc_period == train_acc_period-1:\n",
    "                    print('[%d, %5d] loss: %.3f' %(epoch + 1, i + 1, running_loss))\n",
    "                    print('[%d, %5d] acc: %.3f' %(epoch + 1, i + 1, running_acc))\n",
    "                    running_loss = 0.0\n",
    "                    total = 0\n",
    "            inputs = None\n",
    "            outputs = None\n",
    "            labels = None\n",
    "            predicted = None\n",
    "      \n",
    "    if visualize:\n",
    "        print('Finished Training')\n",
    "    return(loss_train[-1])\n",
    "\n",
    "def evaluate_det(net, test_loader):\n",
    "    TP, TN, FP, FN = 0, 0, 0, 0\n",
    "    net = net.cuda()\n",
    "    for i, (inputs, labels) in tqdm(enumerate(test_loader)):\n",
    "        inputs = inputs.type(torch.cuda.FloatTensor)\n",
    "        labels = labels.type(torch.cuda.LongTensor)\n",
    "        outputs = net(inputs)\n",
    "        predicted = (outputs>0.5).float()\n",
    "        #print(predicted == labels, labels)\n",
    "        TP += torch.logical_and((predicted == labels) , (labels == 1)).sum().item()\n",
    "        FN += torch.logical_and((predicted != labels) , (labels == 0)).sum().item()\n",
    "        TN += torch.logical_and((predicted == labels) , (labels == 0)).sum().item()\n",
    "        FP += torch.logical_and((predicted != labels) , (labels == 1)).sum().item()\n",
    "        inputs = None\n",
    "        labels = None\n",
    "        predicted = None\n",
    "    print('TP: ', TP, 'FP: ', FP, 'TN: ', TN, 'FN: ', FN)\n",
    "    precision = TP/(TP + FP + 0.0001)\n",
    "    recall = TP/(TP + FN + 0.0001)\n",
    "    print('precision: ', precision, 'recall: ', recall)\n",
    "    return(precision, recall, 2*precision*recall/(precision + recall + 0.0001))"
   ]
  }
 ],
 "metadata": {
  "kernelspec": {
   "display_name": "Python 3",
   "language": "python",
   "name": "python3"
  },
  "language_info": {
   "codemirror_mode": {
    "name": "ipython",
    "version": 3
   },
   "file_extension": ".py",
   "mimetype": "text/x-python",
   "name": "python",
   "nbconvert_exporter": "python",
   "pygments_lexer": "ipython3",
   "version": "3.7.7"
  }
 },
 "nbformat": 4,
 "nbformat_minor": 4
}
